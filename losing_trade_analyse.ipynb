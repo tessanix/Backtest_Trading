{
 "cells": [
  {
   "cell_type": "code",
   "execution_count": 1,
   "metadata": {},
   "outputs": [
    {
     "data": {
      "text/html": [
       "<div>\n",
       "<style scoped>\n",
       "    .dataframe tbody tr th:only-of-type {\n",
       "        vertical-align: middle;\n",
       "    }\n",
       "\n",
       "    .dataframe tbody tr th {\n",
       "        vertical-align: top;\n",
       "    }\n",
       "\n",
       "    .dataframe thead th {\n",
       "        text-align: right;\n",
       "    }\n",
       "</style>\n",
       "<table border=\"1\" class=\"dataframe\">\n",
       "  <thead>\n",
       "    <tr style=\"text-align: right;\">\n",
       "      <th></th>\n",
       "      <th>close</th>\n",
       "      <th>high</th>\n",
       "      <th>low</th>\n",
       "      <th>open</th>\n",
       "      <th>datetime</th>\n",
       "      <th>volume</th>\n",
       "      <th>high_before_low</th>\n",
       "    </tr>\n",
       "  </thead>\n",
       "  <tbody>\n",
       "    <tr>\n",
       "      <th>0</th>\n",
       "      <td>3327.25</td>\n",
       "      <td>3327.75</td>\n",
       "      <td>3326.75</td>\n",
       "      <td>3326.75</td>\n",
       "      <td>2020-02-10 11:00:00</td>\n",
       "      <td>407</td>\n",
       "      <td>False</td>\n",
       "    </tr>\n",
       "    <tr>\n",
       "      <th>1</th>\n",
       "      <td>3327.25</td>\n",
       "      <td>3327.25</td>\n",
       "      <td>3326.50</td>\n",
       "      <td>3327.25</td>\n",
       "      <td>2020-02-10 11:01:00</td>\n",
       "      <td>126</td>\n",
       "      <td>True</td>\n",
       "    </tr>\n",
       "    <tr>\n",
       "      <th>2</th>\n",
       "      <td>3327.00</td>\n",
       "      <td>3327.25</td>\n",
       "      <td>3326.50</td>\n",
       "      <td>3327.00</td>\n",
       "      <td>2020-02-10 11:02:00</td>\n",
       "      <td>204</td>\n",
       "      <td>True</td>\n",
       "    </tr>\n",
       "    <tr>\n",
       "      <th>3</th>\n",
       "      <td>3326.50</td>\n",
       "      <td>3327.25</td>\n",
       "      <td>3326.50</td>\n",
       "      <td>3327.00</td>\n",
       "      <td>2020-02-10 11:03:00</td>\n",
       "      <td>233</td>\n",
       "      <td>True</td>\n",
       "    </tr>\n",
       "    <tr>\n",
       "      <th>4</th>\n",
       "      <td>3326.75</td>\n",
       "      <td>3326.75</td>\n",
       "      <td>3326.00</td>\n",
       "      <td>3326.50</td>\n",
       "      <td>2020-02-10 11:04:00</td>\n",
       "      <td>521</td>\n",
       "      <td>False</td>\n",
       "    </tr>\n",
       "  </tbody>\n",
       "</table>\n",
       "</div>"
      ],
      "text/plain": [
       "     close     high      low     open             datetime  volume  \\\n",
       "0  3327.25  3327.75  3326.75  3326.75  2020-02-10 11:00:00     407   \n",
       "1  3327.25  3327.25  3326.50  3327.25  2020-02-10 11:01:00     126   \n",
       "2  3327.00  3327.25  3326.50  3327.00  2020-02-10 11:02:00     204   \n",
       "3  3326.50  3327.25  3326.50  3327.00  2020-02-10 11:03:00     233   \n",
       "4  3326.75  3326.75  3326.00  3326.50  2020-02-10 11:04:00     521   \n",
       "\n",
       "   high_before_low  \n",
       "0            False  \n",
       "1             True  \n",
       "2             True  \n",
       "3             True  \n",
       "4            False  "
      ]
     },
     "execution_count": 1,
     "metadata": {},
     "output_type": "execute_result"
    }
   ],
   "source": [
    "import pandas as pd\n",
    "\n",
    "instrument=\"ES\", \n",
    "root_path = \"market_data/\"\n",
    "usecols = [\"datetime\", \"open\", \"high\", \"low\", \"close\", \"high_before_low\", \"volume\"] \n",
    "path = root_path+f\"ES_1m_2-10-2020-12-00PM_3-10-2025-12-00PM_preprocessed.csv\"\n",
    "df = pd.read_csv(\n",
    "    filepath_or_buffer=path,\n",
    "    usecols=usecols,\n",
    "    delimiter=\";\",\n",
    ")\n",
    "df.head()"
   ]
  },
  {
   "cell_type": "code",
   "execution_count": null,
   "metadata": {},
   "outputs": [],
   "source": [
    "# Il doit contenir 'timestamp' + ['open', 'high', 'low', 'close']\n",
    "df['datetime'] = pd.to_datetime(df['datetime'])\n",
    "df.set_index('datetime', inplace=True)\n",
    "\n",
    "# S'assurer que les données sont triées\n",
    "df.sort_index(inplace=True)\n",
    "\n",
    "# Grouper par date (chaque jour séparé)\n",
    "grouped = df.groupby(df.index.date)\n",
    "\n",
    "resampled_list = []\n",
    "\n",
    "for date, group in grouped:\n",
    "    group.index = pd.to_datetime(group.index)  # retransformer l'index en datetime si nécessaire\n",
    "    # Rééchantillonnage à la minute près pour ce jour-là\n",
    "    resampled = group.resample('1min').agg({\n",
    "        'open': 'first',\n",
    "        'high': 'max',\n",
    "        'low': 'min',\n",
    "        'close': 'last'\n",
    "    })\n",
    "    # Ne garder que les minutes où il y avait des données originales\n",
    "    resampled = resampled.loc[group.index.min():group.index.max()]\n",
    "    resampled_list.append(resampled)\n",
    "\n",
    "# Recombiner tous les jours\n",
    "df_resampled = pd.concat(resampled_list)\n",
    "\n",
    "# Optionnel : remplir les trous dans les données si besoin\n",
    "# df_resampled.fillna(method='ffill', inplace=True)\n",
    "\n",
    "# Reset index si tu veux repasser en dataframe \"plat\"\n",
    "df_resampled.reset_index(inplace=True)"
   ]
  },
  {
   "cell_type": "code",
   "execution_count": null,
   "metadata": {},
   "outputs": [
    {
     "data": {
      "text/html": [
       "<div>\n",
       "<style scoped>\n",
       "    .dataframe tbody tr th:only-of-type {\n",
       "        vertical-align: middle;\n",
       "    }\n",
       "\n",
       "    .dataframe tbody tr th {\n",
       "        vertical-align: top;\n",
       "    }\n",
       "\n",
       "    .dataframe thead th {\n",
       "        text-align: right;\n",
       "    }\n",
       "</style>\n",
       "<table border=\"1\" class=\"dataframe\">\n",
       "  <thead>\n",
       "    <tr style=\"text-align: right;\">\n",
       "      <th></th>\n",
       "      <th>datetime</th>\n",
       "      <th>open</th>\n",
       "      <th>high</th>\n",
       "      <th>low</th>\n",
       "      <th>close</th>\n",
       "    </tr>\n",
       "  </thead>\n",
       "  <tbody>\n",
       "    <tr>\n",
       "      <th>0</th>\n",
       "      <td>2020-02-10 11:00:00</td>\n",
       "      <td>3326.75</td>\n",
       "      <td>3327.75</td>\n",
       "      <td>3326.75</td>\n",
       "      <td>3327.25</td>\n",
       "    </tr>\n",
       "    <tr>\n",
       "      <th>1</th>\n",
       "      <td>2020-02-10 11:01:00</td>\n",
       "      <td>3327.25</td>\n",
       "      <td>3327.25</td>\n",
       "      <td>3326.50</td>\n",
       "      <td>3327.25</td>\n",
       "    </tr>\n",
       "    <tr>\n",
       "      <th>2</th>\n",
       "      <td>2020-02-10 11:02:00</td>\n",
       "      <td>3327.00</td>\n",
       "      <td>3327.25</td>\n",
       "      <td>3326.50</td>\n",
       "      <td>3327.00</td>\n",
       "    </tr>\n",
       "    <tr>\n",
       "      <th>3</th>\n",
       "      <td>2020-02-10 11:03:00</td>\n",
       "      <td>3327.00</td>\n",
       "      <td>3327.25</td>\n",
       "      <td>3326.50</td>\n",
       "      <td>3326.50</td>\n",
       "    </tr>\n",
       "    <tr>\n",
       "      <th>4</th>\n",
       "      <td>2020-02-10 11:04:00</td>\n",
       "      <td>3326.50</td>\n",
       "      <td>3326.75</td>\n",
       "      <td>3326.00</td>\n",
       "      <td>3326.75</td>\n",
       "    </tr>\n",
       "    <tr>\n",
       "      <th>...</th>\n",
       "      <td>...</td>\n",
       "      <td>...</td>\n",
       "      <td>...</td>\n",
       "      <td>...</td>\n",
       "      <td>...</td>\n",
       "    </tr>\n",
       "    <tr>\n",
       "      <th>1871920</th>\n",
       "      <td>2025-03-10 10:55:00</td>\n",
       "      <td>5711.25</td>\n",
       "      <td>5711.25</td>\n",
       "      <td>5708.75</td>\n",
       "      <td>5710.25</td>\n",
       "    </tr>\n",
       "    <tr>\n",
       "      <th>1871921</th>\n",
       "      <td>2025-03-10 10:56:00</td>\n",
       "      <td>5710.25</td>\n",
       "      <td>5711.50</td>\n",
       "      <td>5709.75</td>\n",
       "      <td>5711.50</td>\n",
       "    </tr>\n",
       "    <tr>\n",
       "      <th>1871922</th>\n",
       "      <td>2025-03-10 10:57:00</td>\n",
       "      <td>5711.50</td>\n",
       "      <td>5712.00</td>\n",
       "      <td>5709.50</td>\n",
       "      <td>5709.75</td>\n",
       "    </tr>\n",
       "    <tr>\n",
       "      <th>1871923</th>\n",
       "      <td>2025-03-10 10:58:00</td>\n",
       "      <td>5709.50</td>\n",
       "      <td>5709.75</td>\n",
       "      <td>5708.25</td>\n",
       "      <td>5708.75</td>\n",
       "    </tr>\n",
       "    <tr>\n",
       "      <th>1871924</th>\n",
       "      <td>2025-03-10 10:59:00</td>\n",
       "      <td>5708.75</td>\n",
       "      <td>5709.00</td>\n",
       "      <td>5707.75</td>\n",
       "      <td>5709.00</td>\n",
       "    </tr>\n",
       "  </tbody>\n",
       "</table>\n",
       "<p>1871925 rows × 5 columns</p>\n",
       "</div>"
      ],
      "text/plain": [
       "                   datetime     open     high      low    close\n",
       "0       2020-02-10 11:00:00  3326.75  3327.75  3326.75  3327.25\n",
       "1       2020-02-10 11:01:00  3327.25  3327.25  3326.50  3327.25\n",
       "2       2020-02-10 11:02:00  3327.00  3327.25  3326.50  3327.00\n",
       "3       2020-02-10 11:03:00  3327.00  3327.25  3326.50  3326.50\n",
       "4       2020-02-10 11:04:00  3326.50  3326.75  3326.00  3326.75\n",
       "...                     ...      ...      ...      ...      ...\n",
       "1871920 2025-03-10 10:55:00  5711.25  5711.25  5708.75  5710.25\n",
       "1871921 2025-03-10 10:56:00  5710.25  5711.50  5709.75  5711.50\n",
       "1871922 2025-03-10 10:57:00  5711.50  5712.00  5709.50  5709.75\n",
       "1871923 2025-03-10 10:58:00  5709.50  5709.75  5708.25  5708.75\n",
       "1871924 2025-03-10 10:59:00  5708.75  5709.00  5707.75  5709.00\n",
       "\n",
       "[1871925 rows x 5 columns]"
      ]
     },
     "execution_count": 3,
     "metadata": {},
     "output_type": "execute_result"
    }
   ],
   "source": [
    "df_resampled"
   ]
  },
  {
   "cell_type": "code",
   "execution_count": 10,
   "metadata": {},
   "outputs": [
    {
     "data": {
      "application/vnd.plotly.v1+json": {
       "config": {
        "plotlyServerURL": "https://plot.ly"
       },
       "data": [
        {
         "close": {
          "bdata": "AAAAAAD/s0AAAAAAwP2zQAAAAACA/LNAAAAAAED+s0AAAAAAQPyzQAAAAAAA/LNAAAAAAED6s0AAAAAAAPizQAAAAAAA+LNAAAAAAAD4s0AAAAAAgPmzQAAAAABA+rNAAAAAAED5s0AAAAAAgPmzQAAAAADA+LNAAAAAAAD4s0AAAAAAgPezQAAAAAAA97NAAAAAAID2s0AAAAAAQPezQAAAAAAA9bNAAAAAAID2s0AAAAAAwPWzQAAAAAAA9rNAAAAAAID2s0AAAAAAQPezQAAAAADA9rNAAAAAAAD3s0AAAAAAwPazQAAAAAAA9rNAAAAAAID1s0AAAAAAgPazQAAAAABA9rNAAAAAAED2s0AAAAAAwPWzQAAAAAAA9bNAAAAAAAD1s0AAAAAAwPazQAAAAACA9bNAAAAAAMD0s0AAAAAAgPWzQAAAAACA9rNAAAAAAED5s0AAAAAAwPmzQAAAAADA+LNAAAAAAED6s0AAAAAAQPqzQAAAAAAA+7NAAAAAAMD7s0AAAAAAwPyzQAAAAABA+rNAAAAAAAD5s0AAAAAAQPezQAAAAADA97NAAAAAAID6s0AAAAAAQP2zQAAAAACA/LNAAAAAAMD/s0AAAAAAAAC0QAAAAABAALRAAAAAAID+s0AAAAAAgAK0QAAAAACAAbRAAAAAAAACtEAAAAAAgAC0QAAAAADA/7NAAAAAAEAAtEAAAAAAgP+zQAAAAAAAALRAAAAAAAABtEAAAAAAgAO0QAAAAABAA7RAAAAAAIAAtEAAAAAAgAC0QAAAAACAALRAAAAAAMD8s0AAAAAAgPezQAAAAACA+bNAAAAAAAD7s0AAAAAAgPmzQAAAAAAA+7NA",
          "dtype": "f8"
         },
         "high": {
          "bdata": "AAAAAMAAtEAAAAAAAP+zQAAAAABA/rNAAAAAAID+s0AAAAAAAP6zQAAAAAAA/bNAAAAAAAD8s0AAAAAAgPqzQAAAAABA+bNAAAAAAMD5s0AAAAAAAPqzQAAAAACA+rNAAAAAAAD7s0AAAAAAAPqzQAAAAACA+bNAAAAAAMD4s0AAAAAAQPizQAAAAABA+LNAAAAAAID3s0AAAAAAwPezQAAAAACA97NAAAAAAID2s0AAAAAAAPezQAAAAAAA+LNAAAAAAMD2s0AAAAAAQPezQAAAAAAA+LNAAAAAAAD3s0AAAAAAQPezQAAAAABA97NAAAAAAED2s0AAAAAAwPazQAAAAAAA97NAAAAAAID2s0AAAAAAgPazQAAAAABA9rNAAAAAAID1s0AAAAAAwPazQAAAAADA9rNAAAAAAMD1s0AAAAAAAPazQAAAAACA9rNAAAAAAID5s0AAAAAAwPmzQAAAAAAA+rNAAAAAAAD7s0AAAAAAgPqzQAAAAAAA+7NAAAAAAMD7s0AAAAAAQP2zQAAAAABA/7NAAAAAAMD7s0AAAAAAgPmzQAAAAABA+bNAAAAAAID6s0AAAAAAQP2zQAAAAADA/bNAAAAAAIAAtEAAAAAAQAG0QAAAAADAALRAAAAAAAACtEAAAAAAgAK0QAAAAAAABLRAAAAAAAADtEAAAAAAQAK0QAAAAADAAbRAAAAAAIABtEAAAAAAgAC0QAAAAAAAAbRAAAAAAIABtEAAAAAAQAS0QAAAAADABLRAAAAAAAADtEAAAAAAwAG0QAAAAACAALRAAAAAAEABtEAAAAAAAP2zQAAAAACA+rNAAAAAAMD7s0AAAAAAgPuzQAAAAABA+7NA",
          "dtype": "f8"
         },
         "low": {
          "bdata": "AAAAAMD+s0AAAAAAwP2zQAAAAACA/LNAAAAAAED8s0AAAAAAQPyzQAAAAACA+rNAAAAAAMD5s0AAAAAAwPezQAAAAABA97NAAAAAAMD3s0AAAAAAwPezQAAAAACA+LNAAAAAAED5s0AAAAAAQPmzQAAAAACA+LNAAAAAAMD2s0AAAAAAwPWzQAAAAADA9rNAAAAAAED2s0AAAAAAQPazQAAAAADA9LNAAAAAAID0s0AAAAAAwPWzQAAAAADA9bNAAAAAAID1s0AAAAAAAPazQAAAAABA9rNAAAAAAED2s0AAAAAAgPazQAAAAADA9bNAAAAAAAD1s0AAAAAAQPWzQAAAAACA9bNAAAAAAMD1s0AAAAAAwPWzQAAAAACA9LNAAAAAAID0s0AAAAAAQPWzQAAAAACA9bNAAAAAAID0s0AAAAAAAPWzQAAAAACA9bNAAAAAAED2s0AAAAAAgPizQAAAAACA+LNAAAAAAAD5s0AAAAAAgPmzQAAAAAAA+bNAAAAAAID6s0AAAAAAQPuzQAAAAAAA+rNAAAAAAID4s0AAAAAAAPazQAAAAABA9rNAAAAAAID3s0AAAAAAAPqzQAAAAADA+bNAAAAAAAD8s0AAAAAAAP+zQAAAAADA/rNAAAAAAID+s0AAAAAAQP6zQAAAAAAAAbRAAAAAAIABtEAAAAAAwP+zQAAAAAAA/7NAAAAAAID/s0AAAAAAwP2zQAAAAABA/7NAAAAAAAD/s0AAAAAAgAC0QAAAAAAAA7RAAAAAAMD/s0AAAAAAAAC0QAAAAAAA/rNAAAAAAED8s0AAAAAAwPazQAAAAACA97NAAAAAAED4s0AAAAAAgPizQAAAAADA+LNA",
          "dtype": "f8"
         },
         "name": "SP500",
         "open": {
          "bdata": "AAAAAMD/s0AAAAAAAP+zQAAAAAAA/rNAAAAAAMD8s0AAAAAAAP6zQAAAAABA/LNAAAAAAMD7s0AAAAAAQPqzQAAAAAAA+LNAAAAAAAD4s0AAAAAAQPizQAAAAABA+bNAAAAAAAD6s0AAAAAAQPmzQAAAAABA+bNAAAAAAID4s0AAAAAAAPizQAAAAACA97NAAAAAAED3s0AAAAAAgPazQAAAAABA97NAAAAAAED1s0AAAAAAgPazQAAAAADA9bNAAAAAAAD2s0AAAAAAwPazQAAAAABA97NAAAAAAMD2s0AAAAAAAPezQAAAAADA9rNAAAAAAMD1s0AAAAAAgPWzQAAAAADA9rNAAAAAAED2s0AAAAAAQPazQAAAAADA9bNAAAAAAAD1s0AAAAAAQPWzQAAAAADA9rNAAAAAAED1s0AAAAAAAPWzQAAAAACA9bNAAAAAAED2s0AAAAAAQPmzQAAAAADA+bNAAAAAAAD5s0AAAAAAQPqzQAAAAABA+rNAAAAAAMD6s0AAAAAAwPuzQAAAAADA/LNAAAAAAED6s0AAAAAAAPmzQAAAAABA97NAAAAAAMD3s0AAAAAAgPqzQAAAAABA/bNAAAAAAID8s0AAAAAAwP+zQAAAAAAAALRAAAAAAIAAtEAAAAAAgP6zQAAAAABAArRAAAAAAIABtEAAAAAAwAG0QAAAAADAALRAAAAAAMD/s0AAAAAAQAC0QAAAAACA/7NAAAAAAAAAtEAAAAAAAAG0QAAAAACAA7RAAAAAAAADtEAAAAAAgAC0QAAAAACAALRAAAAAAIAAtEAAAAAAAP2zQAAAAADA97NAAAAAAID5s0AAAAAAAPuzQAAAAADA+bNA",
          "dtype": "f8"
         },
         "type": "candlestick",
         "x": [
          "2024-04-24T12:40:00.000000000",
          "2024-04-24T12:41:00.000000000",
          "2024-04-24T12:42:00.000000000",
          "2024-04-24T12:43:00.000000000",
          "2024-04-24T12:44:00.000000000",
          "2024-04-24T12:45:00.000000000",
          "2024-04-24T12:46:00.000000000",
          "2024-04-24T12:47:00.000000000",
          "2024-04-24T12:48:00.000000000",
          "2024-04-24T12:49:00.000000000",
          "2024-04-24T12:50:00.000000000",
          "2024-04-24T12:51:00.000000000",
          "2024-04-24T12:52:00.000000000",
          "2024-04-24T12:53:00.000000000",
          "2024-04-24T12:54:00.000000000",
          "2024-04-24T12:55:00.000000000",
          "2024-04-24T12:56:00.000000000",
          "2024-04-24T12:57:00.000000000",
          "2024-04-24T12:58:00.000000000",
          "2024-04-24T12:59:00.000000000",
          "2024-04-24T13:00:00.000000000",
          "2024-04-24T13:01:00.000000000",
          "2024-04-24T13:02:00.000000000",
          "2024-04-24T13:03:00.000000000",
          "2024-04-24T13:04:00.000000000",
          "2024-04-24T13:05:00.000000000",
          "2024-04-24T13:06:00.000000000",
          "2024-04-24T13:07:00.000000000",
          "2024-04-24T13:08:00.000000000",
          "2024-04-24T13:09:00.000000000",
          "2024-04-24T13:10:00.000000000",
          "2024-04-24T13:11:00.000000000",
          "2024-04-24T13:12:00.000000000",
          "2024-04-24T13:13:00.000000000",
          "2024-04-24T13:14:00.000000000",
          "2024-04-24T13:15:00.000000000",
          "2024-04-24T13:16:00.000000000",
          "2024-04-24T13:17:00.000000000",
          "2024-04-24T13:18:00.000000000",
          "2024-04-24T13:19:00.000000000",
          "2024-04-24T13:20:00.000000000",
          "2024-04-24T13:21:00.000000000",
          "2024-04-24T13:22:00.000000000",
          "2024-04-24T13:23:00.000000000",
          "2024-04-24T13:24:00.000000000",
          "2024-04-24T13:25:00.000000000",
          "2024-04-24T13:26:00.000000000",
          "2024-04-24T13:27:00.000000000",
          "2024-04-24T13:28:00.000000000",
          "2024-04-24T13:29:00.000000000",
          "2024-04-24T13:30:00.000000000",
          "2024-04-24T13:31:00.000000000",
          "2024-04-24T13:32:00.000000000",
          "2024-04-24T13:33:00.000000000",
          "2024-04-24T13:34:00.000000000",
          "2024-04-24T13:35:00.000000000",
          "2024-04-24T13:36:00.000000000",
          "2024-04-24T13:37:00.000000000",
          "2024-04-24T13:38:00.000000000",
          "2024-04-24T13:39:00.000000000",
          "2024-04-24T13:40:00.000000000",
          "2024-04-24T13:41:00.000000000",
          "2024-04-24T13:42:00.000000000",
          "2024-04-24T13:43:00.000000000",
          "2024-04-24T13:44:00.000000000",
          "2024-04-24T13:45:00.000000000",
          "2024-04-24T13:46:00.000000000",
          "2024-04-24T13:47:00.000000000",
          "2024-04-24T13:48:00.000000000",
          "2024-04-24T13:49:00.000000000",
          "2024-04-24T13:50:00.000000000",
          "2024-04-24T13:51:00.000000000",
          "2024-04-24T13:52:00.000000000",
          "2024-04-24T13:53:00.000000000",
          "2024-04-24T13:54:00.000000000",
          "2024-04-24T13:55:00.000000000",
          "2024-04-24T13:56:00.000000000",
          "2024-04-24T13:57:00.000000000",
          "2024-04-24T13:58:00.000000000",
          "2024-04-24T13:59:00.000000000",
          "2024-04-24T14:00:00.000000000"
         ]
        }
       ],
       "layout": {
        "template": {
         "data": {
          "bar": [
           {
            "error_x": {
             "color": "#2a3f5f"
            },
            "error_y": {
             "color": "#2a3f5f"
            },
            "marker": {
             "line": {
              "color": "#E5ECF6",
              "width": 0.5
             },
             "pattern": {
              "fillmode": "overlay",
              "size": 10,
              "solidity": 0.2
             }
            },
            "type": "bar"
           }
          ],
          "barpolar": [
           {
            "marker": {
             "line": {
              "color": "#E5ECF6",
              "width": 0.5
             },
             "pattern": {
              "fillmode": "overlay",
              "size": 10,
              "solidity": 0.2
             }
            },
            "type": "barpolar"
           }
          ],
          "carpet": [
           {
            "aaxis": {
             "endlinecolor": "#2a3f5f",
             "gridcolor": "white",
             "linecolor": "white",
             "minorgridcolor": "white",
             "startlinecolor": "#2a3f5f"
            },
            "baxis": {
             "endlinecolor": "#2a3f5f",
             "gridcolor": "white",
             "linecolor": "white",
             "minorgridcolor": "white",
             "startlinecolor": "#2a3f5f"
            },
            "type": "carpet"
           }
          ],
          "choropleth": [
           {
            "colorbar": {
             "outlinewidth": 0,
             "ticks": ""
            },
            "type": "choropleth"
           }
          ],
          "contour": [
           {
            "colorbar": {
             "outlinewidth": 0,
             "ticks": ""
            },
            "colorscale": [
             [
              0,
              "#0d0887"
             ],
             [
              0.1111111111111111,
              "#46039f"
             ],
             [
              0.2222222222222222,
              "#7201a8"
             ],
             [
              0.3333333333333333,
              "#9c179e"
             ],
             [
              0.4444444444444444,
              "#bd3786"
             ],
             [
              0.5555555555555556,
              "#d8576b"
             ],
             [
              0.6666666666666666,
              "#ed7953"
             ],
             [
              0.7777777777777778,
              "#fb9f3a"
             ],
             [
              0.8888888888888888,
              "#fdca26"
             ],
             [
              1,
              "#f0f921"
             ]
            ],
            "type": "contour"
           }
          ],
          "contourcarpet": [
           {
            "colorbar": {
             "outlinewidth": 0,
             "ticks": ""
            },
            "type": "contourcarpet"
           }
          ],
          "heatmap": [
           {
            "colorbar": {
             "outlinewidth": 0,
             "ticks": ""
            },
            "colorscale": [
             [
              0,
              "#0d0887"
             ],
             [
              0.1111111111111111,
              "#46039f"
             ],
             [
              0.2222222222222222,
              "#7201a8"
             ],
             [
              0.3333333333333333,
              "#9c179e"
             ],
             [
              0.4444444444444444,
              "#bd3786"
             ],
             [
              0.5555555555555556,
              "#d8576b"
             ],
             [
              0.6666666666666666,
              "#ed7953"
             ],
             [
              0.7777777777777778,
              "#fb9f3a"
             ],
             [
              0.8888888888888888,
              "#fdca26"
             ],
             [
              1,
              "#f0f921"
             ]
            ],
            "type": "heatmap"
           }
          ],
          "histogram": [
           {
            "marker": {
             "pattern": {
              "fillmode": "overlay",
              "size": 10,
              "solidity": 0.2
             }
            },
            "type": "histogram"
           }
          ],
          "histogram2d": [
           {
            "colorbar": {
             "outlinewidth": 0,
             "ticks": ""
            },
            "colorscale": [
             [
              0,
              "#0d0887"
             ],
             [
              0.1111111111111111,
              "#46039f"
             ],
             [
              0.2222222222222222,
              "#7201a8"
             ],
             [
              0.3333333333333333,
              "#9c179e"
             ],
             [
              0.4444444444444444,
              "#bd3786"
             ],
             [
              0.5555555555555556,
              "#d8576b"
             ],
             [
              0.6666666666666666,
              "#ed7953"
             ],
             [
              0.7777777777777778,
              "#fb9f3a"
             ],
             [
              0.8888888888888888,
              "#fdca26"
             ],
             [
              1,
              "#f0f921"
             ]
            ],
            "type": "histogram2d"
           }
          ],
          "histogram2dcontour": [
           {
            "colorbar": {
             "outlinewidth": 0,
             "ticks": ""
            },
            "colorscale": [
             [
              0,
              "#0d0887"
             ],
             [
              0.1111111111111111,
              "#46039f"
             ],
             [
              0.2222222222222222,
              "#7201a8"
             ],
             [
              0.3333333333333333,
              "#9c179e"
             ],
             [
              0.4444444444444444,
              "#bd3786"
             ],
             [
              0.5555555555555556,
              "#d8576b"
             ],
             [
              0.6666666666666666,
              "#ed7953"
             ],
             [
              0.7777777777777778,
              "#fb9f3a"
             ],
             [
              0.8888888888888888,
              "#fdca26"
             ],
             [
              1,
              "#f0f921"
             ]
            ],
            "type": "histogram2dcontour"
           }
          ],
          "mesh3d": [
           {
            "colorbar": {
             "outlinewidth": 0,
             "ticks": ""
            },
            "type": "mesh3d"
           }
          ],
          "parcoords": [
           {
            "line": {
             "colorbar": {
              "outlinewidth": 0,
              "ticks": ""
             }
            },
            "type": "parcoords"
           }
          ],
          "pie": [
           {
            "automargin": true,
            "type": "pie"
           }
          ],
          "scatter": [
           {
            "fillpattern": {
             "fillmode": "overlay",
             "size": 10,
             "solidity": 0.2
            },
            "type": "scatter"
           }
          ],
          "scatter3d": [
           {
            "line": {
             "colorbar": {
              "outlinewidth": 0,
              "ticks": ""
             }
            },
            "marker": {
             "colorbar": {
              "outlinewidth": 0,
              "ticks": ""
             }
            },
            "type": "scatter3d"
           }
          ],
          "scattercarpet": [
           {
            "marker": {
             "colorbar": {
              "outlinewidth": 0,
              "ticks": ""
             }
            },
            "type": "scattercarpet"
           }
          ],
          "scattergeo": [
           {
            "marker": {
             "colorbar": {
              "outlinewidth": 0,
              "ticks": ""
             }
            },
            "type": "scattergeo"
           }
          ],
          "scattergl": [
           {
            "marker": {
             "colorbar": {
              "outlinewidth": 0,
              "ticks": ""
             }
            },
            "type": "scattergl"
           }
          ],
          "scattermap": [
           {
            "marker": {
             "colorbar": {
              "outlinewidth": 0,
              "ticks": ""
             }
            },
            "type": "scattermap"
           }
          ],
          "scattermapbox": [
           {
            "marker": {
             "colorbar": {
              "outlinewidth": 0,
              "ticks": ""
             }
            },
            "type": "scattermapbox"
           }
          ],
          "scatterpolar": [
           {
            "marker": {
             "colorbar": {
              "outlinewidth": 0,
              "ticks": ""
             }
            },
            "type": "scatterpolar"
           }
          ],
          "scatterpolargl": [
           {
            "marker": {
             "colorbar": {
              "outlinewidth": 0,
              "ticks": ""
             }
            },
            "type": "scatterpolargl"
           }
          ],
          "scatterternary": [
           {
            "marker": {
             "colorbar": {
              "outlinewidth": 0,
              "ticks": ""
             }
            },
            "type": "scatterternary"
           }
          ],
          "surface": [
           {
            "colorbar": {
             "outlinewidth": 0,
             "ticks": ""
            },
            "colorscale": [
             [
              0,
              "#0d0887"
             ],
             [
              0.1111111111111111,
              "#46039f"
             ],
             [
              0.2222222222222222,
              "#7201a8"
             ],
             [
              0.3333333333333333,
              "#9c179e"
             ],
             [
              0.4444444444444444,
              "#bd3786"
             ],
             [
              0.5555555555555556,
              "#d8576b"
             ],
             [
              0.6666666666666666,
              "#ed7953"
             ],
             [
              0.7777777777777778,
              "#fb9f3a"
             ],
             [
              0.8888888888888888,
              "#fdca26"
             ],
             [
              1,
              "#f0f921"
             ]
            ],
            "type": "surface"
           }
          ],
          "table": [
           {
            "cells": {
             "fill": {
              "color": "#EBF0F8"
             },
             "line": {
              "color": "white"
             }
            },
            "header": {
             "fill": {
              "color": "#C8D4E3"
             },
             "line": {
              "color": "white"
             }
            },
            "type": "table"
           }
          ]
         },
         "layout": {
          "annotationdefaults": {
           "arrowcolor": "#2a3f5f",
           "arrowhead": 0,
           "arrowwidth": 1
          },
          "autotypenumbers": "strict",
          "coloraxis": {
           "colorbar": {
            "outlinewidth": 0,
            "ticks": ""
           }
          },
          "colorscale": {
           "diverging": [
            [
             0,
             "#8e0152"
            ],
            [
             0.1,
             "#c51b7d"
            ],
            [
             0.2,
             "#de77ae"
            ],
            [
             0.3,
             "#f1b6da"
            ],
            [
             0.4,
             "#fde0ef"
            ],
            [
             0.5,
             "#f7f7f7"
            ],
            [
             0.6,
             "#e6f5d0"
            ],
            [
             0.7,
             "#b8e186"
            ],
            [
             0.8,
             "#7fbc41"
            ],
            [
             0.9,
             "#4d9221"
            ],
            [
             1,
             "#276419"
            ]
           ],
           "sequential": [
            [
             0,
             "#0d0887"
            ],
            [
             0.1111111111111111,
             "#46039f"
            ],
            [
             0.2222222222222222,
             "#7201a8"
            ],
            [
             0.3333333333333333,
             "#9c179e"
            ],
            [
             0.4444444444444444,
             "#bd3786"
            ],
            [
             0.5555555555555556,
             "#d8576b"
            ],
            [
             0.6666666666666666,
             "#ed7953"
            ],
            [
             0.7777777777777778,
             "#fb9f3a"
            ],
            [
             0.8888888888888888,
             "#fdca26"
            ],
            [
             1,
             "#f0f921"
            ]
           ],
           "sequentialminus": [
            [
             0,
             "#0d0887"
            ],
            [
             0.1111111111111111,
             "#46039f"
            ],
            [
             0.2222222222222222,
             "#7201a8"
            ],
            [
             0.3333333333333333,
             "#9c179e"
            ],
            [
             0.4444444444444444,
             "#bd3786"
            ],
            [
             0.5555555555555556,
             "#d8576b"
            ],
            [
             0.6666666666666666,
             "#ed7953"
            ],
            [
             0.7777777777777778,
             "#fb9f3a"
            ],
            [
             0.8888888888888888,
             "#fdca26"
            ],
            [
             1,
             "#f0f921"
            ]
           ]
          },
          "colorway": [
           "#636efa",
           "#EF553B",
           "#00cc96",
           "#ab63fa",
           "#FFA15A",
           "#19d3f3",
           "#FF6692",
           "#B6E880",
           "#FF97FF",
           "#FECB52"
          ],
          "font": {
           "color": "#2a3f5f"
          },
          "geo": {
           "bgcolor": "white",
           "lakecolor": "white",
           "landcolor": "#E5ECF6",
           "showlakes": true,
           "showland": true,
           "subunitcolor": "white"
          },
          "hoverlabel": {
           "align": "left"
          },
          "hovermode": "closest",
          "mapbox": {
           "style": "light"
          },
          "paper_bgcolor": "white",
          "plot_bgcolor": "#E5ECF6",
          "polar": {
           "angularaxis": {
            "gridcolor": "white",
            "linecolor": "white",
            "ticks": ""
           },
           "bgcolor": "#E5ECF6",
           "radialaxis": {
            "gridcolor": "white",
            "linecolor": "white",
            "ticks": ""
           }
          },
          "scene": {
           "xaxis": {
            "backgroundcolor": "#E5ECF6",
            "gridcolor": "white",
            "gridwidth": 2,
            "linecolor": "white",
            "showbackground": true,
            "ticks": "",
            "zerolinecolor": "white"
           },
           "yaxis": {
            "backgroundcolor": "#E5ECF6",
            "gridcolor": "white",
            "gridwidth": 2,
            "linecolor": "white",
            "showbackground": true,
            "ticks": "",
            "zerolinecolor": "white"
           },
           "zaxis": {
            "backgroundcolor": "#E5ECF6",
            "gridcolor": "white",
            "gridwidth": 2,
            "linecolor": "white",
            "showbackground": true,
            "ticks": "",
            "zerolinecolor": "white"
           }
          },
          "shapedefaults": {
           "line": {
            "color": "#2a3f5f"
           }
          },
          "ternary": {
           "aaxis": {
            "gridcolor": "white",
            "linecolor": "white",
            "ticks": ""
           },
           "baxis": {
            "gridcolor": "white",
            "linecolor": "white",
            "ticks": ""
           },
           "bgcolor": "#E5ECF6",
           "caxis": {
            "gridcolor": "white",
            "linecolor": "white",
            "ticks": ""
           }
          },
          "title": {
           "x": 0.05
          },
          "xaxis": {
           "automargin": true,
           "gridcolor": "white",
           "linecolor": "white",
           "ticks": "",
           "title": {
            "standoff": 15
           },
           "zerolinecolor": "white",
           "zerolinewidth": 2
          },
          "yaxis": {
           "automargin": true,
           "gridcolor": "white",
           "linecolor": "white",
           "ticks": "",
           "title": {
            "standoff": 15
           },
           "zerolinecolor": "white",
           "zerolinewidth": 2
          }
         }
        }
       }
      }
     },
     "metadata": {},
     "output_type": "display_data"
    }
   ],
   "source": [
    "import plotly.graph_objects as go\n",
    "start_date = pd.to_datetime(\"2024-04-24 12:40:00\") \t\n",
    "end_date = pd.to_datetime(\"2024-04-24 14:00:00\")\n",
    "df_plot = df_resampled[(start_date<=df_resampled[\"datetime\"]) & (df_resampled[\"datetime\"]<=end_date)]\n",
    "\n",
    "fig = go.Figure(data=[go.Candlestick(\n",
    "    x=df_plot['datetime'],\n",
    "    open=df_plot['open'],\n",
    "    high=df_plot['high'],\n",
    "    low=df_plot['low'],\n",
    "    close=df_plot['close'],\n",
    "    name='SP500',\n",
    ")])\n",
    "fig.write_html(\"original_price.html\")\n",
    "fig.show()"
   ]
  },
  {
   "cell_type": "code",
   "execution_count": 6,
   "metadata": {},
   "outputs": [
    {
     "data": {
      "text/html": [
       "<div>\n",
       "<style scoped>\n",
       "    .dataframe tbody tr th:only-of-type {\n",
       "        vertical-align: middle;\n",
       "    }\n",
       "\n",
       "    .dataframe tbody tr th {\n",
       "        vertical-align: top;\n",
       "    }\n",
       "\n",
       "    .dataframe thead th {\n",
       "        text-align: right;\n",
       "    }\n",
       "</style>\n",
       "<table border=\"1\" class=\"dataframe\">\n",
       "  <thead>\n",
       "    <tr style=\"text-align: right;\">\n",
       "      <th></th>\n",
       "      <th>datetime</th>\n",
       "      <th>open</th>\n",
       "      <th>high</th>\n",
       "      <th>low</th>\n",
       "      <th>close</th>\n",
       "      <th>high_before_low</th>\n",
       "      <th>tenkan</th>\n",
       "      <th>kijun</th>\n",
       "      <th>ssa</th>\n",
       "      <th>ssb</th>\n",
       "      <th>...</th>\n",
       "      <th>PP</th>\n",
       "      <th>R1</th>\n",
       "      <th>R2</th>\n",
       "      <th>R3</th>\n",
       "      <th>S1</th>\n",
       "      <th>S2</th>\n",
       "      <th>S3</th>\n",
       "      <th>Previous Close</th>\n",
       "      <th>TR</th>\n",
       "      <th>ATR</th>\n",
       "    </tr>\n",
       "  </thead>\n",
       "  <tbody>\n",
       "    <tr>\n",
       "      <th>0</th>\n",
       "      <td>2023-03-27 08:15:00</td>\n",
       "      <td>4010.75</td>\n",
       "      <td>4010.75</td>\n",
       "      <td>4008.50</td>\n",
       "      <td>4009.75</td>\n",
       "      <td>False</td>\n",
       "      <td>4009.75</td>\n",
       "      <td>4005.625</td>\n",
       "      <td>4004.7500</td>\n",
       "      <td>4012.125</td>\n",
       "      <td>...</td>\n",
       "      <td>4019.25</td>\n",
       "      <td>4032.0</td>\n",
       "      <td>4040.0</td>\n",
       "      <td>4060.75</td>\n",
       "      <td>4011.25</td>\n",
       "      <td>3998.5</td>\n",
       "      <td>3977.75</td>\n",
       "      <td>4011.00</td>\n",
       "      <td>2.50</td>\n",
       "      <td>1.785714</td>\n",
       "    </tr>\n",
       "    <tr>\n",
       "      <th>1</th>\n",
       "      <td>2023-03-27 08:16:00</td>\n",
       "      <td>4010.00</td>\n",
       "      <td>4011.00</td>\n",
       "      <td>4008.75</td>\n",
       "      <td>4009.50</td>\n",
       "      <td>True</td>\n",
       "      <td>4010.00</td>\n",
       "      <td>4006.000</td>\n",
       "      <td>4003.6875</td>\n",
       "      <td>4012.125</td>\n",
       "      <td>...</td>\n",
       "      <td>4019.25</td>\n",
       "      <td>4032.0</td>\n",
       "      <td>4040.0</td>\n",
       "      <td>4060.75</td>\n",
       "      <td>4011.25</td>\n",
       "      <td>3998.5</td>\n",
       "      <td>3977.75</td>\n",
       "      <td>4009.75</td>\n",
       "      <td>2.25</td>\n",
       "      <td>1.714286</td>\n",
       "    </tr>\n",
       "    <tr>\n",
       "      <th>2</th>\n",
       "      <td>2023-03-27 08:17:00</td>\n",
       "      <td>4009.25</td>\n",
       "      <td>4010.00</td>\n",
       "      <td>4008.75</td>\n",
       "      <td>4010.00</td>\n",
       "      <td>False</td>\n",
       "      <td>4010.00</td>\n",
       "      <td>4006.000</td>\n",
       "      <td>4003.6875</td>\n",
       "      <td>4012.125</td>\n",
       "      <td>...</td>\n",
       "      <td>4019.25</td>\n",
       "      <td>4032.0</td>\n",
       "      <td>4040.0</td>\n",
       "      <td>4060.75</td>\n",
       "      <td>4011.25</td>\n",
       "      <td>3998.5</td>\n",
       "      <td>3977.75</td>\n",
       "      <td>4009.50</td>\n",
       "      <td>1.25</td>\n",
       "      <td>1.696429</td>\n",
       "    </tr>\n",
       "    <tr>\n",
       "      <th>3</th>\n",
       "      <td>2023-03-27 08:18:00</td>\n",
       "      <td>4009.75</td>\n",
       "      <td>4010.75</td>\n",
       "      <td>4009.50</td>\n",
       "      <td>4010.75</td>\n",
       "      <td>False</td>\n",
       "      <td>4010.00</td>\n",
       "      <td>4006.875</td>\n",
       "      <td>4003.4375</td>\n",
       "      <td>4012.125</td>\n",
       "      <td>...</td>\n",
       "      <td>4019.25</td>\n",
       "      <td>4032.0</td>\n",
       "      <td>4040.0</td>\n",
       "      <td>4060.75</td>\n",
       "      <td>4011.25</td>\n",
       "      <td>3998.5</td>\n",
       "      <td>3977.75</td>\n",
       "      <td>4010.00</td>\n",
       "      <td>1.25</td>\n",
       "      <td>1.660714</td>\n",
       "    </tr>\n",
       "    <tr>\n",
       "      <th>4</th>\n",
       "      <td>2023-03-27 08:19:00</td>\n",
       "      <td>4010.50</td>\n",
       "      <td>4010.75</td>\n",
       "      <td>4009.50</td>\n",
       "      <td>4010.00</td>\n",
       "      <td>True</td>\n",
       "      <td>4010.00</td>\n",
       "      <td>4007.000</td>\n",
       "      <td>4003.1875</td>\n",
       "      <td>4012.125</td>\n",
       "      <td>...</td>\n",
       "      <td>4019.25</td>\n",
       "      <td>4032.0</td>\n",
       "      <td>4040.0</td>\n",
       "      <td>4060.75</td>\n",
       "      <td>4011.25</td>\n",
       "      <td>3998.5</td>\n",
       "      <td>3977.75</td>\n",
       "      <td>4010.75</td>\n",
       "      <td>1.25</td>\n",
       "      <td>1.607143</td>\n",
       "    </tr>\n",
       "  </tbody>\n",
       "</table>\n",
       "<p>5 rows × 27 columns</p>\n",
       "</div>"
      ],
      "text/plain": [
       "             datetime     open     high      low    close  high_before_low  \\\n",
       "0 2023-03-27 08:15:00  4010.75  4010.75  4008.50  4009.75            False   \n",
       "1 2023-03-27 08:16:00  4010.00  4011.00  4008.75  4009.50             True   \n",
       "2 2023-03-27 08:17:00  4009.25  4010.00  4008.75  4010.00            False   \n",
       "3 2023-03-27 08:18:00  4009.75  4010.75  4009.50  4010.75            False   \n",
       "4 2023-03-27 08:19:00  4010.50  4010.75  4009.50  4010.00             True   \n",
       "\n",
       "    tenkan     kijun        ssa       ssb  ...       PP      R1      R2  \\\n",
       "0  4009.75  4005.625  4004.7500  4012.125  ...  4019.25  4032.0  4040.0   \n",
       "1  4010.00  4006.000  4003.6875  4012.125  ...  4019.25  4032.0  4040.0   \n",
       "2  4010.00  4006.000  4003.6875  4012.125  ...  4019.25  4032.0  4040.0   \n",
       "3  4010.00  4006.875  4003.4375  4012.125  ...  4019.25  4032.0  4040.0   \n",
       "4  4010.00  4007.000  4003.1875  4012.125  ...  4019.25  4032.0  4040.0   \n",
       "\n",
       "        R3       S1      S2       S3  Previous Close    TR       ATR  \n",
       "0  4060.75  4011.25  3998.5  3977.75         4011.00  2.50  1.785714  \n",
       "1  4060.75  4011.25  3998.5  3977.75         4009.75  2.25  1.714286  \n",
       "2  4060.75  4011.25  3998.5  3977.75         4009.50  1.25  1.696429  \n",
       "3  4060.75  4011.25  3998.5  3977.75         4010.00  1.25  1.660714  \n",
       "4  4060.75  4011.25  3998.5  3977.75         4010.75  1.25  1.607143  \n",
       "\n",
       "[5 rows x 27 columns]"
      ]
     },
     "execution_count": 6,
     "metadata": {},
     "output_type": "execute_result"
    }
   ],
   "source": [
    "from processing_functions import create_df\n",
    "start_date = \"2023-03-24 12:00\"\n",
    "end_date = \"2025-02-10 10:00\"\n",
    "df_main = create_df(timeFramesUsedInMinutes=[\"1\",\"5\", \"15\"], instrument=\"ES\", \n",
    "                    start_date = start_date, end_date = end_date, putVolumeInData=False) \n",
    "df_main.head()"
   ]
  },
  {
   "cell_type": "code",
   "execution_count": 2,
   "metadata": {},
   "outputs": [],
   "source": [
    "from processing_functions import load_object\n",
    "\n",
    "filename = 'ES_m1_position=1_2025-04-19_17-51-03.088870'\n",
    "filepath = f\"trade_datas/ES/2023-03-24_12-00_2025-02-10_10-00/{filename}.pkl\"\n",
    "trades_database = load_object(filepath)\n",
    "\n",
    "selected_id = 10\n",
    "df = trades_database[selected_id][0]"
   ]
  },
  {
   "cell_type": "code",
   "execution_count": 8,
   "metadata": {},
   "outputs": [],
   "source": [
    "import pandas as pd\n",
    "start_date=\"2024-04-01 07:00:00\"\n",
    "end_date=\"2024-04-25 19:00:00\"\n",
    "df = df[(pd.to_datetime(start_date)<=df[\"entry_date\"]) & (df[\"entry_date\"]<=pd.to_datetime(end_date))]\n",
    "df_losing = df[df[\"profit_from_start(%)\"] > 0]"
   ]
  },
  {
   "cell_type": "code",
   "execution_count": 9,
   "metadata": {},
   "outputs": [
    {
     "data": {
      "text/html": [
       "<div>\n",
       "<style scoped>\n",
       "    .dataframe tbody tr th:only-of-type {\n",
       "        vertical-align: middle;\n",
       "    }\n",
       "\n",
       "    .dataframe tbody tr th {\n",
       "        vertical-align: top;\n",
       "    }\n",
       "\n",
       "    .dataframe thead th {\n",
       "        text-align: right;\n",
       "    }\n",
       "</style>\n",
       "<table border=\"1\" class=\"dataframe\">\n",
       "  <thead>\n",
       "    <tr style=\"text-align: right;\">\n",
       "      <th></th>\n",
       "      <th>entry_date</th>\n",
       "      <th>exit_date</th>\n",
       "      <th>entry_price</th>\n",
       "      <th>exit_price</th>\n",
       "      <th>position</th>\n",
       "      <th>profit_including_fees_from_start(%)</th>\n",
       "      <th>profit_from_start(%)</th>\n",
       "    </tr>\n",
       "  </thead>\n",
       "  <tbody>\n",
       "    <tr>\n",
       "      <th>634</th>\n",
       "      <td>2024-04-23 13:45:00</td>\n",
       "      <td>2024-04-23 14:57:00</td>\n",
       "      <td>5083.50</td>\n",
       "      <td>5105.107143</td>\n",
       "      <td>Position.LONG</td>\n",
       "      <td>3.317173</td>\n",
       "      <td>3.325893</td>\n",
       "    </tr>\n",
       "    <tr>\n",
       "      <th>635</th>\n",
       "      <td>2024-04-24 12:22:00</td>\n",
       "      <td>2024-04-24 13:52:00</td>\n",
       "      <td>5121.75</td>\n",
       "      <td>5122.500000</td>\n",
       "      <td>Position.LONG</td>\n",
       "      <td>0.066280</td>\n",
       "      <td>0.075000</td>\n",
       "    </tr>\n",
       "    <tr>\n",
       "      <th>637</th>\n",
       "      <td>2024-04-24 20:05:00</td>\n",
       "      <td>2024-04-24 22:00:00</td>\n",
       "      <td>5090.00</td>\n",
       "      <td>5073.000000</td>\n",
       "      <td>Position.SHORT</td>\n",
       "      <td>1.691280</td>\n",
       "      <td>1.700000</td>\n",
       "    </tr>\n",
       "    <tr>\n",
       "      <th>638</th>\n",
       "      <td>2024-04-25 07:57:00</td>\n",
       "      <td>2024-04-25 11:04:00</td>\n",
       "      <td>5072.25</td>\n",
       "      <td>5071.542857</td>\n",
       "      <td>Position.SHORT</td>\n",
       "      <td>0.061994</td>\n",
       "      <td>0.070714</td>\n",
       "    </tr>\n",
       "    <tr>\n",
       "      <th>639</th>\n",
       "      <td>2024-04-25 11:27:00</td>\n",
       "      <td>2024-04-25 12:30:00</td>\n",
       "      <td>5072.00</td>\n",
       "      <td>5065.250000</td>\n",
       "      <td>Position.SHORT</td>\n",
       "      <td>0.666280</td>\n",
       "      <td>0.675000</td>\n",
       "    </tr>\n",
       "  </tbody>\n",
       "</table>\n",
       "</div>"
      ],
      "text/plain": [
       "             entry_date           exit_date  entry_price   exit_price  \\\n",
       "634 2024-04-23 13:45:00 2024-04-23 14:57:00      5083.50  5105.107143   \n",
       "635 2024-04-24 12:22:00 2024-04-24 13:52:00      5121.75  5122.500000   \n",
       "637 2024-04-24 20:05:00 2024-04-24 22:00:00      5090.00  5073.000000   \n",
       "638 2024-04-25 07:57:00 2024-04-25 11:04:00      5072.25  5071.542857   \n",
       "639 2024-04-25 11:27:00 2024-04-25 12:30:00      5072.00  5065.250000   \n",
       "\n",
       "           position  profit_including_fees_from_start(%)  profit_from_start(%)  \n",
       "634   Position.LONG                             3.317173              3.325893  \n",
       "635   Position.LONG                             0.066280              0.075000  \n",
       "637  Position.SHORT                             1.691280              1.700000  \n",
       "638  Position.SHORT                             0.061994              0.070714  \n",
       "639  Position.SHORT                             0.666280              0.675000  "
      ]
     },
     "execution_count": 9,
     "metadata": {},
     "output_type": "execute_result"
    }
   ],
   "source": [
    "df_losing.tail()"
   ]
  },
  {
   "cell_type": "code",
   "execution_count": null,
   "metadata": {},
   "outputs": [
    {
     "data": {
      "application/vnd.plotly.v1+json": {
       "config": {
        "plotlyServerURL": "https://plot.ly"
       },
       "data": [
        {
         "close": {
          "bdata": "AAAAAADRs0AAAAAAgNGzQAAAAADA0LNAAAAAAIDQs0AAAAAAQM+zQAAAAABAzrNAAAAAAADPs0AAAAAAwNCzQAAAAABA0bNAAAAAAMDQs0AAAAAAQNCzQAAAAACAz7NAAAAAAEDPs0AAAAAAwM+zQAAAAABAz7NAAAAAAADRs0AAAAAAANGzQAAAAACA0bNAAAAAAADSs0AAAAAAgNKzQAAAAACA07NAAAAAAMDTs0AAAAAAANSzQAAAAAAA07NAAAAAAIDSs0AAAAAAQNKzQAAAAABA0rNAAAAAAMDRs0AAAAAAANKzQAAAAABA0rNAAAAAAADQs0AAAAAAANCzQAAAAADAz7NAAAAAAIDPs0AAAAAAQNCzQAAAAAAA0LNAAAAAAMDPs0AAAAAAQM+zQAAAAADAzrNAAAAAAADOs0AAAAAAAM6zQAAAAABAzbNAAAAAAIDOs0AAAAAAQM+zQAAAAAAA0LNAAAAAAADRs0AAAAAAgNCzQAAAAACA0rNAAAAAAMDRs0AAAAAAQNKzQAAAAADA0rNAAAAAAMDTs0AAAAAAANSzQAAAAACA07NAAAAAAIDTs0AAAAAAwNOzQAAAAACA07NAAAAAAMDTs0AAAAAAwNOzQAAAAAAA1bNAAAAAAADVs0AAAAAAwNSzQAAAAACA1LNAAAAAAIDSs0AAAAAAgNKzQAAAAABA0rNAAAAAAEDSs0AAAAAAANKzQAAAAADAz7NAAAAAAEDSs0AAAAAAANGzQAAAAAAA0rNAAAAAAADSs0AAAAAAwNCzQAAAAABAz7NAAAAAAIDOs0AAAAAAwM+zQAAAAAAA0LNAAAAAAMDOs0AAAAAAwM6zQAAAAACAzLNAAAAAAADNs0AAAAAAwM2zQAAAAADAzbNAAAAAAIDOs0AAAAAAQM6zQAAAAACAz7NAAAAAAEDNs0AAAAAAQM6zQAAAAACAzrNAAAAAAIDPs0AAAAAAQM+zQAAAAAAAz7NAAAAAAEDCs0AAAAAAwL6zQAAAAAAAvLNAAAAAAMC7s0AAAAAAwL+zQAAAAABAwrNAAAAAAMC8s0AAAAAAQLyzQAAAAADAvLNAAAAAAAC5s0AAAAAAALizQAAAAADAubNAAAAAAIC5s0AAAAAAQLqzQAAAAABAu7NAAAAAAAC5s0AAAAAAALazQAAAAAAAt7NAAAAAAAC3s0AAAAAAgLWzQAAAAAAAtLNAAAAAAMCzs0AAAAAAQLSzQAAAAAAAs7NAAAAAAIC0s0AAAAAAwLOzQAAAAACAs7NAAAAAAEC1s0AAAAAAALazQAAAAADAtLNAAAAAAIC1s0A=",
          "dtype": "f8"
         },
         "high": {
          "bdata": "AAAAAADRs0AAAAAAwNGzQAAAAAAA0rNAAAAAAADRs0AAAAAAQNCzQAAAAABAz7NAAAAAAEDPs0AAAAAAANGzQAAAAACA0bNAAAAAAIDRs0AAAAAAgNGzQAAAAAAA0bNAAAAAAMDPs0AAAAAAQNCzQAAAAAAA0LNAAAAAAADRs0AAAAAAANGzQAAAAACA0bNAAAAAAEDSs0AAAAAAANOzQAAAAACA07NAAAAAAEDUs0AAAAAAQNSzQAAAAACA1LNAAAAAAEDTs0AAAAAAwNKzQAAAAABA0rNAAAAAAEDSs0AAAAAAgNKzQAAAAACA0rNAAAAAAADSs0AAAAAAQNCzQAAAAACA0LNAAAAAAMDQs0AAAAAAwNCzQAAAAAAA0LNAAAAAAIDQs0AAAAAAwM+zQAAAAADAz7NAAAAAAIDPs0AAAAAAgM6zQAAAAABAzrNAAAAAAADPs0AAAAAAQM+zQAAAAAAA0LNAAAAAAEDRs0AAAAAAQNGzQAAAAACA0rNAAAAAAMDSs0AAAAAAQNKzQAAAAAAA07NAAAAAAEDUs0AAAAAAANSzQAAAAABA1LNAAAAAAMDTs0AAAAAAQNSzQAAAAADA07NAAAAAAEDUs0AAAAAAwNOzQAAAAAAA1bNAAAAAAADVs0AAAAAAANWzQAAAAAAA1bNAAAAAAEDUs0AAAAAAwNKzQAAAAACA0rNAAAAAAEDSs0AAAAAAgNKzQAAAAAAA0rNAAAAAAIDSs0AAAAAAgNKzQAAAAABA0rNAAAAAAMDSs0AAAAAAANKzQAAAAACA0bNAAAAAAIDPs0AAAAAAANCzQAAAAABA0LNAAAAAAIDQs0AAAAAAwM6zQAAAAACAzrNAAAAAAEDOs0AAAAAAQM6zQAAAAACAzrNAAAAAAMDOs0AAAAAAAM+zQAAAAADAz7NAAAAAAIDPs0AAAAAAwM6zQAAAAAAAz7NAAAAAAMDPs0AAAAAAgNCzQAAAAAAA0LNAAAAAAIDYs0AAAAAAAMazQAAAAADAv7NAAAAAAMC/s0AAAAAAQMCzQAAAAACAxLNAAAAAAIDDs0AAAAAAwL6zQAAAAADAvbNAAAAAAMC8s0AAAAAAwLqzQAAAAAAAu7NAAAAAAMC5s0AAAAAAwLqzQAAAAACAvLNAAAAAAMC8s0AAAAAAQLmzQAAAAABAubNAAAAAAMC5s0AAAAAAQLezQAAAAADAtrNAAAAAAMC1s0AAAAAAQLWzQAAAAACAtbNAAAAAAEC1s0AAAAAAgLWzQAAAAADAtLNAAAAAAAC2s0AAAAAAALazQAAAAADAtbNAAAAAAIC2s0A=",
          "dtype": "f8"
         },
         "low": {
          "bdata": "AAAAAADQs0AAAAAAwNCzQAAAAADA0LNAAAAAAIDPs0AAAAAAQM+zQAAAAADAzLNAAAAAAADOs0AAAAAAAM+zQAAAAACA0LNAAAAAAEDQs0AAAAAAANCzQAAAAAAAz7NAAAAAAEDOs0AAAAAAgM6zQAAAAABAz7NAAAAAAEDPs0AAAAAAgNCzQAAAAADA0LNAAAAAAADRs0AAAAAAANKzQAAAAABA0rNAAAAAAIDTs0AAAAAAQNOzQAAAAADA0rNAAAAAAEDSs0AAAAAAQNKzQAAAAADA0LNAAAAAAIDRs0AAAAAAANKzQAAAAACA0bNAAAAAAMDPs0AAAAAAwM6zQAAAAADAz7NAAAAAAIDPs0AAAAAAQM+zQAAAAABAz7NAAAAAAMDPs0AAAAAAAM+zQAAAAACAzrNAAAAAAIDMs0AAAAAAQM2zQAAAAACAzLNAAAAAAADNs0AAAAAAgM6zQAAAAAAAzrNAAAAAAADQs0AAAAAAQNCzQAAAAACA0LNAAAAAAEDRs0AAAAAAQNGzQAAAAAAA0rNAAAAAAMDSs0AAAAAAQNOzQAAAAAAA07NAAAAAAADTs0AAAAAAgNKzQAAAAADA0bNAAAAAAEDTs0AAAAAAwNKzQAAAAADA07NAAAAAAIDUs0AAAAAAgNSzQAAAAAAA1LNAAAAAAIDSs0AAAAAAwNGzQAAAAACA0bNAAAAAAMDRs0AAAAAAgNGzQAAAAADAz7NAAAAAAADQs0AAAAAAwNCzQAAAAAAA0bNAAAAAAMDRs0AAAAAAgNCzQAAAAABAz7NAAAAAAEDOs0AAAAAAgM6zQAAAAACAzrNAAAAAAMDOs0AAAAAAAM6zQAAAAACAy7NAAAAAAEDMs0AAAAAAAM2zQAAAAAAAzbNAAAAAAMDNs0AAAAAAgM2zQAAAAADAzbNAAAAAAEDNs0AAAAAAgM2zQAAAAAAAzrNAAAAAAEDOs0AAAAAAQM+zQAAAAACAzrNAAAAAAEDCs0AAAAAAQL6zQAAAAACAuLNAAAAAAIC5s0AAAAAAQLqzQAAAAAAAv7NAAAAAAEC8s0AAAAAAwLuzQAAAAAAAu7NAAAAAAMC4s0AAAAAAwLezQAAAAADAt7NAAAAAAAC4s0AAAAAAwLezQAAAAABAubNAAAAAAMC4s0AAAAAAALazQAAAAADAtbNAAAAAAEC2s0AAAAAAALWzQAAAAAAAtLNAAAAAAICzs0AAAAAAQLOzQAAAAADAsrNAAAAAAMCys0AAAAAAwLOzQAAAAAAAs7NAAAAAAECzs0AAAAAAgLSzQAAAAACAtLNAAAAAAIC0s0A=",
          "dtype": "f8"
         },
         "name": "SP500",
         "open": {
          "bdata": "AAAAAADQs0AAAAAAANGzQAAAAABA0bNAAAAAAADRs0AAAAAAQNCzQAAAAABAz7NAAAAAAEDOs0AAAAAAQM+zQAAAAADA0LNAAAAAAEDRs0AAAAAAwNCzQAAAAABA0LNAAAAAAEDPs0AAAAAAAM+zQAAAAADAz7NAAAAAAIDPs0AAAAAAwNCzQAAAAAAA0bNAAAAAAEDRs0AAAAAAQNKzQAAAAACA0rNAAAAAAIDTs0AAAAAAgNOzQAAAAADA07NAAAAAAMDSs0AAAAAAgNKzQAAAAABA0rNAAAAAAEDSs0AAAAAAANKzQAAAAADA0bNAAAAAAADSs0AAAAAAwM+zQAAAAAAA0LNAAAAAAADQs0AAAAAAgM+zQAAAAAAA0LNAAAAAAADQs0AAAAAAgM+zQAAAAAAAz7NAAAAAAMDOs0AAAAAAQM6zQAAAAABAzrNAAAAAAADNs0AAAAAAwM6zQAAAAAAAz7NAAAAAAADQs0AAAAAAANGzQAAAAADA0LNAAAAAAIDSs0AAAAAAwNGzQAAAAACA0rNAAAAAAMDSs0AAAAAAwNOzQAAAAAAA1LNAAAAAAIDTs0AAAAAAgNOzQAAAAADA07NAAAAAAIDTs0AAAAAAwNOzQAAAAADA07NAAAAAAMDUs0AAAAAAwNSzQAAAAACA1LNAAAAAAEDUs0AAAAAAgNKzQAAAAACA0rNAAAAAAEDSs0AAAAAAANKzQAAAAAAA0rNAAAAAAADQs0AAAAAAgNKzQAAAAAAA0bNAAAAAAADSs0AAAAAAwNGzQAAAAADA0LNAAAAAAIDPs0AAAAAAwM6zQAAAAACAz7NAAAAAAADQs0AAAAAAwM6zQAAAAACAzrNAAAAAAEDMs0AAAAAAAM2zQAAAAADAzbNAAAAAAMDNs0AAAAAAwM6zQAAAAAAAzrNAAAAAAEDPs0AAAAAAgM2zQAAAAABAzrNAAAAAAEDOs0AAAAAAgM+zQAAAAAAAz7NAAAAAAEDPs0AAAAAAQMKzQAAAAADAvrNAAAAAAEC8s0AAAAAAgLuzQAAAAAAAwLNAAAAAAIDCs0AAAAAAgLyzQAAAAACAvLNAAAAAAIC8s0AAAAAAwLizQAAAAAAAuLNAAAAAAIC5s0AAAAAAgLmzQAAAAAAAurNAAAAAAEC7s0AAAAAAALmzQAAAAABAtrNAAAAAAEC3s0AAAAAAALezQAAAAABAtbNAAAAAAEC0s0AAAAAAwLOzQAAAAACAtLNAAAAAAACzs0AAAAAAgLSzQAAAAADAs7NAAAAAAECzs0AAAAAAQLWzQAAAAADAtbNAAAAAAMC0s0A=",
          "dtype": "f8"
         },
         "type": "candlestick",
         "x": [
          "2024-04-25T10:57:00.000000000",
          "2024-04-25T10:58:00.000000000",
          "2024-04-25T10:59:00.000000000",
          "2024-04-25T11:00:00.000000000",
          "2024-04-25T11:01:00.000000000",
          "2024-04-25T11:02:00.000000000",
          "2024-04-25T11:03:00.000000000",
          "2024-04-25T11:04:00.000000000",
          "2024-04-25T11:05:00.000000000",
          "2024-04-25T11:06:00.000000000",
          "2024-04-25T11:07:00.000000000",
          "2024-04-25T11:08:00.000000000",
          "2024-04-25T11:09:00.000000000",
          "2024-04-25T11:10:00.000000000",
          "2024-04-25T11:11:00.000000000",
          "2024-04-25T11:12:00.000000000",
          "2024-04-25T11:13:00.000000000",
          "2024-04-25T11:14:00.000000000",
          "2024-04-25T11:15:00.000000000",
          "2024-04-25T11:16:00.000000000",
          "2024-04-25T11:17:00.000000000",
          "2024-04-25T11:18:00.000000000",
          "2024-04-25T11:19:00.000000000",
          "2024-04-25T11:20:00.000000000",
          "2024-04-25T11:21:00.000000000",
          "2024-04-25T11:22:00.000000000",
          "2024-04-25T11:23:00.000000000",
          "2024-04-25T11:24:00.000000000",
          "2024-04-25T11:25:00.000000000",
          "2024-04-25T11:26:00.000000000",
          "2024-04-25T11:27:00.000000000",
          "2024-04-25T11:28:00.000000000",
          "2024-04-25T11:29:00.000000000",
          "2024-04-25T11:30:00.000000000",
          "2024-04-25T11:31:00.000000000",
          "2024-04-25T11:32:00.000000000",
          "2024-04-25T11:33:00.000000000",
          "2024-04-25T11:34:00.000000000",
          "2024-04-25T11:35:00.000000000",
          "2024-04-25T11:36:00.000000000",
          "2024-04-25T11:37:00.000000000",
          "2024-04-25T11:38:00.000000000",
          "2024-04-25T11:39:00.000000000",
          "2024-04-25T11:40:00.000000000",
          "2024-04-25T11:41:00.000000000",
          "2024-04-25T11:42:00.000000000",
          "2024-04-25T11:43:00.000000000",
          "2024-04-25T11:44:00.000000000",
          "2024-04-25T11:45:00.000000000",
          "2024-04-25T11:46:00.000000000",
          "2024-04-25T11:47:00.000000000",
          "2024-04-25T11:48:00.000000000",
          "2024-04-25T11:49:00.000000000",
          "2024-04-25T11:50:00.000000000",
          "2024-04-25T11:51:00.000000000",
          "2024-04-25T11:52:00.000000000",
          "2024-04-25T11:53:00.000000000",
          "2024-04-25T11:54:00.000000000",
          "2024-04-25T11:55:00.000000000",
          "2024-04-25T11:56:00.000000000",
          "2024-04-25T11:57:00.000000000",
          "2024-04-25T11:58:00.000000000",
          "2024-04-25T11:59:00.000000000",
          "2024-04-25T12:00:00.000000000",
          "2024-04-25T12:01:00.000000000",
          "2024-04-25T12:02:00.000000000",
          "2024-04-25T12:03:00.000000000",
          "2024-04-25T12:04:00.000000000",
          "2024-04-25T12:05:00.000000000",
          "2024-04-25T12:06:00.000000000",
          "2024-04-25T12:07:00.000000000",
          "2024-04-25T12:08:00.000000000",
          "2024-04-25T12:09:00.000000000",
          "2024-04-25T12:10:00.000000000",
          "2024-04-25T12:11:00.000000000",
          "2024-04-25T12:12:00.000000000",
          "2024-04-25T12:13:00.000000000",
          "2024-04-25T12:14:00.000000000",
          "2024-04-25T12:15:00.000000000",
          "2024-04-25T12:16:00.000000000",
          "2024-04-25T12:17:00.000000000",
          "2024-04-25T12:18:00.000000000",
          "2024-04-25T12:19:00.000000000",
          "2024-04-25T12:20:00.000000000",
          "2024-04-25T12:21:00.000000000",
          "2024-04-25T12:22:00.000000000",
          "2024-04-25T12:23:00.000000000",
          "2024-04-25T12:24:00.000000000",
          "2024-04-25T12:25:00.000000000",
          "2024-04-25T12:26:00.000000000",
          "2024-04-25T12:27:00.000000000",
          "2024-04-25T12:28:00.000000000",
          "2024-04-25T12:29:00.000000000",
          "2024-04-25T12:30:00.000000000",
          "2024-04-25T12:31:00.000000000",
          "2024-04-25T12:32:00.000000000",
          "2024-04-25T12:33:00.000000000",
          "2024-04-25T12:34:00.000000000",
          "2024-04-25T12:35:00.000000000",
          "2024-04-25T12:36:00.000000000",
          "2024-04-25T12:37:00.000000000",
          "2024-04-25T12:38:00.000000000",
          "2024-04-25T12:39:00.000000000",
          "2024-04-25T12:40:00.000000000",
          "2024-04-25T12:41:00.000000000",
          "2024-04-25T12:42:00.000000000",
          "2024-04-25T12:43:00.000000000",
          "2024-04-25T12:44:00.000000000",
          "2024-04-25T12:45:00.000000000",
          "2024-04-25T12:46:00.000000000",
          "2024-04-25T12:47:00.000000000",
          "2024-04-25T12:48:00.000000000",
          "2024-04-25T12:49:00.000000000",
          "2024-04-25T12:50:00.000000000",
          "2024-04-25T12:51:00.000000000",
          "2024-04-25T12:52:00.000000000",
          "2024-04-25T12:53:00.000000000",
          "2024-04-25T12:54:00.000000000",
          "2024-04-25T12:55:00.000000000",
          "2024-04-25T12:56:00.000000000",
          "2024-04-25T12:57:00.000000000",
          "2024-04-25T12:58:00.000000000",
          "2024-04-25T12:59:00.000000000",
          "2024-04-25T13:00:00.000000000"
         ]
        },
        {
         "line": {
          "color": "orange"
         },
         "mode": "lines",
         "name": "Tenkan-sen",
         "type": "scatter",
         "x": [
          "2024-04-25T10:57:00.000000000",
          "2024-04-25T10:58:00.000000000",
          "2024-04-25T10:59:00.000000000",
          "2024-04-25T11:00:00.000000000",
          "2024-04-25T11:01:00.000000000",
          "2024-04-25T11:02:00.000000000",
          "2024-04-25T11:03:00.000000000",
          "2024-04-25T11:04:00.000000000",
          "2024-04-25T11:05:00.000000000",
          "2024-04-25T11:06:00.000000000",
          "2024-04-25T11:07:00.000000000",
          "2024-04-25T11:08:00.000000000",
          "2024-04-25T11:09:00.000000000",
          "2024-04-25T11:10:00.000000000",
          "2024-04-25T11:11:00.000000000",
          "2024-04-25T11:12:00.000000000",
          "2024-04-25T11:13:00.000000000",
          "2024-04-25T11:14:00.000000000",
          "2024-04-25T11:15:00.000000000",
          "2024-04-25T11:16:00.000000000",
          "2024-04-25T11:17:00.000000000",
          "2024-04-25T11:18:00.000000000",
          "2024-04-25T11:19:00.000000000",
          "2024-04-25T11:20:00.000000000",
          "2024-04-25T11:21:00.000000000",
          "2024-04-25T11:22:00.000000000",
          "2024-04-25T11:23:00.000000000",
          "2024-04-25T11:24:00.000000000",
          "2024-04-25T11:25:00.000000000",
          "2024-04-25T11:26:00.000000000",
          "2024-04-25T11:27:00.000000000",
          "2024-04-25T11:28:00.000000000",
          "2024-04-25T11:29:00.000000000",
          "2024-04-25T11:30:00.000000000",
          "2024-04-25T11:31:00.000000000",
          "2024-04-25T11:32:00.000000000",
          "2024-04-25T11:33:00.000000000",
          "2024-04-25T11:34:00.000000000",
          "2024-04-25T11:35:00.000000000",
          "2024-04-25T11:36:00.000000000",
          "2024-04-25T11:37:00.000000000",
          "2024-04-25T11:38:00.000000000",
          "2024-04-25T11:39:00.000000000",
          "2024-04-25T11:40:00.000000000",
          "2024-04-25T11:41:00.000000000",
          "2024-04-25T11:42:00.000000000",
          "2024-04-25T11:43:00.000000000",
          "2024-04-25T11:44:00.000000000",
          "2024-04-25T11:45:00.000000000",
          "2024-04-25T11:46:00.000000000",
          "2024-04-25T11:47:00.000000000",
          "2024-04-25T11:48:00.000000000",
          "2024-04-25T11:49:00.000000000",
          "2024-04-25T11:50:00.000000000",
          "2024-04-25T11:51:00.000000000",
          "2024-04-25T11:52:00.000000000",
          "2024-04-25T11:53:00.000000000",
          "2024-04-25T11:54:00.000000000",
          "2024-04-25T11:55:00.000000000",
          "2024-04-25T11:56:00.000000000",
          "2024-04-25T11:57:00.000000000",
          "2024-04-25T11:58:00.000000000",
          "2024-04-25T11:59:00.000000000",
          "2024-04-25T12:00:00.000000000",
          "2024-04-25T12:01:00.000000000",
          "2024-04-25T12:02:00.000000000",
          "2024-04-25T12:03:00.000000000",
          "2024-04-25T12:04:00.000000000",
          "2024-04-25T12:05:00.000000000",
          "2024-04-25T12:06:00.000000000",
          "2024-04-25T12:07:00.000000000",
          "2024-04-25T12:08:00.000000000",
          "2024-04-25T12:09:00.000000000",
          "2024-04-25T12:10:00.000000000",
          "2024-04-25T12:11:00.000000000",
          "2024-04-25T12:12:00.000000000",
          "2024-04-25T12:13:00.000000000",
          "2024-04-25T12:14:00.000000000",
          "2024-04-25T12:15:00.000000000",
          "2024-04-25T12:16:00.000000000",
          "2024-04-25T12:17:00.000000000",
          "2024-04-25T12:18:00.000000000",
          "2024-04-25T12:19:00.000000000",
          "2024-04-25T12:20:00.000000000",
          "2024-04-25T12:21:00.000000000",
          "2024-04-25T12:22:00.000000000",
          "2024-04-25T12:23:00.000000000",
          "2024-04-25T12:24:00.000000000",
          "2024-04-25T12:25:00.000000000",
          "2024-04-25T12:26:00.000000000",
          "2024-04-25T12:27:00.000000000",
          "2024-04-25T12:28:00.000000000",
          "2024-04-25T12:29:00.000000000",
          "2024-04-25T12:30:00.000000000",
          "2024-04-25T12:31:00.000000000",
          "2024-04-25T12:32:00.000000000",
          "2024-04-25T12:33:00.000000000",
          "2024-04-25T12:34:00.000000000",
          "2024-04-25T12:35:00.000000000",
          "2024-04-25T12:36:00.000000000",
          "2024-04-25T12:37:00.000000000",
          "2024-04-25T12:38:00.000000000",
          "2024-04-25T12:39:00.000000000",
          "2024-04-25T12:40:00.000000000",
          "2024-04-25T12:41:00.000000000",
          "2024-04-25T12:42:00.000000000",
          "2024-04-25T12:43:00.000000000",
          "2024-04-25T12:44:00.000000000",
          "2024-04-25T12:45:00.000000000",
          "2024-04-25T12:46:00.000000000",
          "2024-04-25T12:47:00.000000000",
          "2024-04-25T12:48:00.000000000",
          "2024-04-25T12:49:00.000000000",
          "2024-04-25T12:50:00.000000000",
          "2024-04-25T12:51:00.000000000",
          "2024-04-25T12:52:00.000000000",
          "2024-04-25T12:53:00.000000000",
          "2024-04-25T12:54:00.000000000",
          "2024-04-25T12:55:00.000000000",
          "2024-04-25T12:56:00.000000000",
          "2024-04-25T12:57:00.000000000",
          "2024-04-25T12:58:00.000000000",
          "2024-04-25T12:59:00.000000000",
          "2024-04-25T13:00:00.000000000"
         ],
         "y": {
          "bdata": "AAAAAODSs0AAAAAA4NKzQAAAAADg0rNAAAAAAKDSs0AAAAAA4NGzQAAAAAAA0LNAAAAAAMDPs0AAAAAAYM+zQAAAAABgz7NAAAAAAGDPs0AAAAAAYM+zQAAAAAAgz7NAAAAAACDPs0AAAAAAIM+zQAAAAADAz7NAAAAAAODPs0AAAAAA4M+zQAAAAADgz7NAAAAAAEDQs0AAAAAAoNCzQAAAAADg0LNAAAAAAGDRs0AAAAAAwNGzQAAAAADg0bNAAAAAAIDSs0AAAAAAoNKzQAAAAACg0rNAAAAAAKDSs0AAAAAAoNKzQAAAAACg0rNAAAAAACDSs0AAAAAAoNGzQAAAAAAA0bNAAAAAAMDQs0AAAAAAoNCzQAAAAACg0LNAAAAAAKDQs0AAAAAAoNCzQAAAAABA0LNAAAAAAKDOs0AAAAAAoM6zQAAAAACgzrNAAAAAAKDOs0AAAAAAgM6zQAAAAACAzrNAAAAAAODOs0AAAAAA4M6zQAAAAACAz7NAAAAAAKDPs0AAAAAAoM+zQAAAAAAA0LNAAAAAACDRs0AAAAAAINGzQAAAAAAg0rNAAAAAAEDSs0AAAAAAYNKzQAAAAADA0rNAAAAAAMDSs0AAAAAAANOzQAAAAABg07NAAAAAAGDTs0AAAAAAYNOzQAAAAABg07NAAAAAAGDTs0AAAAAAYNOzQAAAAABA07NAAAAAAEDTs0AAAAAAQNOzQAAAAABg0rNAAAAAAGDSs0AAAAAAYNKzQAAAAAAA0rNAAAAAAEDRs0AAAAAAQNGzQAAAAAAA0bNAAAAAAIDQs0AAAAAAgNCzQAAAAACA0LNAAAAAAIDQs0AAAAAAYNCzQAAAAAAgz7NAAAAAAMDOs0AAAAAAgM6zQAAAAAAAzrNAAAAAAADOs0AAAAAAAM6zQAAAAAAAzrNAAAAAAKDNs0AAAAAAoM2zQAAAAAAAzrNAAAAAAGDOs0AAAAAAwM6zQAAAAADgzrNAAAAAAGDNs0AAAAAAYMuzQAAAAACAyLNAAAAAAIDIs0AAAAAAgMizQAAAAACAyLNAAAAAAIDIs0AAAAAAgMizQAAAAACAyLNAAAAAAEC/s0AAAAAAIL6zQAAAAAAgvrNAAAAAACC+s0AAAAAAIL6zQAAAAACgvbNAAAAAAEC7s0AAAAAA4LmzQAAAAABAubNAAAAAAEC5s0AAAAAA4LizQAAAAABguLNAAAAAACC4s0AAAAAAALizQAAAAADAt7NAAAAAAEC2s0AAAAAAQLazQAAAAABAtrNAAAAAAAC1s0AAAAAAwLSzQAAAAABgtLNAAAAAAKC0s0A=",
          "dtype": "f8"
         }
        },
        {
         "line": {
          "color": "green"
         },
         "mode": "lines",
         "name": "Kijun-sen",
         "type": "scatter",
         "x": [
          "2024-04-25T10:57:00.000000000",
          "2024-04-25T10:58:00.000000000",
          "2024-04-25T10:59:00.000000000",
          "2024-04-25T11:00:00.000000000",
          "2024-04-25T11:01:00.000000000",
          "2024-04-25T11:02:00.000000000",
          "2024-04-25T11:03:00.000000000",
          "2024-04-25T11:04:00.000000000",
          "2024-04-25T11:05:00.000000000",
          "2024-04-25T11:06:00.000000000",
          "2024-04-25T11:07:00.000000000",
          "2024-04-25T11:08:00.000000000",
          "2024-04-25T11:09:00.000000000",
          "2024-04-25T11:10:00.000000000",
          "2024-04-25T11:11:00.000000000",
          "2024-04-25T11:12:00.000000000",
          "2024-04-25T11:13:00.000000000",
          "2024-04-25T11:14:00.000000000",
          "2024-04-25T11:15:00.000000000",
          "2024-04-25T11:16:00.000000000",
          "2024-04-25T11:17:00.000000000",
          "2024-04-25T11:18:00.000000000",
          "2024-04-25T11:19:00.000000000",
          "2024-04-25T11:20:00.000000000",
          "2024-04-25T11:21:00.000000000",
          "2024-04-25T11:22:00.000000000",
          "2024-04-25T11:23:00.000000000",
          "2024-04-25T11:24:00.000000000",
          "2024-04-25T11:25:00.000000000",
          "2024-04-25T11:26:00.000000000",
          "2024-04-25T11:27:00.000000000",
          "2024-04-25T11:28:00.000000000",
          "2024-04-25T11:29:00.000000000",
          "2024-04-25T11:30:00.000000000",
          "2024-04-25T11:31:00.000000000",
          "2024-04-25T11:32:00.000000000",
          "2024-04-25T11:33:00.000000000",
          "2024-04-25T11:34:00.000000000",
          "2024-04-25T11:35:00.000000000",
          "2024-04-25T11:36:00.000000000",
          "2024-04-25T11:37:00.000000000",
          "2024-04-25T11:38:00.000000000",
          "2024-04-25T11:39:00.000000000",
          "2024-04-25T11:40:00.000000000",
          "2024-04-25T11:41:00.000000000",
          "2024-04-25T11:42:00.000000000",
          "2024-04-25T11:43:00.000000000",
          "2024-04-25T11:44:00.000000000",
          "2024-04-25T11:45:00.000000000",
          "2024-04-25T11:46:00.000000000",
          "2024-04-25T11:47:00.000000000",
          "2024-04-25T11:48:00.000000000",
          "2024-04-25T11:49:00.000000000",
          "2024-04-25T11:50:00.000000000",
          "2024-04-25T11:51:00.000000000",
          "2024-04-25T11:52:00.000000000",
          "2024-04-25T11:53:00.000000000",
          "2024-04-25T11:54:00.000000000",
          "2024-04-25T11:55:00.000000000",
          "2024-04-25T11:56:00.000000000",
          "2024-04-25T11:57:00.000000000",
          "2024-04-25T11:58:00.000000000",
          "2024-04-25T11:59:00.000000000",
          "2024-04-25T12:00:00.000000000",
          "2024-04-25T12:01:00.000000000",
          "2024-04-25T12:02:00.000000000",
          "2024-04-25T12:03:00.000000000",
          "2024-04-25T12:04:00.000000000",
          "2024-04-25T12:05:00.000000000",
          "2024-04-25T12:06:00.000000000",
          "2024-04-25T12:07:00.000000000",
          "2024-04-25T12:08:00.000000000",
          "2024-04-25T12:09:00.000000000",
          "2024-04-25T12:10:00.000000000",
          "2024-04-25T12:11:00.000000000",
          "2024-04-25T12:12:00.000000000",
          "2024-04-25T12:13:00.000000000",
          "2024-04-25T12:14:00.000000000",
          "2024-04-25T12:15:00.000000000",
          "2024-04-25T12:16:00.000000000",
          "2024-04-25T12:17:00.000000000",
          "2024-04-25T12:18:00.000000000",
          "2024-04-25T12:19:00.000000000",
          "2024-04-25T12:20:00.000000000",
          "2024-04-25T12:21:00.000000000",
          "2024-04-25T12:22:00.000000000",
          "2024-04-25T12:23:00.000000000",
          "2024-04-25T12:24:00.000000000",
          "2024-04-25T12:25:00.000000000",
          "2024-04-25T12:26:00.000000000",
          "2024-04-25T12:27:00.000000000",
          "2024-04-25T12:28:00.000000000",
          "2024-04-25T12:29:00.000000000",
          "2024-04-25T12:30:00.000000000",
          "2024-04-25T12:31:00.000000000",
          "2024-04-25T12:32:00.000000000",
          "2024-04-25T12:33:00.000000000",
          "2024-04-25T12:34:00.000000000",
          "2024-04-25T12:35:00.000000000",
          "2024-04-25T12:36:00.000000000",
          "2024-04-25T12:37:00.000000000",
          "2024-04-25T12:38:00.000000000",
          "2024-04-25T12:39:00.000000000",
          "2024-04-25T12:40:00.000000000",
          "2024-04-25T12:41:00.000000000",
          "2024-04-25T12:42:00.000000000",
          "2024-04-25T12:43:00.000000000",
          "2024-04-25T12:44:00.000000000",
          "2024-04-25T12:45:00.000000000",
          "2024-04-25T12:46:00.000000000",
          "2024-04-25T12:47:00.000000000",
          "2024-04-25T12:48:00.000000000",
          "2024-04-25T12:49:00.000000000",
          "2024-04-25T12:50:00.000000000",
          "2024-04-25T12:51:00.000000000",
          "2024-04-25T12:52:00.000000000",
          "2024-04-25T12:53:00.000000000",
          "2024-04-25T12:54:00.000000000",
          "2024-04-25T12:55:00.000000000",
          "2024-04-25T12:56:00.000000000",
          "2024-04-25T12:57:00.000000000",
          "2024-04-25T12:58:00.000000000",
          "2024-04-25T12:59:00.000000000",
          "2024-04-25T13:00:00.000000000"
         ],
         "y": {
          "bdata": "AAAAAMDTs0AAAAAAwNOzQAAAAADA07NAAAAAAIDTs0AAAAAAINOzQAAAAACA0bNAAAAAAIDRs0AAAAAAgNGzQAAAAACA0bNAAAAAAEDRs0AAAAAAQNGzQAAAAABA0bNAAAAAAEDRs0AAAAAAQNGzQAAAAABA0bNAAAAAAEDRs0AAAAAAQNGzQAAAAABA0bNAAAAAAEDRs0AAAAAAQNGzQAAAAABA0bNAAAAAAKDQs0AAAAAAgNCzQAAAAACg0LNAAAAAAKDQs0AAAAAAoNCzQAAAAACg0LNAAAAAAKDQs0AAAAAAoNCzQAAAAACg0LNAAAAAAKDQs0AAAAAAQNGzQAAAAABg0bNAAAAAAGDRs0AAAAAAYNGzQAAAAABg0bNAAAAAAGDRs0AAAAAAYNGzQAAAAACA0bNAAAAAAIDQs0AAAAAAgNCzQAAAAACA0LNAAAAAAIDQs0AAAAAAgNCzQAAAAACA0LNAAAAAAIDQs0AAAAAAgNCzQAAAAACA0LNAAAAAAIDQs0AAAAAA4M+zQAAAAADAz7NAAAAAAGDQs0AAAAAAYNCzQAAAAABg0LNAAAAAAGDQs0AAAAAAYNCzQAAAAABg0LNAAAAAAGDQs0AAAAAAYNCzQAAAAADA0LNAAAAAAMDQs0AAAAAAwNCzQAAAAADA0LNAAAAAAMDQs0AAAAAAwNCzQAAAAADA0LNAAAAAAMDQs0AAAAAAANGzQAAAAACA0bNAAAAAAIDRs0AAAAAAYNKzQAAAAABg0rNAAAAAAGDSs0AAAAAAYNKzQAAAAAAg0rNAAAAAAKDRs0AAAAAAoNGzQAAAAACg0bNAAAAAAKDRs0AAAAAAgNGzQAAAAABA0LNAAAAAAEDQs0AAAAAAQNCzQAAAAABA0LNAAAAAAEDQs0AAAAAAQNCzQAAAAABA0LNAAAAAAEDQs0AAAAAA4M+zQAAAAAAgz7NAAAAAACDPs0AAAAAAIM+zQAAAAAAgz7NAAAAAAGDNs0AAAAAAYMuzQAAAAACAyLNAAAAAAIDIs0AAAAAAgMizQAAAAACAyLNAAAAAAIDIs0AAAAAAgMizQAAAAACAyLNAAAAAAIDIs0AAAAAAIMizQAAAAAAgyLNAAAAAACDIs0AAAAAAIMizQAAAAAAgyLNAAAAAACDIs0AAAAAAQMezQAAAAAAgx7NAAAAAACDHs0AAAAAAwMazQAAAAABAxrNAAAAAAADGs0AAAAAA4MWzQAAAAACgxbNAAAAAAKDFs0AAAAAAoMWzQAAAAABgvLNAAAAAAKC7s0AAAAAAoLuzQAAAAACgu7NAAAAAAKC7s0A=",
          "dtype": "f8"
         }
        },
        {
         "line": {
          "color": "purple"
         },
         "mode": "lines",
         "name": "Chikou Span",
         "type": "scatter",
         "x": [
          "2024-04-25T10:57:00.000000000",
          "2024-04-25T10:58:00.000000000",
          "2024-04-25T10:59:00.000000000",
          "2024-04-25T11:00:00.000000000",
          "2024-04-25T11:01:00.000000000",
          "2024-04-25T11:02:00.000000000",
          "2024-04-25T11:03:00.000000000",
          "2024-04-25T11:04:00.000000000",
          "2024-04-25T11:05:00.000000000",
          "2024-04-25T11:06:00.000000000",
          "2024-04-25T11:07:00.000000000",
          "2024-04-25T11:08:00.000000000",
          "2024-04-25T11:09:00.000000000",
          "2024-04-25T11:10:00.000000000",
          "2024-04-25T11:11:00.000000000",
          "2024-04-25T11:12:00.000000000",
          "2024-04-25T11:13:00.000000000",
          "2024-04-25T11:14:00.000000000",
          "2024-04-25T11:15:00.000000000",
          "2024-04-25T11:16:00.000000000",
          "2024-04-25T11:17:00.000000000",
          "2024-04-25T11:18:00.000000000",
          "2024-04-25T11:19:00.000000000",
          "2024-04-25T11:20:00.000000000",
          "2024-04-25T11:21:00.000000000",
          "2024-04-25T11:22:00.000000000",
          "2024-04-25T11:23:00.000000000",
          "2024-04-25T11:24:00.000000000",
          "2024-04-25T11:25:00.000000000",
          "2024-04-25T11:26:00.000000000",
          "2024-04-25T11:27:00.000000000",
          "2024-04-25T11:28:00.000000000",
          "2024-04-25T11:29:00.000000000",
          "2024-04-25T11:30:00.000000000",
          "2024-04-25T11:31:00.000000000",
          "2024-04-25T11:32:00.000000000",
          "2024-04-25T11:33:00.000000000",
          "2024-04-25T11:34:00.000000000",
          "2024-04-25T11:35:00.000000000",
          "2024-04-25T11:36:00.000000000",
          "2024-04-25T11:37:00.000000000",
          "2024-04-25T11:38:00.000000000",
          "2024-04-25T11:39:00.000000000",
          "2024-04-25T11:40:00.000000000",
          "2024-04-25T11:41:00.000000000",
          "2024-04-25T11:42:00.000000000",
          "2024-04-25T11:43:00.000000000",
          "2024-04-25T11:44:00.000000000",
          "2024-04-25T11:45:00.000000000",
          "2024-04-25T11:46:00.000000000",
          "2024-04-25T11:47:00.000000000",
          "2024-04-25T11:48:00.000000000",
          "2024-04-25T11:49:00.000000000",
          "2024-04-25T11:50:00.000000000",
          "2024-04-25T11:51:00.000000000",
          "2024-04-25T11:52:00.000000000",
          "2024-04-25T11:53:00.000000000",
          "2024-04-25T11:54:00.000000000",
          "2024-04-25T11:55:00.000000000",
          "2024-04-25T11:56:00.000000000",
          "2024-04-25T11:57:00.000000000",
          "2024-04-25T11:58:00.000000000",
          "2024-04-25T11:59:00.000000000",
          "2024-04-25T12:00:00.000000000",
          "2024-04-25T12:01:00.000000000",
          "2024-04-25T12:02:00.000000000",
          "2024-04-25T12:03:00.000000000",
          "2024-04-25T12:04:00.000000000",
          "2024-04-25T12:05:00.000000000",
          "2024-04-25T12:06:00.000000000",
          "2024-04-25T12:07:00.000000000",
          "2024-04-25T12:08:00.000000000",
          "2024-04-25T12:09:00.000000000",
          "2024-04-25T12:10:00.000000000",
          "2024-04-25T12:11:00.000000000",
          "2024-04-25T12:12:00.000000000",
          "2024-04-25T12:13:00.000000000",
          "2024-04-25T12:14:00.000000000",
          "2024-04-25T12:15:00.000000000",
          "2024-04-25T12:16:00.000000000",
          "2024-04-25T12:17:00.000000000",
          "2024-04-25T12:18:00.000000000",
          "2024-04-25T12:19:00.000000000",
          "2024-04-25T12:20:00.000000000",
          "2024-04-25T12:21:00.000000000",
          "2024-04-25T12:22:00.000000000",
          "2024-04-25T12:23:00.000000000",
          "2024-04-25T12:24:00.000000000",
          "2024-04-25T12:25:00.000000000",
          "2024-04-25T12:26:00.000000000",
          "2024-04-25T12:27:00.000000000",
          "2024-04-25T12:28:00.000000000",
          "2024-04-25T12:29:00.000000000",
          "2024-04-25T12:30:00.000000000",
          "2024-04-25T12:31:00.000000000",
          "2024-04-25T12:32:00.000000000",
          "2024-04-25T12:33:00.000000000",
          "2024-04-25T12:34:00.000000000",
          "2024-04-25T12:35:00.000000000",
          "2024-04-25T12:36:00.000000000",
          "2024-04-25T12:37:00.000000000",
          "2024-04-25T12:38:00.000000000",
          "2024-04-25T12:39:00.000000000",
          "2024-04-25T12:40:00.000000000",
          "2024-04-25T12:41:00.000000000",
          "2024-04-25T12:42:00.000000000",
          "2024-04-25T12:43:00.000000000",
          "2024-04-25T12:44:00.000000000",
          "2024-04-25T12:45:00.000000000",
          "2024-04-25T12:46:00.000000000",
          "2024-04-25T12:47:00.000000000",
          "2024-04-25T12:48:00.000000000",
          "2024-04-25T12:49:00.000000000",
          "2024-04-25T12:50:00.000000000",
          "2024-04-25T12:51:00.000000000",
          "2024-04-25T12:52:00.000000000",
          "2024-04-25T12:53:00.000000000",
          "2024-04-25T12:54:00.000000000",
          "2024-04-25T12:55:00.000000000",
          "2024-04-25T12:56:00.000000000",
          "2024-04-25T12:57:00.000000000",
          "2024-04-25T12:58:00.000000000",
          "2024-04-25T12:59:00.000000000",
          "2024-04-25T13:00:00.000000000"
         ],
         "y": {
          "bdata": "AAAAAEDSs0AAAAAAwNGzQAAAAAAA0rNAAAAAAEDSs0AAAAAAANCzQAAAAAAA0LNAAAAAAMDPs0AAAAAAgM+zQAAAAABA0LNAAAAAAADQs0AAAAAAwM+zQAAAAABAz7NAAAAAAMDOs0AAAAAAAM6zQAAAAAAAzrNAAAAAAEDNs0AAAAAAgM6zQAAAAABAz7NAAAAAAADQs0AAAAAAANGzQAAAAACA0LNAAAAAAIDSs0AAAAAAwNGzQAAAAABA0rNAAAAAAMDSs0AAAAAAwNOzQAAAAAAA1LNAAAAAAIDTs0AAAAAAgNOzQAAAAADA07NAAAAAAIDTs0AAAAAAwNOzQAAAAADA07NAAAAAAADVs0AAAAAAANWzQAAAAADA1LNAAAAAAIDUs0AAAAAAgNKzQAAAAACA0rNAAAAAAEDSs0AAAAAAQNKzQAAAAAAA0rNAAAAAAMDPs0AAAAAAQNKzQAAAAAAA0bNAAAAAAADSs0AAAAAAANKzQAAAAADA0LNAAAAAAEDPs0AAAAAAgM6zQAAAAADAz7NAAAAAAADQs0AAAAAAwM6zQAAAAADAzrNAAAAAAIDMs0AAAAAAAM2zQAAAAADAzbNAAAAAAMDNs0AAAAAAgM6zQAAAAABAzrNAAAAAAIDPs0AAAAAAQM2zQAAAAABAzrNAAAAAAIDOs0AAAAAAgM+zQAAAAABAz7NAAAAAAADPs0AAAAAAQMKzQAAAAADAvrNAAAAAAAC8s0AAAAAAwLuzQAAAAADAv7NAAAAAAEDCs0AAAAAAwLyzQAAAAABAvLNAAAAAAMC8s0AAAAAAALmzQAAAAAAAuLNAAAAAAMC5s0AAAAAAgLmzQAAAAABAurNAAAAAAEC7s0AAAAAAALmzQAAAAAAAtrNAAAAAAAC3s0AAAAAAALezQAAAAACAtbNAAAAAAAC0s0AAAAAAwLOzQAAAAABAtLNAAAAAAACzs0AAAAAAgLSzQAAAAADAs7NAAAAAAICzs0AAAAAAQLWzQAAAAAAAtrNAAAAAAMC0s0AAAAAAgLWzQAAAAACAtbNAAAAAAMC1s0AAAAAAwLOzQAAAAAAAtbNAAAAAAICzs0AAAAAAwLOzQAAAAAAAs7NAAAAAAMCxs0AAAAAAALKzQAAAAABAsbNAAAAAAECws0AAAAAAQK6zQAAAAAAAq7NAAAAAAACss0AAAAAAAK2zQAAAAADArbNAAAAAAECss0AAAAAAwKyzQAAAAAAArLNAAAAAAACss0AAAAAAQK2zQAAAAACArrNAAAAAAICws0AAAAAAgK+zQAAAAADArrNAAAAAAECus0A=",
          "dtype": "f8"
         }
        },
        {
         "line": {
          "color": "rgba(0,200,0,0.5)"
         },
         "mode": "lines",
         "name": "Senkou Span A",
         "type": "scatter",
         "x": [
          "2024-04-25T10:57:00.000000000",
          "2024-04-25T10:58:00.000000000",
          "2024-04-25T10:59:00.000000000",
          "2024-04-25T11:00:00.000000000",
          "2024-04-25T11:01:00.000000000",
          "2024-04-25T11:02:00.000000000",
          "2024-04-25T11:03:00.000000000",
          "2024-04-25T11:04:00.000000000",
          "2024-04-25T11:05:00.000000000",
          "2024-04-25T11:06:00.000000000",
          "2024-04-25T11:07:00.000000000",
          "2024-04-25T11:08:00.000000000",
          "2024-04-25T11:09:00.000000000",
          "2024-04-25T11:10:00.000000000",
          "2024-04-25T11:11:00.000000000",
          "2024-04-25T11:12:00.000000000",
          "2024-04-25T11:13:00.000000000",
          "2024-04-25T11:14:00.000000000",
          "2024-04-25T11:15:00.000000000",
          "2024-04-25T11:16:00.000000000",
          "2024-04-25T11:17:00.000000000",
          "2024-04-25T11:18:00.000000000",
          "2024-04-25T11:19:00.000000000",
          "2024-04-25T11:20:00.000000000",
          "2024-04-25T11:21:00.000000000",
          "2024-04-25T11:22:00.000000000",
          "2024-04-25T11:23:00.000000000",
          "2024-04-25T11:24:00.000000000",
          "2024-04-25T11:25:00.000000000",
          "2024-04-25T11:26:00.000000000",
          "2024-04-25T11:27:00.000000000",
          "2024-04-25T11:28:00.000000000",
          "2024-04-25T11:29:00.000000000",
          "2024-04-25T11:30:00.000000000",
          "2024-04-25T11:31:00.000000000",
          "2024-04-25T11:32:00.000000000",
          "2024-04-25T11:33:00.000000000",
          "2024-04-25T11:34:00.000000000",
          "2024-04-25T11:35:00.000000000",
          "2024-04-25T11:36:00.000000000",
          "2024-04-25T11:37:00.000000000",
          "2024-04-25T11:38:00.000000000",
          "2024-04-25T11:39:00.000000000",
          "2024-04-25T11:40:00.000000000",
          "2024-04-25T11:41:00.000000000",
          "2024-04-25T11:42:00.000000000",
          "2024-04-25T11:43:00.000000000",
          "2024-04-25T11:44:00.000000000",
          "2024-04-25T11:45:00.000000000",
          "2024-04-25T11:46:00.000000000",
          "2024-04-25T11:47:00.000000000",
          "2024-04-25T11:48:00.000000000",
          "2024-04-25T11:49:00.000000000",
          "2024-04-25T11:50:00.000000000",
          "2024-04-25T11:51:00.000000000",
          "2024-04-25T11:52:00.000000000",
          "2024-04-25T11:53:00.000000000",
          "2024-04-25T11:54:00.000000000",
          "2024-04-25T11:55:00.000000000",
          "2024-04-25T11:56:00.000000000",
          "2024-04-25T11:57:00.000000000",
          "2024-04-25T11:58:00.000000000",
          "2024-04-25T11:59:00.000000000",
          "2024-04-25T12:00:00.000000000",
          "2024-04-25T12:01:00.000000000",
          "2024-04-25T12:02:00.000000000",
          "2024-04-25T12:03:00.000000000",
          "2024-04-25T12:04:00.000000000",
          "2024-04-25T12:05:00.000000000",
          "2024-04-25T12:06:00.000000000",
          "2024-04-25T12:07:00.000000000",
          "2024-04-25T12:08:00.000000000",
          "2024-04-25T12:09:00.000000000",
          "2024-04-25T12:10:00.000000000",
          "2024-04-25T12:11:00.000000000",
          "2024-04-25T12:12:00.000000000",
          "2024-04-25T12:13:00.000000000",
          "2024-04-25T12:14:00.000000000",
          "2024-04-25T12:15:00.000000000",
          "2024-04-25T12:16:00.000000000",
          "2024-04-25T12:17:00.000000000",
          "2024-04-25T12:18:00.000000000",
          "2024-04-25T12:19:00.000000000",
          "2024-04-25T12:20:00.000000000",
          "2024-04-25T12:21:00.000000000",
          "2024-04-25T12:22:00.000000000",
          "2024-04-25T12:23:00.000000000",
          "2024-04-25T12:24:00.000000000",
          "2024-04-25T12:25:00.000000000",
          "2024-04-25T12:26:00.000000000",
          "2024-04-25T12:27:00.000000000",
          "2024-04-25T12:28:00.000000000",
          "2024-04-25T12:29:00.000000000",
          "2024-04-25T12:30:00.000000000",
          "2024-04-25T12:31:00.000000000",
          "2024-04-25T12:32:00.000000000",
          "2024-04-25T12:33:00.000000000",
          "2024-04-25T12:34:00.000000000",
          "2024-04-25T12:35:00.000000000",
          "2024-04-25T12:36:00.000000000",
          "2024-04-25T12:37:00.000000000",
          "2024-04-25T12:38:00.000000000",
          "2024-04-25T12:39:00.000000000",
          "2024-04-25T12:40:00.000000000",
          "2024-04-25T12:41:00.000000000",
          "2024-04-25T12:42:00.000000000",
          "2024-04-25T12:43:00.000000000",
          "2024-04-25T12:44:00.000000000",
          "2024-04-25T12:45:00.000000000",
          "2024-04-25T12:46:00.000000000",
          "2024-04-25T12:47:00.000000000",
          "2024-04-25T12:48:00.000000000",
          "2024-04-25T12:49:00.000000000",
          "2024-04-25T12:50:00.000000000",
          "2024-04-25T12:51:00.000000000",
          "2024-04-25T12:52:00.000000000",
          "2024-04-25T12:53:00.000000000",
          "2024-04-25T12:54:00.000000000",
          "2024-04-25T12:55:00.000000000",
          "2024-04-25T12:56:00.000000000",
          "2024-04-25T12:57:00.000000000",
          "2024-04-25T12:58:00.000000000",
          "2024-04-25T12:59:00.000000000",
          "2024-04-25T13:00:00.000000000"
         ],
         "y": {
          "bdata": "AAAAAODVs0AAAAAA0NWzQAAAAADQ1bNAAAAAAODVs0AAAAAA4NWzQAAAAADQ1bNAAAAAANDVs0AAAAAAoNWzQAAAAACg1bNAAAAAAKDVs0AAAAAAYNWzQAAAAADg1LNAAAAAAGDUs0AAAAAAQNSzQAAAAAAQ1LNAAAAAABDUs0AAAAAAENSzQAAAAAAQ1LNAAAAAAMDTs0AAAAAA0NOzQAAAAADw07NAAAAAADDUs0AAAAAAMNSzQAAAAAAw1LNAAAAAANDTs0AAAAAAUNOzQAAAAABQ07NAAAAAAFDTs0AAAAAAUNOzQAAAAAAQ07NAAAAAAIDSs0AAAAAAwNCzQAAAAACg0LNAAAAAAHDQs0AAAAAAcNCzQAAAAABQ0LNAAAAAAFDQs0AAAAAAMNCzQAAAAAAw0LNAAAAAADDQs0AAAAAAgNCzQAAAAACQ0LNAAAAAAJDQs0AAAAAAkNCzQAAAAADA0LNAAAAAAPDQs0AAAAAAENGzQAAAAAAA0bNAAAAAACDRs0AAAAAAQNGzQAAAAACQ0bNAAAAAAKDRs0AAAAAAoNGzQAAAAACg0bNAAAAAAKDRs0AAAAAAoNGzQAAAAABg0bNAAAAAAHDRs0AAAAAAMNGzQAAAAAAQ0bNAAAAAAADRs0AAAAAAANGzQAAAAAAA0bNAAAAAAADRs0AAAAAA4NCzQAAAAACQz7NAAAAAAJDPs0AAAAAAkM+zQAAAAACQz7NAAAAAAIDPs0AAAAAAgM+zQAAAAACwz7NAAAAAALDPs0AAAAAAANCzQAAAAAAQ0LNAAAAAAMDPs0AAAAAA4M+zQAAAAADA0LNAAAAAAMDQs0AAAAAAQNGzQAAAAABQ0bNAAAAAAGDRs0AAAAAAkNGzQAAAAACQ0bNAAAAAALDRs0AAAAAAENKzQAAAAAAQ0rNAAAAAABDSs0AAAAAAENKzQAAAAAAQ0rNAAAAAABDSs0AAAAAAANKzQAAAAAAA0rNAAAAAACDSs0AAAAAA8NGzQAAAAADw0bNAAAAAAGDSs0AAAAAAMNKzQAAAAADQ0bNAAAAAANDRs0AAAAAAkNGzQAAAAAAQ0bNAAAAAABDRs0AAAAAAENGzQAAAAAAQ0bNAAAAAAPDQs0AAAAAAsM+zQAAAAACAz7NAAAAAAGDPs0AAAAAAIM+zQAAAAAAgz7NAAAAAACDPs0AAAAAAIM+zQAAAAADwzrNAAAAAAMDOs0AAAAAAkM6zQAAAAADAzrNAAAAAAPDOs0AAAAAAAM+zQAAAAABgzbNAAAAAAGDLs0AAAAAAgMizQAAAAACAyLNAAAAAAIDIs0A=",
          "dtype": "f8"
         }
        },
        {
         "fill": "tonexty",
         "fillcolor": "rgba(100,100,100,0.2)",
         "line": {
          "color": "rgba(200,0,0,0.5)"
         },
         "mode": "lines",
         "name": "Senkou Span B",
         "type": "scatter",
         "x": [
          "2024-04-25T10:57:00.000000000",
          "2024-04-25T10:58:00.000000000",
          "2024-04-25T10:59:00.000000000",
          "2024-04-25T11:00:00.000000000",
          "2024-04-25T11:01:00.000000000",
          "2024-04-25T11:02:00.000000000",
          "2024-04-25T11:03:00.000000000",
          "2024-04-25T11:04:00.000000000",
          "2024-04-25T11:05:00.000000000",
          "2024-04-25T11:06:00.000000000",
          "2024-04-25T11:07:00.000000000",
          "2024-04-25T11:08:00.000000000",
          "2024-04-25T11:09:00.000000000",
          "2024-04-25T11:10:00.000000000",
          "2024-04-25T11:11:00.000000000",
          "2024-04-25T11:12:00.000000000",
          "2024-04-25T11:13:00.000000000",
          "2024-04-25T11:14:00.000000000",
          "2024-04-25T11:15:00.000000000",
          "2024-04-25T11:16:00.000000000",
          "2024-04-25T11:17:00.000000000",
          "2024-04-25T11:18:00.000000000",
          "2024-04-25T11:19:00.000000000",
          "2024-04-25T11:20:00.000000000",
          "2024-04-25T11:21:00.000000000",
          "2024-04-25T11:22:00.000000000",
          "2024-04-25T11:23:00.000000000",
          "2024-04-25T11:24:00.000000000",
          "2024-04-25T11:25:00.000000000",
          "2024-04-25T11:26:00.000000000",
          "2024-04-25T11:27:00.000000000",
          "2024-04-25T11:28:00.000000000",
          "2024-04-25T11:29:00.000000000",
          "2024-04-25T11:30:00.000000000",
          "2024-04-25T11:31:00.000000000",
          "2024-04-25T11:32:00.000000000",
          "2024-04-25T11:33:00.000000000",
          "2024-04-25T11:34:00.000000000",
          "2024-04-25T11:35:00.000000000",
          "2024-04-25T11:36:00.000000000",
          "2024-04-25T11:37:00.000000000",
          "2024-04-25T11:38:00.000000000",
          "2024-04-25T11:39:00.000000000",
          "2024-04-25T11:40:00.000000000",
          "2024-04-25T11:41:00.000000000",
          "2024-04-25T11:42:00.000000000",
          "2024-04-25T11:43:00.000000000",
          "2024-04-25T11:44:00.000000000",
          "2024-04-25T11:45:00.000000000",
          "2024-04-25T11:46:00.000000000",
          "2024-04-25T11:47:00.000000000",
          "2024-04-25T11:48:00.000000000",
          "2024-04-25T11:49:00.000000000",
          "2024-04-25T11:50:00.000000000",
          "2024-04-25T11:51:00.000000000",
          "2024-04-25T11:52:00.000000000",
          "2024-04-25T11:53:00.000000000",
          "2024-04-25T11:54:00.000000000",
          "2024-04-25T11:55:00.000000000",
          "2024-04-25T11:56:00.000000000",
          "2024-04-25T11:57:00.000000000",
          "2024-04-25T11:58:00.000000000",
          "2024-04-25T11:59:00.000000000",
          "2024-04-25T12:00:00.000000000",
          "2024-04-25T12:01:00.000000000",
          "2024-04-25T12:02:00.000000000",
          "2024-04-25T12:03:00.000000000",
          "2024-04-25T12:04:00.000000000",
          "2024-04-25T12:05:00.000000000",
          "2024-04-25T12:06:00.000000000",
          "2024-04-25T12:07:00.000000000",
          "2024-04-25T12:08:00.000000000",
          "2024-04-25T12:09:00.000000000",
          "2024-04-25T12:10:00.000000000",
          "2024-04-25T12:11:00.000000000",
          "2024-04-25T12:12:00.000000000",
          "2024-04-25T12:13:00.000000000",
          "2024-04-25T12:14:00.000000000",
          "2024-04-25T12:15:00.000000000",
          "2024-04-25T12:16:00.000000000",
          "2024-04-25T12:17:00.000000000",
          "2024-04-25T12:18:00.000000000",
          "2024-04-25T12:19:00.000000000",
          "2024-04-25T12:20:00.000000000",
          "2024-04-25T12:21:00.000000000",
          "2024-04-25T12:22:00.000000000",
          "2024-04-25T12:23:00.000000000",
          "2024-04-25T12:24:00.000000000",
          "2024-04-25T12:25:00.000000000",
          "2024-04-25T12:26:00.000000000",
          "2024-04-25T12:27:00.000000000",
          "2024-04-25T12:28:00.000000000",
          "2024-04-25T12:29:00.000000000",
          "2024-04-25T12:30:00.000000000",
          "2024-04-25T12:31:00.000000000",
          "2024-04-25T12:32:00.000000000",
          "2024-04-25T12:33:00.000000000",
          "2024-04-25T12:34:00.000000000",
          "2024-04-25T12:35:00.000000000",
          "2024-04-25T12:36:00.000000000",
          "2024-04-25T12:37:00.000000000",
          "2024-04-25T12:38:00.000000000",
          "2024-04-25T12:39:00.000000000",
          "2024-04-25T12:40:00.000000000",
          "2024-04-25T12:41:00.000000000",
          "2024-04-25T12:42:00.000000000",
          "2024-04-25T12:43:00.000000000",
          "2024-04-25T12:44:00.000000000",
          "2024-04-25T12:45:00.000000000",
          "2024-04-25T12:46:00.000000000",
          "2024-04-25T12:47:00.000000000",
          "2024-04-25T12:48:00.000000000",
          "2024-04-25T12:49:00.000000000",
          "2024-04-25T12:50:00.000000000",
          "2024-04-25T12:51:00.000000000",
          "2024-04-25T12:52:00.000000000",
          "2024-04-25T12:53:00.000000000",
          "2024-04-25T12:54:00.000000000",
          "2024-04-25T12:55:00.000000000",
          "2024-04-25T12:56:00.000000000",
          "2024-04-25T12:57:00.000000000",
          "2024-04-25T12:58:00.000000000",
          "2024-04-25T12:59:00.000000000",
          "2024-04-25T13:00:00.000000000"
         ],
         "y": {
          "bdata": "AAAAACDXs0AAAAAAINezQAAAAAAg17NAAAAAACDXs0AAAAAAINezQAAAAAAg17NAAAAAACDXs0AAAAAAINezQAAAAADg1rNAAAAAAKDWs0AAAAAAYNazQAAAAADg1bNAAAAAAGDVs0AAAAAAYNWzQAAAAABg1bNAAAAAAGDVs0AAAAAAYNWzQAAAAABg1bNAAAAAAGDVs0AAAAAAYNWzQAAAAABg1bNAAAAAAGDVs0AAAAAAYNWzQAAAAABg1bNAAAAAAEDVs0AAAAAAYNSzQAAAAAAA1LNAAAAAAODTs0AAAAAA4NOzQAAAAACg07NAAAAAAIDTs0AAAAAAINKzQAAAAAAg0rNAAAAAACDSs0AAAAAAINKzQAAAAAAg0rNAAAAAACDSs0AAAAAAINKzQAAAAAAg0rNAAAAAACDSs0AAAAAAINKzQAAAAAAg0rNAAAAAACDSs0AAAAAAINKzQAAAAAAg0rNAAAAAACDSs0AAAAAAINKzQAAAAAAg0rNAAAAAACDSs0AAAAAAINKzQAAAAAAg0rNAAAAAACDSs0AAAAAAINKzQAAAAAAg0rNAAAAAACDSs0AAAAAAINKzQAAAAADg0bNAAAAAAIDRs0AAAAAAgNGzQAAAAACA0bNAAAAAAIDRs0AAAAAAQNGzQAAAAABA0bNAAAAAAEDRs0AAAAAAQNGzQAAAAAAg0bNAAAAAACDRs0AAAAAAINGzQAAAAAAg0bNAAAAAACDRs0AAAAAAINGzQAAAAAAg0bNAAAAAACDRs0AAAAAAgNCzQAAAAACA0LNAAAAAAIDQs0AAAAAAgNCzQAAAAACA0LNAAAAAAIDQs0AAAAAAgNCzQAAAAACA0LNAAAAAAIDQs0AAAAAAgNCzQAAAAACA0LNAAAAAAIDQs0AAAAAAwNCzQAAAAADA0LNAAAAAAMDQs0AAAAAAwNCzQAAAAADA0LNAAAAAAMDQs0AAAAAAwNCzQAAAAADA0LNAAAAAAMDQs0AAAAAAwNCzQAAAAADA0LNAAAAAAMDQs0AAAAAAwNCzQAAAAADA0LNAAAAAAMDQs0AAAAAAwNCzQAAAAADA0LNAAAAAAMDQs0AAAAAAwNCzQAAAAADA0LNAAAAAAMDQs0AAAAAAQNCzQAAAAABA0LNAAAAAAEDQs0AAAAAAQNCzQAAAAABA0LNAAAAAAEDQs0AAAAAAQNCzQAAAAABA0LNAAAAAAEDQs0AAAAAAQNCzQAAAAABA0LNAAAAAAEDQs0AAAAAAQNCzQAAAAABgzbNAAAAAAGDLs0AAAAAAgMizQAAAAACAyLNAAAAAAIDIs0A=",
          "dtype": "f8"
         }
        },
        {
         "marker": {
          "color": "green",
          "size": 10
         },
         "mode": "markers+text",
         "name": "Entrée",
         "text": [
          "Entrée"
         ],
         "textposition": "top center",
         "type": "scatter",
         "x": [
          "2024-04-25T11:27:00"
         ],
         "y": [
          5072
         ]
        },
        {
         "marker": {
          "color": "red",
          "size": 10
         },
         "mode": "markers+text",
         "name": "Sortie",
         "text": [
          "Sortie"
         ],
         "textposition": "bottom center",
         "type": "scatter",
         "x": [
          "2024-04-25T12:30:00"
         ],
         "y": [
          5065.25
         ]
        }
       ],
       "layout": {
        "template": {
         "data": {
          "bar": [
           {
            "error_x": {
             "color": "#2a3f5f"
            },
            "error_y": {
             "color": "#2a3f5f"
            },
            "marker": {
             "line": {
              "color": "white",
              "width": 0.5
             },
             "pattern": {
              "fillmode": "overlay",
              "size": 10,
              "solidity": 0.2
             }
            },
            "type": "bar"
           }
          ],
          "barpolar": [
           {
            "marker": {
             "line": {
              "color": "white",
              "width": 0.5
             },
             "pattern": {
              "fillmode": "overlay",
              "size": 10,
              "solidity": 0.2
             }
            },
            "type": "barpolar"
           }
          ],
          "carpet": [
           {
            "aaxis": {
             "endlinecolor": "#2a3f5f",
             "gridcolor": "#C8D4E3",
             "linecolor": "#C8D4E3",
             "minorgridcolor": "#C8D4E3",
             "startlinecolor": "#2a3f5f"
            },
            "baxis": {
             "endlinecolor": "#2a3f5f",
             "gridcolor": "#C8D4E3",
             "linecolor": "#C8D4E3",
             "minorgridcolor": "#C8D4E3",
             "startlinecolor": "#2a3f5f"
            },
            "type": "carpet"
           }
          ],
          "choropleth": [
           {
            "colorbar": {
             "outlinewidth": 0,
             "ticks": ""
            },
            "type": "choropleth"
           }
          ],
          "contour": [
           {
            "colorbar": {
             "outlinewidth": 0,
             "ticks": ""
            },
            "colorscale": [
             [
              0,
              "#0d0887"
             ],
             [
              0.1111111111111111,
              "#46039f"
             ],
             [
              0.2222222222222222,
              "#7201a8"
             ],
             [
              0.3333333333333333,
              "#9c179e"
             ],
             [
              0.4444444444444444,
              "#bd3786"
             ],
             [
              0.5555555555555556,
              "#d8576b"
             ],
             [
              0.6666666666666666,
              "#ed7953"
             ],
             [
              0.7777777777777778,
              "#fb9f3a"
             ],
             [
              0.8888888888888888,
              "#fdca26"
             ],
             [
              1,
              "#f0f921"
             ]
            ],
            "type": "contour"
           }
          ],
          "contourcarpet": [
           {
            "colorbar": {
             "outlinewidth": 0,
             "ticks": ""
            },
            "type": "contourcarpet"
           }
          ],
          "heatmap": [
           {
            "colorbar": {
             "outlinewidth": 0,
             "ticks": ""
            },
            "colorscale": [
             [
              0,
              "#0d0887"
             ],
             [
              0.1111111111111111,
              "#46039f"
             ],
             [
              0.2222222222222222,
              "#7201a8"
             ],
             [
              0.3333333333333333,
              "#9c179e"
             ],
             [
              0.4444444444444444,
              "#bd3786"
             ],
             [
              0.5555555555555556,
              "#d8576b"
             ],
             [
              0.6666666666666666,
              "#ed7953"
             ],
             [
              0.7777777777777778,
              "#fb9f3a"
             ],
             [
              0.8888888888888888,
              "#fdca26"
             ],
             [
              1,
              "#f0f921"
             ]
            ],
            "type": "heatmap"
           }
          ],
          "histogram": [
           {
            "marker": {
             "pattern": {
              "fillmode": "overlay",
              "size": 10,
              "solidity": 0.2
             }
            },
            "type": "histogram"
           }
          ],
          "histogram2d": [
           {
            "colorbar": {
             "outlinewidth": 0,
             "ticks": ""
            },
            "colorscale": [
             [
              0,
              "#0d0887"
             ],
             [
              0.1111111111111111,
              "#46039f"
             ],
             [
              0.2222222222222222,
              "#7201a8"
             ],
             [
              0.3333333333333333,
              "#9c179e"
             ],
             [
              0.4444444444444444,
              "#bd3786"
             ],
             [
              0.5555555555555556,
              "#d8576b"
             ],
             [
              0.6666666666666666,
              "#ed7953"
             ],
             [
              0.7777777777777778,
              "#fb9f3a"
             ],
             [
              0.8888888888888888,
              "#fdca26"
             ],
             [
              1,
              "#f0f921"
             ]
            ],
            "type": "histogram2d"
           }
          ],
          "histogram2dcontour": [
           {
            "colorbar": {
             "outlinewidth": 0,
             "ticks": ""
            },
            "colorscale": [
             [
              0,
              "#0d0887"
             ],
             [
              0.1111111111111111,
              "#46039f"
             ],
             [
              0.2222222222222222,
              "#7201a8"
             ],
             [
              0.3333333333333333,
              "#9c179e"
             ],
             [
              0.4444444444444444,
              "#bd3786"
             ],
             [
              0.5555555555555556,
              "#d8576b"
             ],
             [
              0.6666666666666666,
              "#ed7953"
             ],
             [
              0.7777777777777778,
              "#fb9f3a"
             ],
             [
              0.8888888888888888,
              "#fdca26"
             ],
             [
              1,
              "#f0f921"
             ]
            ],
            "type": "histogram2dcontour"
           }
          ],
          "mesh3d": [
           {
            "colorbar": {
             "outlinewidth": 0,
             "ticks": ""
            },
            "type": "mesh3d"
           }
          ],
          "parcoords": [
           {
            "line": {
             "colorbar": {
              "outlinewidth": 0,
              "ticks": ""
             }
            },
            "type": "parcoords"
           }
          ],
          "pie": [
           {
            "automargin": true,
            "type": "pie"
           }
          ],
          "scatter": [
           {
            "fillpattern": {
             "fillmode": "overlay",
             "size": 10,
             "solidity": 0.2
            },
            "type": "scatter"
           }
          ],
          "scatter3d": [
           {
            "line": {
             "colorbar": {
              "outlinewidth": 0,
              "ticks": ""
             }
            },
            "marker": {
             "colorbar": {
              "outlinewidth": 0,
              "ticks": ""
             }
            },
            "type": "scatter3d"
           }
          ],
          "scattercarpet": [
           {
            "marker": {
             "colorbar": {
              "outlinewidth": 0,
              "ticks": ""
             }
            },
            "type": "scattercarpet"
           }
          ],
          "scattergeo": [
           {
            "marker": {
             "colorbar": {
              "outlinewidth": 0,
              "ticks": ""
             }
            },
            "type": "scattergeo"
           }
          ],
          "scattergl": [
           {
            "marker": {
             "colorbar": {
              "outlinewidth": 0,
              "ticks": ""
             }
            },
            "type": "scattergl"
           }
          ],
          "scattermap": [
           {
            "marker": {
             "colorbar": {
              "outlinewidth": 0,
              "ticks": ""
             }
            },
            "type": "scattermap"
           }
          ],
          "scattermapbox": [
           {
            "marker": {
             "colorbar": {
              "outlinewidth": 0,
              "ticks": ""
             }
            },
            "type": "scattermapbox"
           }
          ],
          "scatterpolar": [
           {
            "marker": {
             "colorbar": {
              "outlinewidth": 0,
              "ticks": ""
             }
            },
            "type": "scatterpolar"
           }
          ],
          "scatterpolargl": [
           {
            "marker": {
             "colorbar": {
              "outlinewidth": 0,
              "ticks": ""
             }
            },
            "type": "scatterpolargl"
           }
          ],
          "scatterternary": [
           {
            "marker": {
             "colorbar": {
              "outlinewidth": 0,
              "ticks": ""
             }
            },
            "type": "scatterternary"
           }
          ],
          "surface": [
           {
            "colorbar": {
             "outlinewidth": 0,
             "ticks": ""
            },
            "colorscale": [
             [
              0,
              "#0d0887"
             ],
             [
              0.1111111111111111,
              "#46039f"
             ],
             [
              0.2222222222222222,
              "#7201a8"
             ],
             [
              0.3333333333333333,
              "#9c179e"
             ],
             [
              0.4444444444444444,
              "#bd3786"
             ],
             [
              0.5555555555555556,
              "#d8576b"
             ],
             [
              0.6666666666666666,
              "#ed7953"
             ],
             [
              0.7777777777777778,
              "#fb9f3a"
             ],
             [
              0.8888888888888888,
              "#fdca26"
             ],
             [
              1,
              "#f0f921"
             ]
            ],
            "type": "surface"
           }
          ],
          "table": [
           {
            "cells": {
             "fill": {
              "color": "#EBF0F8"
             },
             "line": {
              "color": "white"
             }
            },
            "header": {
             "fill": {
              "color": "#C8D4E3"
             },
             "line": {
              "color": "white"
             }
            },
            "type": "table"
           }
          ]
         },
         "layout": {
          "annotationdefaults": {
           "arrowcolor": "#2a3f5f",
           "arrowhead": 0,
           "arrowwidth": 1
          },
          "autotypenumbers": "strict",
          "coloraxis": {
           "colorbar": {
            "outlinewidth": 0,
            "ticks": ""
           }
          },
          "colorscale": {
           "diverging": [
            [
             0,
             "#8e0152"
            ],
            [
             0.1,
             "#c51b7d"
            ],
            [
             0.2,
             "#de77ae"
            ],
            [
             0.3,
             "#f1b6da"
            ],
            [
             0.4,
             "#fde0ef"
            ],
            [
             0.5,
             "#f7f7f7"
            ],
            [
             0.6,
             "#e6f5d0"
            ],
            [
             0.7,
             "#b8e186"
            ],
            [
             0.8,
             "#7fbc41"
            ],
            [
             0.9,
             "#4d9221"
            ],
            [
             1,
             "#276419"
            ]
           ],
           "sequential": [
            [
             0,
             "#0d0887"
            ],
            [
             0.1111111111111111,
             "#46039f"
            ],
            [
             0.2222222222222222,
             "#7201a8"
            ],
            [
             0.3333333333333333,
             "#9c179e"
            ],
            [
             0.4444444444444444,
             "#bd3786"
            ],
            [
             0.5555555555555556,
             "#d8576b"
            ],
            [
             0.6666666666666666,
             "#ed7953"
            ],
            [
             0.7777777777777778,
             "#fb9f3a"
            ],
            [
             0.8888888888888888,
             "#fdca26"
            ],
            [
             1,
             "#f0f921"
            ]
           ],
           "sequentialminus": [
            [
             0,
             "#0d0887"
            ],
            [
             0.1111111111111111,
             "#46039f"
            ],
            [
             0.2222222222222222,
             "#7201a8"
            ],
            [
             0.3333333333333333,
             "#9c179e"
            ],
            [
             0.4444444444444444,
             "#bd3786"
            ],
            [
             0.5555555555555556,
             "#d8576b"
            ],
            [
             0.6666666666666666,
             "#ed7953"
            ],
            [
             0.7777777777777778,
             "#fb9f3a"
            ],
            [
             0.8888888888888888,
             "#fdca26"
            ],
            [
             1,
             "#f0f921"
            ]
           ]
          },
          "colorway": [
           "#636efa",
           "#EF553B",
           "#00cc96",
           "#ab63fa",
           "#FFA15A",
           "#19d3f3",
           "#FF6692",
           "#B6E880",
           "#FF97FF",
           "#FECB52"
          ],
          "font": {
           "color": "#2a3f5f"
          },
          "geo": {
           "bgcolor": "white",
           "lakecolor": "white",
           "landcolor": "white",
           "showlakes": true,
           "showland": true,
           "subunitcolor": "#C8D4E3"
          },
          "hoverlabel": {
           "align": "left"
          },
          "hovermode": "closest",
          "mapbox": {
           "style": "light"
          },
          "paper_bgcolor": "white",
          "plot_bgcolor": "white",
          "polar": {
           "angularaxis": {
            "gridcolor": "#EBF0F8",
            "linecolor": "#EBF0F8",
            "ticks": ""
           },
           "bgcolor": "white",
           "radialaxis": {
            "gridcolor": "#EBF0F8",
            "linecolor": "#EBF0F8",
            "ticks": ""
           }
          },
          "scene": {
           "xaxis": {
            "backgroundcolor": "white",
            "gridcolor": "#DFE8F3",
            "gridwidth": 2,
            "linecolor": "#EBF0F8",
            "showbackground": true,
            "ticks": "",
            "zerolinecolor": "#EBF0F8"
           },
           "yaxis": {
            "backgroundcolor": "white",
            "gridcolor": "#DFE8F3",
            "gridwidth": 2,
            "linecolor": "#EBF0F8",
            "showbackground": true,
            "ticks": "",
            "zerolinecolor": "#EBF0F8"
           },
           "zaxis": {
            "backgroundcolor": "white",
            "gridcolor": "#DFE8F3",
            "gridwidth": 2,
            "linecolor": "#EBF0F8",
            "showbackground": true,
            "ticks": "",
            "zerolinecolor": "#EBF0F8"
           }
          },
          "shapedefaults": {
           "line": {
            "color": "#2a3f5f"
           }
          },
          "ternary": {
           "aaxis": {
            "gridcolor": "#DFE8F3",
            "linecolor": "#A2B1C6",
            "ticks": ""
           },
           "baxis": {
            "gridcolor": "#DFE8F3",
            "linecolor": "#A2B1C6",
            "ticks": ""
           },
           "bgcolor": "white",
           "caxis": {
            "gridcolor": "#DFE8F3",
            "linecolor": "#A2B1C6",
            "ticks": ""
           }
          },
          "title": {
           "x": 0.05
          },
          "xaxis": {
           "automargin": true,
           "gridcolor": "#EBF0F8",
           "linecolor": "#EBF0F8",
           "ticks": "",
           "title": {
            "standoff": 15
           },
           "zerolinecolor": "#EBF0F8",
           "zerolinewidth": 2
          },
          "yaxis": {
           "automargin": true,
           "gridcolor": "#EBF0F8",
           "linecolor": "#EBF0F8",
           "ticks": "",
           "title": {
            "standoff": 15
           },
           "zerolinecolor": "#EBF0F8",
           "zerolinewidth": 2
          }
         }
        },
        "title": {
         "text": "Trade #639 avec Ichimoku Kumo - Position.SHORT | Profit: 0.66628%"
        },
        "xaxis": {
         "rangeslider": {
          "visible": false
         },
         "title": {
          "text": "Date"
         }
        },
        "yaxis": {
         "title": {
          "text": "Prix"
         }
        }
       }
      }
     },
     "metadata": {},
     "output_type": "display_data"
    }
   ],
   "source": [
    "import pandas as pd\n",
    "import plotly.graph_objects as go\n",
    "# 1. Exemple de DataFrames (tu peux adapter avec les tiens)\n",
    "# df_prices : historique des prix du SP500 (avec une colonne 'date' et 'price')\n",
    "# df_trades : dataframe contenant les trades\n",
    "\n",
    "# Choisir un index de trade, par exemple le 5e\n",
    "trade_index = 639\n",
    "trade = df_losing.loc[trade_index]\n",
    "\n",
    "entry_date = pd.to_datetime(trade['entry_date'])\n",
    "exit_date = pd.to_datetime(trade['exit_date'])\n",
    "\n",
    "# 2. Filtrer les prix autour de la période du trade\n",
    "df_plot = df_main[(df_main['datetime'] >= entry_date - pd.Timedelta(minutes=15)) & (df_main['datetime'] <= exit_date + pd.Timedelta(minutes=15))]\n",
    "# Créer le graphique en chandelier\n",
    "fig = go.Figure(data=[go.Candlestick(\n",
    "    x=df_plot['datetime'],\n",
    "    open=df_plot['open'],\n",
    "    high=df_plot['high'],\n",
    "    low=df_plot['low'],\n",
    "    close=df_plot['close'],\n",
    "    name='SP500',\n",
    ")])\n",
    "# fig.update_xaxes(dtick=1)\n",
    "\n",
    "# ➤ Lignes Ichimoku\n",
    "fig.add_trace(go.Scatter(x=df_plot['datetime'], y=df_plot['tenkan'], mode='lines', name='Tenkan-sen', line=dict(color='orange')))\n",
    "fig.add_trace(go.Scatter(x=df_plot['datetime'], y=df_plot['kijun'], mode='lines', name='Kijun-sen', line=dict(color='green')))\n",
    "fig.add_trace(go.Scatter(x=df_plot['datetime'], y=df_plot['chikou'], mode='lines', name='Chikou Span', line=dict(color='purple')))\n",
    "\n",
    "# ➤ Nuage Ichimoku (Kumo)\n",
    "# Span A\n",
    "fig.add_trace(go.Scatter(\n",
    "    x=df_plot['datetime'],\n",
    "    y=df_plot['ssa'],\n",
    "    mode='lines',\n",
    "    name='Senkou Span A',\n",
    "    line=dict(color='rgba(0,200,0,0.5)'),\n",
    "    fill=None\n",
    "))\n",
    "# Span B avec remplissage\n",
    "fig.add_trace(go.Scatter(\n",
    "    x=df_plot['datetime'],\n",
    "    y=df_plot['ssb'],\n",
    "    mode='lines',\n",
    "    name='Senkou Span B',\n",
    "    line=dict(color='rgba(200,0,0,0.5)'),\n",
    "    fill='tonexty',  # crée le nuage entre Span B et la courbe précédente (Span A)\n",
    "    fillcolor='rgba(100,100,100,0.2)'  # couleur du nuage\n",
    "))\n",
    "\n",
    "# ➤ Points d'entrée / sortie\n",
    "fig.add_trace(go.Scatter(\n",
    "    x=[entry_date], y=[trade['entry_price']],\n",
    "    mode='markers+text', marker=dict(color='green', size=10),\n",
    "    name='Entrée', text=[\"Entrée\"], textposition=\"top center\"\n",
    "))\n",
    "fig.add_trace(go.Scatter(\n",
    "    x=[exit_date], y=[trade['exit_price']],\n",
    "    mode='markers+text', marker=dict(color='red', size=10),\n",
    "    name='Sortie', text=[\"Sortie\"], textposition=\"bottom center\"\n",
    "))\n",
    "\n",
    "# ➤ Mise en forme\n",
    "fig.update_layout(\n",
    "    title=f\"Trade #{trade_index} avec Ichimoku Kumo - {trade['position']} | Profit: {trade['profit_including_fees_from_start(%)']}%\",\n",
    "    xaxis_title=\"Date\",\n",
    "    yaxis_title=\"Prix\",\n",
    "    xaxis_rangeslider_visible=False,\n",
    "    template=\"plotly_white\"\n",
    ")\n",
    "\n",
    "fig.show()"
   ]
  },
  {
   "cell_type": "code",
   "execution_count": 8,
   "metadata": {},
   "outputs": [],
   "source": [
    "fig.write_html(\"trade_ichimoku.html\")"
   ]
  }
 ],
 "metadata": {
  "kernelspec": {
   "display_name": "Python 3",
   "language": "python",
   "name": "python3"
  },
  "language_info": {
   "codemirror_mode": {
    "name": "ipython",
    "version": 3
   },
   "file_extension": ".py",
   "mimetype": "text/x-python",
   "name": "python",
   "nbconvert_exporter": "python",
   "pygments_lexer": "ipython3",
   "version": "3.13.0"
  }
 },
 "nbformat": 4,
 "nbformat_minor": 2
}
