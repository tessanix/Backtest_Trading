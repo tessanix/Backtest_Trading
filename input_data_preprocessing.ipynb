{
 "cells": [
  {
   "cell_type": "markdown",
   "metadata": {},
   "source": [
    "### Objectifs de cette page: ###\n",
    "- analyser les données obtenues (voir s'il y a des valeurs manquantes et si cohérence)\n",
    "- retirer les données inutiles\n",
    "- créer des 2 sets de données 1min et 5min avec la colonne \"high_before_low\"\n",
    "- regarder si la colonne crée semble cohérente \n",
    "- générer un backtest pour chaque set de données (peut etre sur une autre page)"
   ]
  },
  {
   "cell_type": "markdown",
   "metadata": {},
   "source": [
    "# FONCTION DEFINITION"
   ]
  },
  {
   "cell_type": "code",
   "execution_count": 3,
   "metadata": {},
   "outputs": [],
   "source": [
    "import pandas as pd\n",
    "import plotly.graph_objects as go\n",
    "\n",
    "def print_olhc_price_from_df(df_plot, start_date, end_date):\n",
    "\n",
    "    start_date = pd.to_datetime(start_date)\n",
    "    end_date = pd.to_datetime(end_date)\n",
    "\n",
    "    # 2. Filtrer les prix autour de la période du trade\n",
    "    df_plot = df_plot[(df_plot['datetime'] >= start_date) & (df_plot['datetime'] <= end_date)]\n",
    "    # Créer le graphique en chandelier\n",
    "    fig = go.Figure(data=[go.Candlestick(\n",
    "        x=df_plot['datetime'],\n",
    "        open=df_plot['open'],\n",
    "        high=df_plot['high'],\n",
    "        low=df_plot['low'],\n",
    "        close=df_plot['close'],\n",
    "        name='SP500',\n",
    "    )])\n",
    "    # fig.update_xaxes(dtick=1)\n",
    "\n",
    "    # ➤ Lignes Ichimoku\n",
    "    fig.add_trace(go.Scatter(x=df_plot['datetime'], y=df_plot['tenkan'], mode='lines', name='Tenkan-sen', line=dict(color='orange')))\n",
    "    fig.add_trace(go.Scatter(x=df_plot['datetime'], y=df_plot['kijun'], mode='lines', name='Kijun-sen', line=dict(color='green')))\n",
    "    fig.add_trace(go.Scatter(x=df_plot['datetime'], y=df_plot['chikou'], mode='lines', name='Chikou Span', line=dict(color='purple')))\n",
    "\n",
    "    # ➤ Nuage Ichimoku (Kumo)\n",
    "    # Span A\n",
    "    fig.add_trace(go.Scatter(\n",
    "        x=df_plot['datetime'],\n",
    "        y=df_plot['ssa'],\n",
    "        mode='lines',\n",
    "        name='Senkou Span A',\n",
    "        line=dict(color='rgba(0,200,0,0.5)'),\n",
    "        fill=None\n",
    "    ))\n",
    "    # Span B avec remplissage\n",
    "    fig.add_trace(go.Scatter(\n",
    "        x=df_plot['datetime'],\n",
    "        y=df_plot['ssb'],\n",
    "        mode='lines',\n",
    "        name='Senkou Span B',\n",
    "        line=dict(color='rgba(200,0,0,0.5)'),\n",
    "        fill='tonexty',  # crée le nuage entre Span B et la courbe précédente (Span A)\n",
    "        fillcolor='rgba(100,100,100,0.2)'  # couleur du nuage\n",
    "    ))\n",
    "\n",
    "    # ➤ Mise en forme\n",
    "    fig.update_layout(\n",
    "        title=f\"Prix de {start_date} à {end_date}\",\n",
    "        xaxis_title=\"Date\",\n",
    "        yaxis_title=\"Prix\",\n",
    "        xaxis_rangeslider_visible=False,\n",
    "        template=\"plotly_white\"\n",
    "    )\n",
    "    fig.show()"
   ]
  },
  {
   "cell_type": "code",
   "execution_count": 2,
   "metadata": {},
   "outputs": [],
   "source": [
    "import pandas as pd\n",
    "\n",
    "def create_df_from_csv(timeFrameUsed=\"1m\", start_date=\"2020-03-20 00:00:00\", end_date=\"2025-02-26 12:00:00\", \n",
    "                       let_original_rangeTime=True):\n",
    "    \n",
    "    main_df = pd.DataFrame()\n",
    "    root_path = \"C:/Users/tessa/Codes/Backtest_Trading/market_data/\"\n",
    "    path = root_path+f\"ES_{timeFrameUsed}_2-10-2020-12-00PM_3-10-2025-12-00PM.csv\"\n",
    "    \n",
    "    main_df = pd.read_csv(\n",
    "        filepath_or_buffer=path,\n",
    "        usecols=[\"Time left\", \"Open\", \"High\", \"Low\", \"Close\", \"Volume\"],\n",
    "        # names=[\"datetime\", \"open\", \"high\", \"low\",\"close\", \"volume\",\"high_before_low\"],\n",
    "        #header=None,\n",
    "        delimiter=\";\",\n",
    "        # dtype={'high_before_low': 'boolean'}\n",
    "    ).rename(columns={\n",
    "        'Time left': 'datetime', \n",
    "        'Open': 'open',\n",
    "        \"High\":'high', \n",
    "        \"Low\":'low',\n",
    "        \"Close\":'close', \n",
    "        \"Volume\":'volume'\n",
    "    }, inplace=False)\n",
    "\n",
    "    main_df['datetime'] = pd.to_datetime(main_df['datetime'], format='%Y-%m-%d %H:%M:%S.%f')\n",
    "\n",
    "    if not let_original_rangeTime:\n",
    "        start_date = pd.to_datetime(start_date) \n",
    "        end_date = pd.to_datetime(end_date)\n",
    "        main_df = main_df[(start_date <= main_df['datetime']) & (main_df['datetime'] <= end_date)]\n",
    "        main_df.reset_index(inplace=True)\n",
    "\n",
    "    return main_df"
   ]
  },
  {
   "cell_type": "code",
   "execution_count": 4,
   "metadata": {},
   "outputs": [],
   "source": [
    "def resample_data(df, frequency=\"1min\"):\n",
    "    # Il doit contenir 'datetime' + ['open', 'high', 'low', 'close']\n",
    "    df['datetime'] = pd.to_datetime(df['datetime'])\n",
    "    df.set_index('datetime', inplace=True)\n",
    "\n",
    "    # S'assurer que les données sont triées\n",
    "    df.sort_index(inplace=True)\n",
    "\n",
    "    # Grouper par date (chaque jour séparé)\n",
    "    grouped = df.groupby(df.index.date)\n",
    "\n",
    "    resampled_list = []\n",
    "\n",
    "    for date, group in grouped:\n",
    "        #group.index = pd.to_datetime(group.index)  # retransformer l'index en datetime si nécessaire\n",
    "        # Rééchantillonnage à la minute près pour ce jour-là\n",
    "        resampled = group.resample(frequency).agg({\n",
    "            'open': 'first',\n",
    "            'high': 'max',\n",
    "            'low': 'min',\n",
    "            'close': 'last'\n",
    "        })\n",
    "        # Ne garder que les minutes où il y avait des données originales\n",
    "        resampled = resampled.loc[group.index.min():group.index.max()]\n",
    "        resampled_list.append(resampled)\n",
    "\n",
    "    # Recombiner tous les jours\n",
    "    df_resampled = pd.concat(resampled_list)\n",
    "\n",
    "    # Optionnel : remplir les trous dans les données si besoin\n",
    "    # df_resampled.fillna(method='ffill', inplace=True)\n",
    "\n",
    "    # Reset index si tu veux repasser en dataframe \"plat\"\n",
    "    df_resampled.reset_index(inplace=True)\n",
    "    return df_resampled"
   ]
  },
  {
   "cell_type": "code",
   "execution_count": 5,
   "metadata": {},
   "outputs": [],
   "source": [
    "from tqdm import tqdm\n",
    "\n",
    "high_before_low_results = []\n",
    "\n",
    "def high_before_low(df_10s_segment):\n",
    "    high_index = df_10s_segment['high'].idxmax()\n",
    "    low_index = df_10s_segment['low'].idxmin()\n",
    "    bool1 = high_index < low_index\n",
    "    # print(f\"high index = {high_index}, low index = {low_index}\")\n",
    "    # print(bool1)\n",
    "    return bool1\n",
    "\n",
    "def create_high_before_low_column(df, df_10s, frequency_of_data=1):\n",
    "    for timestamp in tqdm(df[\"datetime\"], unit=\"iteration\"):\n",
    "        # Définir la fenêtre de \"frequency_of_data\" minutes\n",
    "        start_time = str(timestamp)\n",
    "        end_time = str(timestamp + pd.Timedelta(minutes=frequency_of_data))\n",
    "        df_segment = df_10s.loc[start_time:end_time]\n",
    "        # df_segment = df_10s[(df_10s['datetime'] >= start_time) & (df_10s['datetime'] < end_time)]\n",
    "        # print(df_segment)\n",
    "        if not df_segment.empty:\n",
    "            high_before_low_results.append(high_before_low(df_segment))\n",
    "\n",
    "    df['high_before_low'] = high_before_low_results\n",
    "    return df"
   ]
  },
  {
   "cell_type": "code",
   "execution_count": 6,
   "metadata": {},
   "outputs": [],
   "source": [
    "def check_resample_null_values(df_original, df_resampled):\n",
    "    mask_nan = df_resampled.isnull().any(axis=1)\n",
    "    df_nan = df_resampled[mask_nan]\n",
    "\n",
    "    timestamps_nan = pd.to_datetime(df_nan['datetime'])  # Assure-toi que c'est bien datetime\n",
    "    timestamps_nan_absents = ~timestamps_nan.isin(df_original.index)\n",
    "\n",
    "    df_nan_externe = df_nan[timestamps_nan_absents]\n",
    "\n",
    "    print(\"⏱️ Timestamps avec NaN qui n'étaient PAS dans les données d'origine :\")\n",
    "    print(df_nan_externe)\n",
    "    # LA FONCTION RESAMPLE CREE DES LIGNES NAN EN PLUS :\n",
    "    # J'ai rééchantillonné sur des minutes en dehors de la plage réelle du jour\n",
    "    # en faisant : resampled = resampled.loc[group.index.min():group.index.max()]\n",
    "    # ça peut quand même inclure des timestamps exacts qui n’existaient pas dans les données originales, surtout si les données d’origine sont irrégulières."
   ]
  },
  {
   "cell_type": "markdown",
   "metadata": {},
   "source": [
    "# PROCESSING DES DATAS 1 MIN"
   ]
  },
  {
   "cell_type": "code",
   "execution_count": 5,
   "metadata": {},
   "outputs": [
    {
     "data": {
      "text/html": [
       "<div>\n",
       "<style scoped>\n",
       "    .dataframe tbody tr th:only-of-type {\n",
       "        vertical-align: middle;\n",
       "    }\n",
       "\n",
       "    .dataframe tbody tr th {\n",
       "        vertical-align: top;\n",
       "    }\n",
       "\n",
       "    .dataframe thead th {\n",
       "        text-align: right;\n",
       "    }\n",
       "</style>\n",
       "<table border=\"1\" class=\"dataframe\">\n",
       "  <thead>\n",
       "    <tr style=\"text-align: right;\">\n",
       "      <th></th>\n",
       "      <th>close</th>\n",
       "      <th>high</th>\n",
       "      <th>low</th>\n",
       "      <th>open</th>\n",
       "      <th>datetime</th>\n",
       "      <th>volume</th>\n",
       "    </tr>\n",
       "  </thead>\n",
       "  <tbody>\n",
       "    <tr>\n",
       "      <th>0</th>\n",
       "      <td>3327.25</td>\n",
       "      <td>3327.75</td>\n",
       "      <td>3326.75</td>\n",
       "      <td>3326.75</td>\n",
       "      <td>2020-02-10 11:00:00</td>\n",
       "      <td>407</td>\n",
       "    </tr>\n",
       "    <tr>\n",
       "      <th>1</th>\n",
       "      <td>3327.25</td>\n",
       "      <td>3327.25</td>\n",
       "      <td>3326.50</td>\n",
       "      <td>3327.25</td>\n",
       "      <td>2020-02-10 11:01:00</td>\n",
       "      <td>126</td>\n",
       "    </tr>\n",
       "    <tr>\n",
       "      <th>2</th>\n",
       "      <td>3327.00</td>\n",
       "      <td>3327.25</td>\n",
       "      <td>3326.50</td>\n",
       "      <td>3327.00</td>\n",
       "      <td>2020-02-10 11:02:00</td>\n",
       "      <td>204</td>\n",
       "    </tr>\n",
       "    <tr>\n",
       "      <th>3</th>\n",
       "      <td>3326.50</td>\n",
       "      <td>3327.25</td>\n",
       "      <td>3326.50</td>\n",
       "      <td>3327.00</td>\n",
       "      <td>2020-02-10 11:03:00</td>\n",
       "      <td>233</td>\n",
       "    </tr>\n",
       "    <tr>\n",
       "      <th>4</th>\n",
       "      <td>3326.75</td>\n",
       "      <td>3326.75</td>\n",
       "      <td>3326.00</td>\n",
       "      <td>3326.50</td>\n",
       "      <td>2020-02-10 11:04:00</td>\n",
       "      <td>521</td>\n",
       "    </tr>\n",
       "    <tr>\n",
       "      <th>...</th>\n",
       "      <td>...</td>\n",
       "      <td>...</td>\n",
       "      <td>...</td>\n",
       "      <td>...</td>\n",
       "      <td>...</td>\n",
       "      <td>...</td>\n",
       "    </tr>\n",
       "    <tr>\n",
       "      <th>8062697</th>\n",
       "      <td>5708.50</td>\n",
       "      <td>5709.00</td>\n",
       "      <td>5708.25</td>\n",
       "      <td>5709.00</td>\n",
       "      <td>2025-03-10 10:59:10</td>\n",
       "      <td>73</td>\n",
       "    </tr>\n",
       "    <tr>\n",
       "      <th>8062698</th>\n",
       "      <td>5708.50</td>\n",
       "      <td>5708.75</td>\n",
       "      <td>5708.25</td>\n",
       "      <td>5708.50</td>\n",
       "      <td>2025-03-10 10:59:20</td>\n",
       "      <td>22</td>\n",
       "    </tr>\n",
       "    <tr>\n",
       "      <th>8062699</th>\n",
       "      <td>5708.25</td>\n",
       "      <td>5708.75</td>\n",
       "      <td>5708.25</td>\n",
       "      <td>5708.50</td>\n",
       "      <td>2025-03-10 10:59:30</td>\n",
       "      <td>9</td>\n",
       "    </tr>\n",
       "    <tr>\n",
       "      <th>8062700</th>\n",
       "      <td>5708.25</td>\n",
       "      <td>5708.50</td>\n",
       "      <td>5707.75</td>\n",
       "      <td>5708.50</td>\n",
       "      <td>2025-03-10 10:59:40</td>\n",
       "      <td>106</td>\n",
       "    </tr>\n",
       "    <tr>\n",
       "      <th>8062701</th>\n",
       "      <td>5709.00</td>\n",
       "      <td>5709.00</td>\n",
       "      <td>5708.50</td>\n",
       "      <td>5708.75</td>\n",
       "      <td>2025-03-10 10:59:50</td>\n",
       "      <td>63</td>\n",
       "    </tr>\n",
       "  </tbody>\n",
       "</table>\n",
       "<p>8062702 rows × 6 columns</p>\n",
       "</div>"
      ],
      "text/plain": [
       "           close     high      low     open            datetime  volume\n",
       "0        3327.25  3327.75  3326.75  3326.75 2020-02-10 11:00:00     407\n",
       "1        3327.25  3327.25  3326.50  3327.25 2020-02-10 11:01:00     126\n",
       "2        3327.00  3327.25  3326.50  3327.00 2020-02-10 11:02:00     204\n",
       "3        3326.50  3327.25  3326.50  3327.00 2020-02-10 11:03:00     233\n",
       "4        3326.75  3326.75  3326.00  3326.50 2020-02-10 11:04:00     521\n",
       "...          ...      ...      ...      ...                 ...     ...\n",
       "8062697  5708.50  5709.00  5708.25  5709.00 2025-03-10 10:59:10      73\n",
       "8062698  5708.50  5708.75  5708.25  5708.50 2025-03-10 10:59:20      22\n",
       "8062699  5708.25  5708.75  5708.25  5708.50 2025-03-10 10:59:30       9\n",
       "8062700  5708.25  5708.50  5707.75  5708.50 2025-03-10 10:59:40     106\n",
       "8062701  5709.00  5709.00  5708.50  5708.75 2025-03-10 10:59:50      63\n",
       "\n",
       "[8062702 rows x 6 columns]"
      ]
     },
     "execution_count": 5,
     "metadata": {},
     "output_type": "execute_result"
    }
   ],
   "source": [
    "df_1m = create_df_from_csv(timeFrameUsed=\"1m\", let_original_rangeTime=True)\n",
    "df_1m"
   ]
  },
  {
   "cell_type": "code",
   "execution_count": 6,
   "metadata": {},
   "outputs": [
    {
     "data": {
      "text/html": [
       "<div>\n",
       "<style scoped>\n",
       "    .dataframe tbody tr th:only-of-type {\n",
       "        vertical-align: middle;\n",
       "    }\n",
       "\n",
       "    .dataframe tbody tr th {\n",
       "        vertical-align: top;\n",
       "    }\n",
       "\n",
       "    .dataframe thead th {\n",
       "        text-align: right;\n",
       "    }\n",
       "</style>\n",
       "<table border=\"1\" class=\"dataframe\">\n",
       "  <thead>\n",
       "    <tr style=\"text-align: right;\">\n",
       "      <th></th>\n",
       "      <th>datetime</th>\n",
       "      <th>open</th>\n",
       "      <th>high</th>\n",
       "      <th>low</th>\n",
       "      <th>close</th>\n",
       "    </tr>\n",
       "  </thead>\n",
       "  <tbody>\n",
       "    <tr>\n",
       "      <th>0</th>\n",
       "      <td>2020-02-10 11:00:00</td>\n",
       "      <td>3326.75</td>\n",
       "      <td>3327.75</td>\n",
       "      <td>3326.75</td>\n",
       "      <td>3327.25</td>\n",
       "    </tr>\n",
       "    <tr>\n",
       "      <th>1</th>\n",
       "      <td>2020-02-10 11:01:00</td>\n",
       "      <td>3327.25</td>\n",
       "      <td>3327.25</td>\n",
       "      <td>3326.50</td>\n",
       "      <td>3327.25</td>\n",
       "    </tr>\n",
       "    <tr>\n",
       "      <th>2</th>\n",
       "      <td>2020-02-10 11:02:00</td>\n",
       "      <td>3327.00</td>\n",
       "      <td>3327.25</td>\n",
       "      <td>3326.50</td>\n",
       "      <td>3327.00</td>\n",
       "    </tr>\n",
       "    <tr>\n",
       "      <th>3</th>\n",
       "      <td>2020-02-10 11:03:00</td>\n",
       "      <td>3327.00</td>\n",
       "      <td>3327.25</td>\n",
       "      <td>3326.50</td>\n",
       "      <td>3326.50</td>\n",
       "    </tr>\n",
       "    <tr>\n",
       "      <th>4</th>\n",
       "      <td>2020-02-10 11:04:00</td>\n",
       "      <td>3326.50</td>\n",
       "      <td>3326.75</td>\n",
       "      <td>3326.00</td>\n",
       "      <td>3326.75</td>\n",
       "    </tr>\n",
       "    <tr>\n",
       "      <th>...</th>\n",
       "      <td>...</td>\n",
       "      <td>...</td>\n",
       "      <td>...</td>\n",
       "      <td>...</td>\n",
       "      <td>...</td>\n",
       "    </tr>\n",
       "    <tr>\n",
       "      <th>1871920</th>\n",
       "      <td>2025-03-10 10:55:00</td>\n",
       "      <td>5711.25</td>\n",
       "      <td>5711.25</td>\n",
       "      <td>5708.75</td>\n",
       "      <td>5710.25</td>\n",
       "    </tr>\n",
       "    <tr>\n",
       "      <th>1871921</th>\n",
       "      <td>2025-03-10 10:56:00</td>\n",
       "      <td>5710.25</td>\n",
       "      <td>5711.50</td>\n",
       "      <td>5709.75</td>\n",
       "      <td>5711.50</td>\n",
       "    </tr>\n",
       "    <tr>\n",
       "      <th>1871922</th>\n",
       "      <td>2025-03-10 10:57:00</td>\n",
       "      <td>5711.50</td>\n",
       "      <td>5712.00</td>\n",
       "      <td>5709.50</td>\n",
       "      <td>5709.75</td>\n",
       "    </tr>\n",
       "    <tr>\n",
       "      <th>1871923</th>\n",
       "      <td>2025-03-10 10:58:00</td>\n",
       "      <td>5709.50</td>\n",
       "      <td>5709.75</td>\n",
       "      <td>5708.25</td>\n",
       "      <td>5708.75</td>\n",
       "    </tr>\n",
       "    <tr>\n",
       "      <th>1871924</th>\n",
       "      <td>2025-03-10 10:59:00</td>\n",
       "      <td>5708.75</td>\n",
       "      <td>5709.00</td>\n",
       "      <td>5707.75</td>\n",
       "      <td>5709.00</td>\n",
       "    </tr>\n",
       "  </tbody>\n",
       "</table>\n",
       "<p>1871925 rows × 5 columns</p>\n",
       "</div>"
      ],
      "text/plain": [
       "                   datetime     open     high      low    close\n",
       "0       2020-02-10 11:00:00  3326.75  3327.75  3326.75  3327.25\n",
       "1       2020-02-10 11:01:00  3327.25  3327.25  3326.50  3327.25\n",
       "2       2020-02-10 11:02:00  3327.00  3327.25  3326.50  3327.00\n",
       "3       2020-02-10 11:03:00  3327.00  3327.25  3326.50  3326.50\n",
       "4       2020-02-10 11:04:00  3326.50  3326.75  3326.00  3326.75\n",
       "...                     ...      ...      ...      ...      ...\n",
       "1871920 2025-03-10 10:55:00  5711.25  5711.25  5708.75  5710.25\n",
       "1871921 2025-03-10 10:56:00  5710.25  5711.50  5709.75  5711.50\n",
       "1871922 2025-03-10 10:57:00  5711.50  5712.00  5709.50  5709.75\n",
       "1871923 2025-03-10 10:58:00  5709.50  5709.75  5708.25  5708.75\n",
       "1871924 2025-03-10 10:59:00  5708.75  5709.00  5707.75  5709.00\n",
       "\n",
       "[1871925 rows x 5 columns]"
      ]
     },
     "execution_count": 6,
     "metadata": {},
     "output_type": "execute_result"
    }
   ],
   "source": [
    "df_1m_resampled = resample_data(df_1m, \"1min\")\n",
    "df_1m_resampled"
   ]
  },
  {
   "cell_type": "code",
   "execution_count": 7,
   "metadata": {},
   "outputs": [
    {
     "data": {
      "text/plain": [
       "datetime        0\n",
       "open        78680\n",
       "high        78680\n",
       "low         78680\n",
       "close       78680\n",
       "dtype: int64"
      ]
     },
     "execution_count": 7,
     "metadata": {},
     "output_type": "execute_result"
    }
   ],
   "source": [
    "df_1m_resampled.isnull().sum()"
   ]
  },
  {
   "cell_type": "code",
   "execution_count": null,
   "metadata": {},
   "outputs": [
    {
     "name": "stdout",
     "output_type": "stream",
     "text": [
      "⏱️ Timestamps avec NaN qui n'étaient PAS dans les données d'origine :\n",
      "                   datetime  open  high  low  close\n",
      "615     2020-02-10 21:15:00   NaN   NaN  NaN    NaN\n",
      "616     2020-02-10 21:16:00   NaN   NaN  NaN    NaN\n",
      "617     2020-02-10 21:17:00   NaN   NaN  NaN    NaN\n",
      "618     2020-02-10 21:18:00   NaN   NaN  NaN    NaN\n",
      "619     2020-02-10 21:19:00   NaN   NaN  NaN    NaN\n",
      "...                     ...   ...   ...  ...    ...\n",
      "1869760 2025-03-06 22:55:00   NaN   NaN  NaN    NaN\n",
      "1869761 2025-03-06 22:56:00   NaN   NaN  NaN    NaN\n",
      "1869762 2025-03-06 22:57:00   NaN   NaN  NaN    NaN\n",
      "1869763 2025-03-06 22:58:00   NaN   NaN  NaN    NaN\n",
      "1869764 2025-03-06 22:59:00   NaN   NaN  NaN    NaN\n",
      "\n",
      "[78680 rows x 5 columns]\n"
     ]
    }
   ],
   "source": [
    "check_resample_null_values(df_original=df_1m, df_resampled=df_1m_resampled)"
   ]
  },
  {
   "cell_type": "code",
   "execution_count": 9,
   "metadata": {},
   "outputs": [
    {
     "data": {
      "text/html": [
       "<div>\n",
       "<style scoped>\n",
       "    .dataframe tbody tr th:only-of-type {\n",
       "        vertical-align: middle;\n",
       "    }\n",
       "\n",
       "    .dataframe tbody tr th {\n",
       "        vertical-align: top;\n",
       "    }\n",
       "\n",
       "    .dataframe thead th {\n",
       "        text-align: right;\n",
       "    }\n",
       "</style>\n",
       "<table border=\"1\" class=\"dataframe\">\n",
       "  <thead>\n",
       "    <tr style=\"text-align: right;\">\n",
       "      <th></th>\n",
       "      <th>datetime</th>\n",
       "      <th>open</th>\n",
       "      <th>high</th>\n",
       "      <th>low</th>\n",
       "      <th>close</th>\n",
       "    </tr>\n",
       "  </thead>\n",
       "  <tbody>\n",
       "    <tr>\n",
       "      <th>0</th>\n",
       "      <td>2020-02-10 11:00:00</td>\n",
       "      <td>3326.75</td>\n",
       "      <td>3327.75</td>\n",
       "      <td>3326.75</td>\n",
       "      <td>3327.25</td>\n",
       "    </tr>\n",
       "    <tr>\n",
       "      <th>1</th>\n",
       "      <td>2020-02-10 11:01:00</td>\n",
       "      <td>3327.25</td>\n",
       "      <td>3327.25</td>\n",
       "      <td>3326.50</td>\n",
       "      <td>3327.25</td>\n",
       "    </tr>\n",
       "    <tr>\n",
       "      <th>2</th>\n",
       "      <td>2020-02-10 11:02:00</td>\n",
       "      <td>3327.00</td>\n",
       "      <td>3327.25</td>\n",
       "      <td>3326.50</td>\n",
       "      <td>3327.00</td>\n",
       "    </tr>\n",
       "    <tr>\n",
       "      <th>3</th>\n",
       "      <td>2020-02-10 11:03:00</td>\n",
       "      <td>3327.00</td>\n",
       "      <td>3327.25</td>\n",
       "      <td>3326.50</td>\n",
       "      <td>3326.50</td>\n",
       "    </tr>\n",
       "    <tr>\n",
       "      <th>4</th>\n",
       "      <td>2020-02-10 11:04:00</td>\n",
       "      <td>3326.50</td>\n",
       "      <td>3326.75</td>\n",
       "      <td>3326.00</td>\n",
       "      <td>3326.75</td>\n",
       "    </tr>\n",
       "    <tr>\n",
       "      <th>...</th>\n",
       "      <td>...</td>\n",
       "      <td>...</td>\n",
       "      <td>...</td>\n",
       "      <td>...</td>\n",
       "      <td>...</td>\n",
       "    </tr>\n",
       "    <tr>\n",
       "      <th>1871920</th>\n",
       "      <td>2025-03-10 10:55:00</td>\n",
       "      <td>5711.25</td>\n",
       "      <td>5711.25</td>\n",
       "      <td>5708.75</td>\n",
       "      <td>5710.25</td>\n",
       "    </tr>\n",
       "    <tr>\n",
       "      <th>1871921</th>\n",
       "      <td>2025-03-10 10:56:00</td>\n",
       "      <td>5710.25</td>\n",
       "      <td>5711.50</td>\n",
       "      <td>5709.75</td>\n",
       "      <td>5711.50</td>\n",
       "    </tr>\n",
       "    <tr>\n",
       "      <th>1871922</th>\n",
       "      <td>2025-03-10 10:57:00</td>\n",
       "      <td>5711.50</td>\n",
       "      <td>5712.00</td>\n",
       "      <td>5709.50</td>\n",
       "      <td>5709.75</td>\n",
       "    </tr>\n",
       "    <tr>\n",
       "      <th>1871923</th>\n",
       "      <td>2025-03-10 10:58:00</td>\n",
       "      <td>5709.50</td>\n",
       "      <td>5709.75</td>\n",
       "      <td>5708.25</td>\n",
       "      <td>5708.75</td>\n",
       "    </tr>\n",
       "    <tr>\n",
       "      <th>1871924</th>\n",
       "      <td>2025-03-10 10:59:00</td>\n",
       "      <td>5708.75</td>\n",
       "      <td>5709.00</td>\n",
       "      <td>5707.75</td>\n",
       "      <td>5709.00</td>\n",
       "    </tr>\n",
       "  </tbody>\n",
       "</table>\n",
       "<p>1793245 rows × 5 columns</p>\n",
       "</div>"
      ],
      "text/plain": [
       "                   datetime     open     high      low    close\n",
       "0       2020-02-10 11:00:00  3326.75  3327.75  3326.75  3327.25\n",
       "1       2020-02-10 11:01:00  3327.25  3327.25  3326.50  3327.25\n",
       "2       2020-02-10 11:02:00  3327.00  3327.25  3326.50  3327.00\n",
       "3       2020-02-10 11:03:00  3327.00  3327.25  3326.50  3326.50\n",
       "4       2020-02-10 11:04:00  3326.50  3326.75  3326.00  3326.75\n",
       "...                     ...      ...      ...      ...      ...\n",
       "1871920 2025-03-10 10:55:00  5711.25  5711.25  5708.75  5710.25\n",
       "1871921 2025-03-10 10:56:00  5710.25  5711.50  5709.75  5711.50\n",
       "1871922 2025-03-10 10:57:00  5711.50  5712.00  5709.50  5709.75\n",
       "1871923 2025-03-10 10:58:00  5709.50  5709.75  5708.25  5708.75\n",
       "1871924 2025-03-10 10:59:00  5708.75  5709.00  5707.75  5709.00\n",
       "\n",
       "[1793245 rows x 5 columns]"
      ]
     },
     "execution_count": 9,
     "metadata": {},
     "output_type": "execute_result"
    }
   ],
   "source": [
    "df_1m_resampled.dropna( inplace=True)\n",
    "df_1m_resampled"
   ]
  },
  {
   "cell_type": "code",
   "execution_count": 10,
   "metadata": {},
   "outputs": [
    {
     "data": {
      "text/plain": [
       "datetime    0\n",
       "open        0\n",
       "high        0\n",
       "low         0\n",
       "close       0\n",
       "dtype: int64"
      ]
     },
     "execution_count": 10,
     "metadata": {},
     "output_type": "execute_result"
    }
   ],
   "source": [
    "df_1m_resampled.isnull().sum()"
   ]
  },
  {
   "cell_type": "code",
   "execution_count": 11,
   "metadata": {},
   "outputs": [
    {
     "data": {
      "text/html": [
       "<div>\n",
       "<style scoped>\n",
       "    .dataframe tbody tr th:only-of-type {\n",
       "        vertical-align: middle;\n",
       "    }\n",
       "\n",
       "    .dataframe tbody tr th {\n",
       "        vertical-align: top;\n",
       "    }\n",
       "\n",
       "    .dataframe thead th {\n",
       "        text-align: right;\n",
       "    }\n",
       "</style>\n",
       "<table border=\"1\" class=\"dataframe\">\n",
       "  <thead>\n",
       "    <tr style=\"text-align: right;\">\n",
       "      <th></th>\n",
       "      <th>close</th>\n",
       "      <th>high</th>\n",
       "      <th>low</th>\n",
       "      <th>open</th>\n",
       "      <th>volume</th>\n",
       "    </tr>\n",
       "    <tr>\n",
       "      <th>datetime</th>\n",
       "      <th></th>\n",
       "      <th></th>\n",
       "      <th></th>\n",
       "      <th></th>\n",
       "      <th></th>\n",
       "    </tr>\n",
       "  </thead>\n",
       "  <tbody>\n",
       "    <tr>\n",
       "      <th>2020-02-10 11:00:00</th>\n",
       "      <td>3327.25</td>\n",
       "      <td>3327.25</td>\n",
       "      <td>3326.75</td>\n",
       "      <td>3326.75</td>\n",
       "      <td>126</td>\n",
       "    </tr>\n",
       "    <tr>\n",
       "      <th>2020-02-10 11:00:10</th>\n",
       "      <td>3327.50</td>\n",
       "      <td>3327.75</td>\n",
       "      <td>3327.50</td>\n",
       "      <td>3327.50</td>\n",
       "      <td>101</td>\n",
       "    </tr>\n",
       "    <tr>\n",
       "      <th>2020-02-10 11:00:20</th>\n",
       "      <td>3327.25</td>\n",
       "      <td>3327.50</td>\n",
       "      <td>3327.25</td>\n",
       "      <td>3327.50</td>\n",
       "      <td>7</td>\n",
       "    </tr>\n",
       "    <tr>\n",
       "      <th>2020-02-10 11:00:30</th>\n",
       "      <td>3327.00</td>\n",
       "      <td>3327.25</td>\n",
       "      <td>3327.00</td>\n",
       "      <td>3327.25</td>\n",
       "      <td>60</td>\n",
       "    </tr>\n",
       "    <tr>\n",
       "      <th>2020-02-10 11:00:40</th>\n",
       "      <td>3327.00</td>\n",
       "      <td>3327.00</td>\n",
       "      <td>3327.00</td>\n",
       "      <td>3327.00</td>\n",
       "      <td>77</td>\n",
       "    </tr>\n",
       "    <tr>\n",
       "      <th>...</th>\n",
       "      <td>...</td>\n",
       "      <td>...</td>\n",
       "      <td>...</td>\n",
       "      <td>...</td>\n",
       "      <td>...</td>\n",
       "    </tr>\n",
       "    <tr>\n",
       "      <th>2025-03-10 10:59:10</th>\n",
       "      <td>5708.50</td>\n",
       "      <td>5709.00</td>\n",
       "      <td>5708.25</td>\n",
       "      <td>5709.00</td>\n",
       "      <td>73</td>\n",
       "    </tr>\n",
       "    <tr>\n",
       "      <th>2025-03-10 10:59:20</th>\n",
       "      <td>5708.50</td>\n",
       "      <td>5708.75</td>\n",
       "      <td>5708.25</td>\n",
       "      <td>5708.50</td>\n",
       "      <td>22</td>\n",
       "    </tr>\n",
       "    <tr>\n",
       "      <th>2025-03-10 10:59:30</th>\n",
       "      <td>5708.25</td>\n",
       "      <td>5708.75</td>\n",
       "      <td>5708.25</td>\n",
       "      <td>5708.50</td>\n",
       "      <td>9</td>\n",
       "    </tr>\n",
       "    <tr>\n",
       "      <th>2025-03-10 10:59:40</th>\n",
       "      <td>5708.25</td>\n",
       "      <td>5708.50</td>\n",
       "      <td>5707.75</td>\n",
       "      <td>5708.50</td>\n",
       "      <td>106</td>\n",
       "    </tr>\n",
       "    <tr>\n",
       "      <th>2025-03-10 10:59:50</th>\n",
       "      <td>5709.00</td>\n",
       "      <td>5709.00</td>\n",
       "      <td>5708.50</td>\n",
       "      <td>5708.75</td>\n",
       "      <td>63</td>\n",
       "    </tr>\n",
       "  </tbody>\n",
       "</table>\n",
       "<p>10173650 rows × 5 columns</p>\n",
       "</div>"
      ],
      "text/plain": [
       "                       close     high      low     open  volume\n",
       "datetime                                                       \n",
       "2020-02-10 11:00:00  3327.25  3327.25  3326.75  3326.75     126\n",
       "2020-02-10 11:00:10  3327.50  3327.75  3327.50  3327.50     101\n",
       "2020-02-10 11:00:20  3327.25  3327.50  3327.25  3327.50       7\n",
       "2020-02-10 11:00:30  3327.00  3327.25  3327.00  3327.25      60\n",
       "2020-02-10 11:00:40  3327.00  3327.00  3327.00  3327.00      77\n",
       "...                      ...      ...      ...      ...     ...\n",
       "2025-03-10 10:59:10  5708.50  5709.00  5708.25  5709.00      73\n",
       "2025-03-10 10:59:20  5708.50  5708.75  5708.25  5708.50      22\n",
       "2025-03-10 10:59:30  5708.25  5708.75  5708.25  5708.50       9\n",
       "2025-03-10 10:59:40  5708.25  5708.50  5707.75  5708.50     106\n",
       "2025-03-10 10:59:50  5709.00  5709.00  5708.50  5708.75      63\n",
       "\n",
       "[10173650 rows x 5 columns]"
      ]
     },
     "execution_count": 11,
     "metadata": {},
     "output_type": "execute_result"
    }
   ],
   "source": [
    "df_10s = create_df_from_csv(timeFrameUsed=\"10s\", let_original_rangeTime=True)\n",
    "df_10s.set_index('datetime', inplace=True)\n",
    "df_10s"
   ]
  },
  {
   "cell_type": "code",
   "execution_count": 12,
   "metadata": {},
   "outputs": [
    {
     "name": "stderr",
     "output_type": "stream",
     "text": [
      "100%|██████████| 1793245/1793245 [21:05<00:00, 1417.24iteration/s]\n"
     ]
    }
   ],
   "source": [
    "df_1m_resampled_and_processed = create_high_before_low_column(df_1m_resampled, df_10s, frequency_of_data=1)"
   ]
  },
  {
   "cell_type": "code",
   "execution_count": 13,
   "metadata": {},
   "outputs": [
    {
     "data": {
      "text/html": [
       "<div>\n",
       "<style scoped>\n",
       "    .dataframe tbody tr th:only-of-type {\n",
       "        vertical-align: middle;\n",
       "    }\n",
       "\n",
       "    .dataframe tbody tr th {\n",
       "        vertical-align: top;\n",
       "    }\n",
       "\n",
       "    .dataframe thead th {\n",
       "        text-align: right;\n",
       "    }\n",
       "</style>\n",
       "<table border=\"1\" class=\"dataframe\">\n",
       "  <thead>\n",
       "    <tr style=\"text-align: right;\">\n",
       "      <th></th>\n",
       "      <th>datetime</th>\n",
       "      <th>open</th>\n",
       "      <th>high</th>\n",
       "      <th>low</th>\n",
       "      <th>close</th>\n",
       "      <th>high_before_low</th>\n",
       "    </tr>\n",
       "  </thead>\n",
       "  <tbody>\n",
       "    <tr>\n",
       "      <th>0</th>\n",
       "      <td>2020-02-10 11:00:00</td>\n",
       "      <td>3326.75</td>\n",
       "      <td>3327.75</td>\n",
       "      <td>3326.75</td>\n",
       "      <td>3327.25</td>\n",
       "      <td>False</td>\n",
       "    </tr>\n",
       "    <tr>\n",
       "      <th>1</th>\n",
       "      <td>2020-02-10 11:01:00</td>\n",
       "      <td>3327.25</td>\n",
       "      <td>3327.25</td>\n",
       "      <td>3326.50</td>\n",
       "      <td>3327.25</td>\n",
       "      <td>True</td>\n",
       "    </tr>\n",
       "    <tr>\n",
       "      <th>2</th>\n",
       "      <td>2020-02-10 11:02:00</td>\n",
       "      <td>3327.00</td>\n",
       "      <td>3327.25</td>\n",
       "      <td>3326.50</td>\n",
       "      <td>3327.00</td>\n",
       "      <td>True</td>\n",
       "    </tr>\n",
       "    <tr>\n",
       "      <th>3</th>\n",
       "      <td>2020-02-10 11:03:00</td>\n",
       "      <td>3327.00</td>\n",
       "      <td>3327.25</td>\n",
       "      <td>3326.50</td>\n",
       "      <td>3326.50</td>\n",
       "      <td>True</td>\n",
       "    </tr>\n",
       "    <tr>\n",
       "      <th>4</th>\n",
       "      <td>2020-02-10 11:04:00</td>\n",
       "      <td>3326.50</td>\n",
       "      <td>3326.75</td>\n",
       "      <td>3326.00</td>\n",
       "      <td>3326.75</td>\n",
       "      <td>False</td>\n",
       "    </tr>\n",
       "    <tr>\n",
       "      <th>...</th>\n",
       "      <td>...</td>\n",
       "      <td>...</td>\n",
       "      <td>...</td>\n",
       "      <td>...</td>\n",
       "      <td>...</td>\n",
       "      <td>...</td>\n",
       "    </tr>\n",
       "    <tr>\n",
       "      <th>1871920</th>\n",
       "      <td>2025-03-10 10:55:00</td>\n",
       "      <td>5711.25</td>\n",
       "      <td>5711.25</td>\n",
       "      <td>5708.75</td>\n",
       "      <td>5710.25</td>\n",
       "      <td>True</td>\n",
       "    </tr>\n",
       "    <tr>\n",
       "      <th>1871921</th>\n",
       "      <td>2025-03-10 10:56:00</td>\n",
       "      <td>5710.25</td>\n",
       "      <td>5711.50</td>\n",
       "      <td>5709.75</td>\n",
       "      <td>5711.50</td>\n",
       "      <td>False</td>\n",
       "    </tr>\n",
       "    <tr>\n",
       "      <th>1871922</th>\n",
       "      <td>2025-03-10 10:57:00</td>\n",
       "      <td>5711.50</td>\n",
       "      <td>5712.00</td>\n",
       "      <td>5709.50</td>\n",
       "      <td>5709.75</td>\n",
       "      <td>True</td>\n",
       "    </tr>\n",
       "    <tr>\n",
       "      <th>1871923</th>\n",
       "      <td>2025-03-10 10:58:00</td>\n",
       "      <td>5709.50</td>\n",
       "      <td>5709.75</td>\n",
       "      <td>5708.25</td>\n",
       "      <td>5708.75</td>\n",
       "      <td>True</td>\n",
       "    </tr>\n",
       "    <tr>\n",
       "      <th>1871924</th>\n",
       "      <td>2025-03-10 10:59:00</td>\n",
       "      <td>5708.75</td>\n",
       "      <td>5709.00</td>\n",
       "      <td>5707.75</td>\n",
       "      <td>5709.00</td>\n",
       "      <td>True</td>\n",
       "    </tr>\n",
       "  </tbody>\n",
       "</table>\n",
       "<p>1793245 rows × 6 columns</p>\n",
       "</div>"
      ],
      "text/plain": [
       "                   datetime     open     high      low    close  \\\n",
       "0       2020-02-10 11:00:00  3326.75  3327.75  3326.75  3327.25   \n",
       "1       2020-02-10 11:01:00  3327.25  3327.25  3326.50  3327.25   \n",
       "2       2020-02-10 11:02:00  3327.00  3327.25  3326.50  3327.00   \n",
       "3       2020-02-10 11:03:00  3327.00  3327.25  3326.50  3326.50   \n",
       "4       2020-02-10 11:04:00  3326.50  3326.75  3326.00  3326.75   \n",
       "...                     ...      ...      ...      ...      ...   \n",
       "1871920 2025-03-10 10:55:00  5711.25  5711.25  5708.75  5710.25   \n",
       "1871921 2025-03-10 10:56:00  5710.25  5711.50  5709.75  5711.50   \n",
       "1871922 2025-03-10 10:57:00  5711.50  5712.00  5709.50  5709.75   \n",
       "1871923 2025-03-10 10:58:00  5709.50  5709.75  5708.25  5708.75   \n",
       "1871924 2025-03-10 10:59:00  5708.75  5709.00  5707.75  5709.00   \n",
       "\n",
       "         high_before_low  \n",
       "0                  False  \n",
       "1                   True  \n",
       "2                   True  \n",
       "3                   True  \n",
       "4                  False  \n",
       "...                  ...  \n",
       "1871920             True  \n",
       "1871921            False  \n",
       "1871922             True  \n",
       "1871923             True  \n",
       "1871924             True  \n",
       "\n",
       "[1793245 rows x 6 columns]"
      ]
     },
     "execution_count": 13,
     "metadata": {},
     "output_type": "execute_result"
    }
   ],
   "source": [
    "df_1m_resampled_and_processed"
   ]
  },
  {
   "cell_type": "code",
   "execution_count": 14,
   "metadata": {},
   "outputs": [
    {
     "data": {
      "text/plain": [
       "datetime           0\n",
       "open               0\n",
       "high               0\n",
       "low                0\n",
       "close              0\n",
       "high_before_low    0\n",
       "dtype: int64"
      ]
     },
     "execution_count": 14,
     "metadata": {},
     "output_type": "execute_result"
    }
   ],
   "source": [
    "df_1m_resampled_and_processed.isnull().sum()"
   ]
  },
  {
   "cell_type": "code",
   "execution_count": 15,
   "metadata": {},
   "outputs": [],
   "source": [
    "root_path = \"C:/Users/tessa/Codes/Backtest_Trading/market_data/\"\n",
    "df_1m_resampled_and_processed.to_csv(root_path+\"ES_1m_2-10-2020-12-00PM_3-10-2025-12-00PM_preprocessed.csv\", sep=';', index=False)"
   ]
  },
  {
   "cell_type": "code",
   "execution_count": 8,
   "metadata": {},
   "outputs": [],
   "source": [
    "from processing_functions import create_df\n",
    "start_date = \"2023-03-24 12:00\"\n",
    "end_date = \"2025-02-10 10:00\"\n",
    "processed_df = create_df(timeFramesUsedInMinutes=[\"1\", \"5\", \"15\"], instrument=\"ES\", \n",
    "start_date=start_date, end_date=end_date, putVolumeInData=False)"
   ]
  },
  {
   "cell_type": "code",
   "execution_count": 9,
   "metadata": {},
   "outputs": [
    {
     "data": {
      "application/vnd.plotly.v1+json": {
       "config": {
        "plotlyServerURL": "https://plot.ly"
       },
       "data": [
        {
         "close": {
          "bdata": "AAAAAAD/s0AAAAAAwP2zQAAAAACA/LNAAAAAAED+s0AAAAAAQPyzQAAAAAAA/LNAAAAAAED6s0AAAAAAAPizQAAAAAAA+LNAAAAAAAD4s0AAAAAAgPmzQAAAAABA+rNAAAAAAED5s0AAAAAAgPmzQAAAAADA+LNAAAAAAAD4s0AAAAAAgPezQAAAAAAA97NAAAAAAID2s0AAAAAAQPezQAAAAAAA9bNAAAAAAID2s0AAAAAAwPWzQAAAAAAA9rNAAAAAAID2s0AAAAAAQPezQAAAAADA9rNAAAAAAAD3s0AAAAAAwPazQAAAAAAA9rNAAAAAAID1s0AAAAAAgPazQAAAAABA9rNAAAAAAED2s0AAAAAAwPWzQAAAAAAA9bNAAAAAAAD1s0AAAAAAwPazQAAAAACA9bNAAAAAAMD0s0AAAAAAgPWzQAAAAACA9rNAAAAAAED5s0AAAAAAwPmzQAAAAADA+LNAAAAAAED6s0AAAAAAQPqzQAAAAAAA+7NAAAAAAMD7s0AAAAAAwPyzQAAAAABA+rNAAAAAAAD5s0AAAAAAQPezQAAAAADA97NAAAAAAID6s0AAAAAAQP2zQAAAAACA/LNAAAAAAMD/s0AAAAAAAAC0QAAAAABAALRAAAAAAID+s0AAAAAAgAK0QAAAAACAAbRAAAAAAAACtEAAAAAAgAC0QAAAAADA/7NAAAAAAEAAtEAAAAAAgP+zQAAAAAAAALRAAAAAAAABtEAAAAAAgAO0QAAAAABAA7RAAAAAAIAAtEAAAAAAgAC0QAAAAACAALRAAAAAAMD8s0AAAAAAgPezQAAAAACA+bNAAAAAAAD7s0AAAAAAgPmzQAAAAAAA+7NA",
          "dtype": "f8"
         },
         "high": {
          "bdata": "AAAAAMAAtEAAAAAAAP+zQAAAAABA/rNAAAAAAID+s0AAAAAAAP6zQAAAAAAA/bNAAAAAAAD8s0AAAAAAgPqzQAAAAABA+bNAAAAAAMD5s0AAAAAAAPqzQAAAAACA+rNAAAAAAAD7s0AAAAAAAPqzQAAAAACA+bNAAAAAAMD4s0AAAAAAQPizQAAAAABA+LNAAAAAAID3s0AAAAAAwPezQAAAAACA97NAAAAAAID2s0AAAAAAAPezQAAAAAAA+LNAAAAAAMD2s0AAAAAAQPezQAAAAAAA+LNAAAAAAAD3s0AAAAAAQPezQAAAAABA97NAAAAAAED2s0AAAAAAwPazQAAAAAAA97NAAAAAAID2s0AAAAAAgPazQAAAAABA9rNAAAAAAID1s0AAAAAAwPazQAAAAADA9rNAAAAAAMD1s0AAAAAAAPazQAAAAACA9rNAAAAAAID5s0AAAAAAwPmzQAAAAAAA+rNAAAAAAAD7s0AAAAAAgPqzQAAAAAAA+7NAAAAAAMD7s0AAAAAAQP2zQAAAAABA/7NAAAAAAMD7s0AAAAAAgPmzQAAAAABA+bNAAAAAAID6s0AAAAAAQP2zQAAAAADA/bNAAAAAAIAAtEAAAAAAQAG0QAAAAADAALRAAAAAAAACtEAAAAAAgAK0QAAAAAAABLRAAAAAAAADtEAAAAAAQAK0QAAAAADAAbRAAAAAAIABtEAAAAAAgAC0QAAAAAAAAbRAAAAAAIABtEAAAAAAQAS0QAAAAADABLRAAAAAAAADtEAAAAAAwAG0QAAAAACAALRAAAAAAEABtEAAAAAAAP2zQAAAAACA+rNAAAAAAMD7s0AAAAAAgPuzQAAAAABA+7NA",
          "dtype": "f8"
         },
         "low": {
          "bdata": "AAAAAMD+s0AAAAAAwP2zQAAAAACA/LNAAAAAAED8s0AAAAAAQPyzQAAAAACA+rNAAAAAAMD5s0AAAAAAwPezQAAAAABA97NAAAAAAMD3s0AAAAAAwPezQAAAAACA+LNAAAAAAED5s0AAAAAAQPmzQAAAAACA+LNAAAAAAMD2s0AAAAAAwPWzQAAAAADA9rNAAAAAAED2s0AAAAAAQPazQAAAAADA9LNAAAAAAID0s0AAAAAAwPWzQAAAAADA9bNAAAAAAID1s0AAAAAAAPazQAAAAABA9rNAAAAAAED2s0AAAAAAgPazQAAAAADA9bNAAAAAAAD1s0AAAAAAQPWzQAAAAACA9bNAAAAAAMD1s0AAAAAAwPWzQAAAAACA9LNAAAAAAID0s0AAAAAAQPWzQAAAAACA9bNAAAAAAID0s0AAAAAAAPWzQAAAAACA9bNAAAAAAED2s0AAAAAAgPizQAAAAACA+LNAAAAAAAD5s0AAAAAAgPmzQAAAAAAA+bNAAAAAAID6s0AAAAAAQPuzQAAAAAAA+rNAAAAAAID4s0AAAAAAAPazQAAAAABA9rNAAAAAAID3s0AAAAAAAPqzQAAAAADA+bNAAAAAAAD8s0AAAAAAAP+zQAAAAADA/rNAAAAAAID+s0AAAAAAQP6zQAAAAAAAAbRAAAAAAIABtEAAAAAAwP+zQAAAAAAA/7NAAAAAAID/s0AAAAAAwP2zQAAAAABA/7NAAAAAAAD/s0AAAAAAgAC0QAAAAAAAA7RAAAAAAMD/s0AAAAAAAAC0QAAAAAAA/rNAAAAAAED8s0AAAAAAwPazQAAAAACA97NAAAAAAED4s0AAAAAAgPizQAAAAADA+LNA",
          "dtype": "f8"
         },
         "name": "SP500",
         "open": {
          "bdata": "AAAAAMD/s0AAAAAAAP+zQAAAAAAA/rNAAAAAAMD8s0AAAAAAAP6zQAAAAABA/LNAAAAAAMD7s0AAAAAAQPqzQAAAAAAA+LNAAAAAAAD4s0AAAAAAQPizQAAAAABA+bNAAAAAAAD6s0AAAAAAQPmzQAAAAABA+bNAAAAAAID4s0AAAAAAAPizQAAAAACA97NAAAAAAED3s0AAAAAAgPazQAAAAABA97NAAAAAAED1s0AAAAAAgPazQAAAAADA9bNAAAAAAAD2s0AAAAAAwPazQAAAAABA97NAAAAAAMD2s0AAAAAAAPezQAAAAADA9rNAAAAAAMD1s0AAAAAAgPWzQAAAAADA9rNAAAAAAED2s0AAAAAAQPazQAAAAADA9bNAAAAAAAD1s0AAAAAAQPWzQAAAAADA9rNAAAAAAED1s0AAAAAAAPWzQAAAAACA9bNAAAAAAED2s0AAAAAAQPmzQAAAAADA+bNAAAAAAAD5s0AAAAAAQPqzQAAAAABA+rNAAAAAAMD6s0AAAAAAwPuzQAAAAADA/LNAAAAAAED6s0AAAAAAAPmzQAAAAABA97NAAAAAAMD3s0AAAAAAgPqzQAAAAABA/bNAAAAAAID8s0AAAAAAwP+zQAAAAAAAALRAAAAAAIAAtEAAAAAAgP6zQAAAAABAArRAAAAAAIABtEAAAAAAwAG0QAAAAADAALRAAAAAAMD/s0AAAAAAQAC0QAAAAACA/7NAAAAAAAAAtEAAAAAAAAG0QAAAAACAA7RAAAAAAAADtEAAAAAAgAC0QAAAAACAALRAAAAAAIAAtEAAAAAAAP2zQAAAAADA97NAAAAAAID5s0AAAAAAAPuzQAAAAADA+bNA",
          "dtype": "f8"
         },
         "type": "candlestick",
         "x": [
          "2024-04-24T12:40:00.000000000",
          "2024-04-24T12:41:00.000000000",
          "2024-04-24T12:42:00.000000000",
          "2024-04-24T12:43:00.000000000",
          "2024-04-24T12:44:00.000000000",
          "2024-04-24T12:45:00.000000000",
          "2024-04-24T12:46:00.000000000",
          "2024-04-24T12:47:00.000000000",
          "2024-04-24T12:48:00.000000000",
          "2024-04-24T12:49:00.000000000",
          "2024-04-24T12:50:00.000000000",
          "2024-04-24T12:51:00.000000000",
          "2024-04-24T12:52:00.000000000",
          "2024-04-24T12:53:00.000000000",
          "2024-04-24T12:54:00.000000000",
          "2024-04-24T12:55:00.000000000",
          "2024-04-24T12:56:00.000000000",
          "2024-04-24T12:57:00.000000000",
          "2024-04-24T12:58:00.000000000",
          "2024-04-24T12:59:00.000000000",
          "2024-04-24T13:00:00.000000000",
          "2024-04-24T13:01:00.000000000",
          "2024-04-24T13:02:00.000000000",
          "2024-04-24T13:03:00.000000000",
          "2024-04-24T13:04:00.000000000",
          "2024-04-24T13:05:00.000000000",
          "2024-04-24T13:06:00.000000000",
          "2024-04-24T13:07:00.000000000",
          "2024-04-24T13:08:00.000000000",
          "2024-04-24T13:09:00.000000000",
          "2024-04-24T13:10:00.000000000",
          "2024-04-24T13:11:00.000000000",
          "2024-04-24T13:12:00.000000000",
          "2024-04-24T13:13:00.000000000",
          "2024-04-24T13:14:00.000000000",
          "2024-04-24T13:15:00.000000000",
          "2024-04-24T13:16:00.000000000",
          "2024-04-24T13:17:00.000000000",
          "2024-04-24T13:18:00.000000000",
          "2024-04-24T13:19:00.000000000",
          "2024-04-24T13:20:00.000000000",
          "2024-04-24T13:21:00.000000000",
          "2024-04-24T13:22:00.000000000",
          "2024-04-24T13:23:00.000000000",
          "2024-04-24T13:24:00.000000000",
          "2024-04-24T13:25:00.000000000",
          "2024-04-24T13:26:00.000000000",
          "2024-04-24T13:27:00.000000000",
          "2024-04-24T13:28:00.000000000",
          "2024-04-24T13:29:00.000000000",
          "2024-04-24T13:30:00.000000000",
          "2024-04-24T13:31:00.000000000",
          "2024-04-24T13:32:00.000000000",
          "2024-04-24T13:33:00.000000000",
          "2024-04-24T13:34:00.000000000",
          "2024-04-24T13:35:00.000000000",
          "2024-04-24T13:36:00.000000000",
          "2024-04-24T13:37:00.000000000",
          "2024-04-24T13:38:00.000000000",
          "2024-04-24T13:39:00.000000000",
          "2024-04-24T13:40:00.000000000",
          "2024-04-24T13:41:00.000000000",
          "2024-04-24T13:42:00.000000000",
          "2024-04-24T13:43:00.000000000",
          "2024-04-24T13:44:00.000000000",
          "2024-04-24T13:45:00.000000000",
          "2024-04-24T13:46:00.000000000",
          "2024-04-24T13:47:00.000000000",
          "2024-04-24T13:48:00.000000000",
          "2024-04-24T13:49:00.000000000",
          "2024-04-24T13:50:00.000000000",
          "2024-04-24T13:51:00.000000000",
          "2024-04-24T13:52:00.000000000",
          "2024-04-24T13:53:00.000000000",
          "2024-04-24T13:54:00.000000000",
          "2024-04-24T13:55:00.000000000",
          "2024-04-24T13:56:00.000000000",
          "2024-04-24T13:57:00.000000000",
          "2024-04-24T13:58:00.000000000",
          "2024-04-24T13:59:00.000000000",
          "2024-04-24T14:00:00.000000000"
         ]
        },
        {
         "line": {
          "color": "orange"
         },
         "mode": "lines",
         "name": "Tenkan-sen",
         "type": "scatter",
         "x": [
          "2024-04-24T12:40:00.000000000",
          "2024-04-24T12:41:00.000000000",
          "2024-04-24T12:42:00.000000000",
          "2024-04-24T12:43:00.000000000",
          "2024-04-24T12:44:00.000000000",
          "2024-04-24T12:45:00.000000000",
          "2024-04-24T12:46:00.000000000",
          "2024-04-24T12:47:00.000000000",
          "2024-04-24T12:48:00.000000000",
          "2024-04-24T12:49:00.000000000",
          "2024-04-24T12:50:00.000000000",
          "2024-04-24T12:51:00.000000000",
          "2024-04-24T12:52:00.000000000",
          "2024-04-24T12:53:00.000000000",
          "2024-04-24T12:54:00.000000000",
          "2024-04-24T12:55:00.000000000",
          "2024-04-24T12:56:00.000000000",
          "2024-04-24T12:57:00.000000000",
          "2024-04-24T12:58:00.000000000",
          "2024-04-24T12:59:00.000000000",
          "2024-04-24T13:00:00.000000000",
          "2024-04-24T13:01:00.000000000",
          "2024-04-24T13:02:00.000000000",
          "2024-04-24T13:03:00.000000000",
          "2024-04-24T13:04:00.000000000",
          "2024-04-24T13:05:00.000000000",
          "2024-04-24T13:06:00.000000000",
          "2024-04-24T13:07:00.000000000",
          "2024-04-24T13:08:00.000000000",
          "2024-04-24T13:09:00.000000000",
          "2024-04-24T13:10:00.000000000",
          "2024-04-24T13:11:00.000000000",
          "2024-04-24T13:12:00.000000000",
          "2024-04-24T13:13:00.000000000",
          "2024-04-24T13:14:00.000000000",
          "2024-04-24T13:15:00.000000000",
          "2024-04-24T13:16:00.000000000",
          "2024-04-24T13:17:00.000000000",
          "2024-04-24T13:18:00.000000000",
          "2024-04-24T13:19:00.000000000",
          "2024-04-24T13:20:00.000000000",
          "2024-04-24T13:21:00.000000000",
          "2024-04-24T13:22:00.000000000",
          "2024-04-24T13:23:00.000000000",
          "2024-04-24T13:24:00.000000000",
          "2024-04-24T13:25:00.000000000",
          "2024-04-24T13:26:00.000000000",
          "2024-04-24T13:27:00.000000000",
          "2024-04-24T13:28:00.000000000",
          "2024-04-24T13:29:00.000000000",
          "2024-04-24T13:30:00.000000000",
          "2024-04-24T13:31:00.000000000",
          "2024-04-24T13:32:00.000000000",
          "2024-04-24T13:33:00.000000000",
          "2024-04-24T13:34:00.000000000",
          "2024-04-24T13:35:00.000000000",
          "2024-04-24T13:36:00.000000000",
          "2024-04-24T13:37:00.000000000",
          "2024-04-24T13:38:00.000000000",
          "2024-04-24T13:39:00.000000000",
          "2024-04-24T13:40:00.000000000",
          "2024-04-24T13:41:00.000000000",
          "2024-04-24T13:42:00.000000000",
          "2024-04-24T13:43:00.000000000",
          "2024-04-24T13:44:00.000000000",
          "2024-04-24T13:45:00.000000000",
          "2024-04-24T13:46:00.000000000",
          "2024-04-24T13:47:00.000000000",
          "2024-04-24T13:48:00.000000000",
          "2024-04-24T13:49:00.000000000",
          "2024-04-24T13:50:00.000000000",
          "2024-04-24T13:51:00.000000000",
          "2024-04-24T13:52:00.000000000",
          "2024-04-24T13:53:00.000000000",
          "2024-04-24T13:54:00.000000000",
          "2024-04-24T13:55:00.000000000",
          "2024-04-24T13:56:00.000000000",
          "2024-04-24T13:57:00.000000000",
          "2024-04-24T13:58:00.000000000",
          "2024-04-24T13:59:00.000000000",
          "2024-04-24T14:00:00.000000000"
         ],
         "y": {
          "bdata": "AAAAAAABtEAAAAAAAAG0QAAAAABAALRAAAAAAOD/s0AAAAAAgP6zQAAAAACg/bNAAAAAAED9s0AAAAAAQPyzQAAAAAAA/LNAAAAAACD7s0AAAAAA4PqzQAAAAADg+rNAAAAAAKD6s0AAAAAAIPqzQAAAAACg+bNAAAAAAOD4s0AAAAAAYPizQAAAAABg+LNAAAAAAGD4s0AAAAAAYPizQAAAAADg97NAAAAAAED3s0AAAAAAAPezQAAAAACg9rNAAAAAAGD2s0AAAAAAYPazQAAAAABA9rNAAAAAAED2s0AAAAAAQPazQAAAAABA9rNAAAAAAID2s0AAAAAAgPazQAAAAACA9rNAAAAAAID2s0AAAAAAgPazQAAAAADg9bNAAAAAAOD1s0AAAAAA4PWzQAAAAADA9bNAAAAAAMD1s0AAAAAAwPWzQAAAAACg9bNAAAAAAAD3s0AAAAAAIPezQAAAAABA97NAAAAAAMD3s0AAAAAAwPezQAAAAADA97NAAAAAAGD4s0AAAAAAYPmzQAAAAADA+rNAAAAAAOD7s0AAAAAAoPqzQAAAAACg+rNAAAAAAKD6s0AAAAAAoPqzQAAAAACg+rNAAAAAAED7s0AAAAAAoPuzQAAAAACg+7NAAAAAAAD8s0AAAAAAYPyzQAAAAADA/bNAAAAAAOD+s0AAAAAA4P6zQAAAAAAAALRAAAAAACABtEAAAAAA4AC0QAAAAADgALRAAAAAAOAAtEAAAAAAAAG0QAAAAABAAbRAAAAAAEABtEAAAAAAQAG0QAAAAABAAbRAAAAAAIAAtEAAAAAAwP2zQAAAAADA/bNAAAAAAMD9s0AAAAAAwP2zQAAAAADg/LNA",
          "dtype": "f8"
         }
        },
        {
         "line": {
          "color": "green"
         },
         "mode": "lines",
         "name": "Kijun-sen",
         "type": "scatter",
         "x": [
          "2024-04-24T12:40:00.000000000",
          "2024-04-24T12:41:00.000000000",
          "2024-04-24T12:42:00.000000000",
          "2024-04-24T12:43:00.000000000",
          "2024-04-24T12:44:00.000000000",
          "2024-04-24T12:45:00.000000000",
          "2024-04-24T12:46:00.000000000",
          "2024-04-24T12:47:00.000000000",
          "2024-04-24T12:48:00.000000000",
          "2024-04-24T12:49:00.000000000",
          "2024-04-24T12:50:00.000000000",
          "2024-04-24T12:51:00.000000000",
          "2024-04-24T12:52:00.000000000",
          "2024-04-24T12:53:00.000000000",
          "2024-04-24T12:54:00.000000000",
          "2024-04-24T12:55:00.000000000",
          "2024-04-24T12:56:00.000000000",
          "2024-04-24T12:57:00.000000000",
          "2024-04-24T12:58:00.000000000",
          "2024-04-24T12:59:00.000000000",
          "2024-04-24T13:00:00.000000000",
          "2024-04-24T13:01:00.000000000",
          "2024-04-24T13:02:00.000000000",
          "2024-04-24T13:03:00.000000000",
          "2024-04-24T13:04:00.000000000",
          "2024-04-24T13:05:00.000000000",
          "2024-04-24T13:06:00.000000000",
          "2024-04-24T13:07:00.000000000",
          "2024-04-24T13:08:00.000000000",
          "2024-04-24T13:09:00.000000000",
          "2024-04-24T13:10:00.000000000",
          "2024-04-24T13:11:00.000000000",
          "2024-04-24T13:12:00.000000000",
          "2024-04-24T13:13:00.000000000",
          "2024-04-24T13:14:00.000000000",
          "2024-04-24T13:15:00.000000000",
          "2024-04-24T13:16:00.000000000",
          "2024-04-24T13:17:00.000000000",
          "2024-04-24T13:18:00.000000000",
          "2024-04-24T13:19:00.000000000",
          "2024-04-24T13:20:00.000000000",
          "2024-04-24T13:21:00.000000000",
          "2024-04-24T13:22:00.000000000",
          "2024-04-24T13:23:00.000000000",
          "2024-04-24T13:24:00.000000000",
          "2024-04-24T13:25:00.000000000",
          "2024-04-24T13:26:00.000000000",
          "2024-04-24T13:27:00.000000000",
          "2024-04-24T13:28:00.000000000",
          "2024-04-24T13:29:00.000000000",
          "2024-04-24T13:30:00.000000000",
          "2024-04-24T13:31:00.000000000",
          "2024-04-24T13:32:00.000000000",
          "2024-04-24T13:33:00.000000000",
          "2024-04-24T13:34:00.000000000",
          "2024-04-24T13:35:00.000000000",
          "2024-04-24T13:36:00.000000000",
          "2024-04-24T13:37:00.000000000",
          "2024-04-24T13:38:00.000000000",
          "2024-04-24T13:39:00.000000000",
          "2024-04-24T13:40:00.000000000",
          "2024-04-24T13:41:00.000000000",
          "2024-04-24T13:42:00.000000000",
          "2024-04-24T13:43:00.000000000",
          "2024-04-24T13:44:00.000000000",
          "2024-04-24T13:45:00.000000000",
          "2024-04-24T13:46:00.000000000",
          "2024-04-24T13:47:00.000000000",
          "2024-04-24T13:48:00.000000000",
          "2024-04-24T13:49:00.000000000",
          "2024-04-24T13:50:00.000000000",
          "2024-04-24T13:51:00.000000000",
          "2024-04-24T13:52:00.000000000",
          "2024-04-24T13:53:00.000000000",
          "2024-04-24T13:54:00.000000000",
          "2024-04-24T13:55:00.000000000",
          "2024-04-24T13:56:00.000000000",
          "2024-04-24T13:57:00.000000000",
          "2024-04-24T13:58:00.000000000",
          "2024-04-24T13:59:00.000000000",
          "2024-04-24T14:00:00.000000000"
         ],
         "y": {
          "bdata": "AAAAAAABtEAAAAAAAAG0QAAAAACgALRAAAAAAIAAtEAAAAAAgAC0QAAAAACg/7NAAAAAAED/s0AAAAAAQP6zQAAAAAAA/rNAAAAAAAD+s0AAAAAAAP6zQAAAAAAA/rNAAAAAAAD+s0AAAAAAAP6zQAAAAAAA/rNAAAAAAMD9s0AAAAAAQP2zQAAAAABA/bNAAAAAAED9s0AAAAAA4PyzQAAAAAAg/LNAAAAAAKD6s0AAAAAAoPqzQAAAAACg+rNAAAAAAKD6s0AAAAAAoPqzQAAAAADA+bNAAAAAAID5s0AAAAAAgPmzQAAAAABA+bNAAAAAAMD4s0AAAAAAQPizQAAAAADA97NAAAAAAMD3s0AAAAAAwPezQAAAAADA97NAAAAAAMD3s0AAAAAAwPezQAAAAABA97NAAAAAAAD3s0AAAAAAoPazQAAAAABg9rNAAAAAAAD3s0AAAAAAIPezQAAAAABA97NAAAAAAMD3s0AAAAAAwPezQAAAAADA97NAAAAAACD4s0AAAAAA4PizQAAAAADg+bNAAAAAAOD5s0AAAAAA4PmzQAAAAADg+bNAAAAAAOD5s0AAAAAA4PmzQAAAAADg+bNAAAAAAID6s0AAAAAA4PqzQAAAAADg+rNAAAAAAED7s0AAAAAAgPuzQAAAAABA/LNAAAAAAED8s0AAAAAAQPyzQAAAAACA/LNAAAAAAMD8s0AAAAAAAP2zQAAAAAAA/bNAAAAAAAD9s0AAAAAAIP2zQAAAAABg/bNAAAAAAGD9s0AAAAAAYP2zQAAAAABg/bNAAAAAAGD9s0AAAAAAYP2zQAAAAABg/bNAAAAAAID9s0AAAAAAwP2zQAAAAADA/bNA",
          "dtype": "f8"
         }
        },
        {
         "line": {
          "color": "purple"
         },
         "mode": "lines",
         "name": "Chikou Span",
         "type": "scatter",
         "x": [
          "2024-04-24T12:40:00.000000000",
          "2024-04-24T12:41:00.000000000",
          "2024-04-24T12:42:00.000000000",
          "2024-04-24T12:43:00.000000000",
          "2024-04-24T12:44:00.000000000",
          "2024-04-24T12:45:00.000000000",
          "2024-04-24T12:46:00.000000000",
          "2024-04-24T12:47:00.000000000",
          "2024-04-24T12:48:00.000000000",
          "2024-04-24T12:49:00.000000000",
          "2024-04-24T12:50:00.000000000",
          "2024-04-24T12:51:00.000000000",
          "2024-04-24T12:52:00.000000000",
          "2024-04-24T12:53:00.000000000",
          "2024-04-24T12:54:00.000000000",
          "2024-04-24T12:55:00.000000000",
          "2024-04-24T12:56:00.000000000",
          "2024-04-24T12:57:00.000000000",
          "2024-04-24T12:58:00.000000000",
          "2024-04-24T12:59:00.000000000",
          "2024-04-24T13:00:00.000000000",
          "2024-04-24T13:01:00.000000000",
          "2024-04-24T13:02:00.000000000",
          "2024-04-24T13:03:00.000000000",
          "2024-04-24T13:04:00.000000000",
          "2024-04-24T13:05:00.000000000",
          "2024-04-24T13:06:00.000000000",
          "2024-04-24T13:07:00.000000000",
          "2024-04-24T13:08:00.000000000",
          "2024-04-24T13:09:00.000000000",
          "2024-04-24T13:10:00.000000000",
          "2024-04-24T13:11:00.000000000",
          "2024-04-24T13:12:00.000000000",
          "2024-04-24T13:13:00.000000000",
          "2024-04-24T13:14:00.000000000",
          "2024-04-24T13:15:00.000000000",
          "2024-04-24T13:16:00.000000000",
          "2024-04-24T13:17:00.000000000",
          "2024-04-24T13:18:00.000000000",
          "2024-04-24T13:19:00.000000000",
          "2024-04-24T13:20:00.000000000",
          "2024-04-24T13:21:00.000000000",
          "2024-04-24T13:22:00.000000000",
          "2024-04-24T13:23:00.000000000",
          "2024-04-24T13:24:00.000000000",
          "2024-04-24T13:25:00.000000000",
          "2024-04-24T13:26:00.000000000",
          "2024-04-24T13:27:00.000000000",
          "2024-04-24T13:28:00.000000000",
          "2024-04-24T13:29:00.000000000",
          "2024-04-24T13:30:00.000000000",
          "2024-04-24T13:31:00.000000000",
          "2024-04-24T13:32:00.000000000",
          "2024-04-24T13:33:00.000000000",
          "2024-04-24T13:34:00.000000000",
          "2024-04-24T13:35:00.000000000",
          "2024-04-24T13:36:00.000000000",
          "2024-04-24T13:37:00.000000000",
          "2024-04-24T13:38:00.000000000",
          "2024-04-24T13:39:00.000000000",
          "2024-04-24T13:40:00.000000000",
          "2024-04-24T13:41:00.000000000",
          "2024-04-24T13:42:00.000000000",
          "2024-04-24T13:43:00.000000000",
          "2024-04-24T13:44:00.000000000",
          "2024-04-24T13:45:00.000000000",
          "2024-04-24T13:46:00.000000000",
          "2024-04-24T13:47:00.000000000",
          "2024-04-24T13:48:00.000000000",
          "2024-04-24T13:49:00.000000000",
          "2024-04-24T13:50:00.000000000",
          "2024-04-24T13:51:00.000000000",
          "2024-04-24T13:52:00.000000000",
          "2024-04-24T13:53:00.000000000",
          "2024-04-24T13:54:00.000000000",
          "2024-04-24T13:55:00.000000000",
          "2024-04-24T13:56:00.000000000",
          "2024-04-24T13:57:00.000000000",
          "2024-04-24T13:58:00.000000000",
          "2024-04-24T13:59:00.000000000",
          "2024-04-24T14:00:00.000000000"
         ],
         "y": {
          "bdata": "AAAAAMD2s0AAAAAAAPezQAAAAADA9rNAAAAAAAD2s0AAAAAAgPWzQAAAAACA9rNAAAAAAED2s0AAAAAAQPazQAAAAADA9bNAAAAAAAD1s0AAAAAAAPWzQAAAAADA9rNAAAAAAID1s0AAAAAAwPSzQAAAAACA9bNAAAAAAID2s0AAAAAAQPmzQAAAAADA+bNAAAAAAMD4s0AAAAAAQPqzQAAAAABA+rNAAAAAAAD7s0AAAAAAwPuzQAAAAADA/LNAAAAAAED6s0AAAAAAAPmzQAAAAABA97NAAAAAAMD3s0AAAAAAgPqzQAAAAABA/bNAAAAAAID8s0AAAAAAwP+zQAAAAAAAALRAAAAAAEAAtEAAAAAAgP6zQAAAAACAArRAAAAAAIABtEAAAAAAAAK0QAAAAACAALRAAAAAAMD/s0AAAAAAQAC0QAAAAACA/7NAAAAAAAAAtEAAAAAAAAG0QAAAAACAA7RAAAAAAEADtEAAAAAAgAC0QAAAAACAALRAAAAAAIAAtEAAAAAAwPyzQAAAAACA97NAAAAAAID5s0AAAAAAAPuzQAAAAACA+bNAAAAAAAD7s0AAAAAAgPmzQAAAAABA+7NAAAAAAMD6s0AAAAAAgPqzQAAAAACA/LNAAAAAAAAAtEAAAAAAQAC0QAAAAAAAAbRAAAAAAMAAtEAAAAAAAAG0QAAAAACA/7NAAAAAAED+s0AAAAAAwPyzQAAAAACA+LNAAAAAAMD4s0AAAAAAwPmzQAAAAADA97NAAAAAAMD4s0AAAAAAwPezQAAAAABA97NAAAAAAED4s0AAAAAAgPqzQAAAAAAA+rNAAAAAAID7s0AAAAAAQPuzQAAAAAAA+7NA",
          "dtype": "f8"
         }
        },
        {
         "line": {
          "color": "rgba(0,200,0,0.5)"
         },
         "mode": "lines",
         "name": "Senkou Span A",
         "type": "scatter",
         "x": [
          "2024-04-24T12:40:00.000000000",
          "2024-04-24T12:41:00.000000000",
          "2024-04-24T12:42:00.000000000",
          "2024-04-24T12:43:00.000000000",
          "2024-04-24T12:44:00.000000000",
          "2024-04-24T12:45:00.000000000",
          "2024-04-24T12:46:00.000000000",
          "2024-04-24T12:47:00.000000000",
          "2024-04-24T12:48:00.000000000",
          "2024-04-24T12:49:00.000000000",
          "2024-04-24T12:50:00.000000000",
          "2024-04-24T12:51:00.000000000",
          "2024-04-24T12:52:00.000000000",
          "2024-04-24T12:53:00.000000000",
          "2024-04-24T12:54:00.000000000",
          "2024-04-24T12:55:00.000000000",
          "2024-04-24T12:56:00.000000000",
          "2024-04-24T12:57:00.000000000",
          "2024-04-24T12:58:00.000000000",
          "2024-04-24T12:59:00.000000000",
          "2024-04-24T13:00:00.000000000",
          "2024-04-24T13:01:00.000000000",
          "2024-04-24T13:02:00.000000000",
          "2024-04-24T13:03:00.000000000",
          "2024-04-24T13:04:00.000000000",
          "2024-04-24T13:05:00.000000000",
          "2024-04-24T13:06:00.000000000",
          "2024-04-24T13:07:00.000000000",
          "2024-04-24T13:08:00.000000000",
          "2024-04-24T13:09:00.000000000",
          "2024-04-24T13:10:00.000000000",
          "2024-04-24T13:11:00.000000000",
          "2024-04-24T13:12:00.000000000",
          "2024-04-24T13:13:00.000000000",
          "2024-04-24T13:14:00.000000000",
          "2024-04-24T13:15:00.000000000",
          "2024-04-24T13:16:00.000000000",
          "2024-04-24T13:17:00.000000000",
          "2024-04-24T13:18:00.000000000",
          "2024-04-24T13:19:00.000000000",
          "2024-04-24T13:20:00.000000000",
          "2024-04-24T13:21:00.000000000",
          "2024-04-24T13:22:00.000000000",
          "2024-04-24T13:23:00.000000000",
          "2024-04-24T13:24:00.000000000",
          "2024-04-24T13:25:00.000000000",
          "2024-04-24T13:26:00.000000000",
          "2024-04-24T13:27:00.000000000",
          "2024-04-24T13:28:00.000000000",
          "2024-04-24T13:29:00.000000000",
          "2024-04-24T13:30:00.000000000",
          "2024-04-24T13:31:00.000000000",
          "2024-04-24T13:32:00.000000000",
          "2024-04-24T13:33:00.000000000",
          "2024-04-24T13:34:00.000000000",
          "2024-04-24T13:35:00.000000000",
          "2024-04-24T13:36:00.000000000",
          "2024-04-24T13:37:00.000000000",
          "2024-04-24T13:38:00.000000000",
          "2024-04-24T13:39:00.000000000",
          "2024-04-24T13:40:00.000000000",
          "2024-04-24T13:41:00.000000000",
          "2024-04-24T13:42:00.000000000",
          "2024-04-24T13:43:00.000000000",
          "2024-04-24T13:44:00.000000000",
          "2024-04-24T13:45:00.000000000",
          "2024-04-24T13:46:00.000000000",
          "2024-04-24T13:47:00.000000000",
          "2024-04-24T13:48:00.000000000",
          "2024-04-24T13:49:00.000000000",
          "2024-04-24T13:50:00.000000000",
          "2024-04-24T13:51:00.000000000",
          "2024-04-24T13:52:00.000000000",
          "2024-04-24T13:53:00.000000000",
          "2024-04-24T13:54:00.000000000",
          "2024-04-24T13:55:00.000000000",
          "2024-04-24T13:56:00.000000000",
          "2024-04-24T13:57:00.000000000",
          "2024-04-24T13:58:00.000000000",
          "2024-04-24T13:59:00.000000000",
          "2024-04-24T14:00:00.000000000"
         ],
         "y": {
          "bdata": "AAAAAJD+s0AAAAAAoP6zQAAAAACg/rNAAAAAAMD+s0AAAAAA4P6zQAAAAACw/rNAAAAAAND+s0AAAAAA4P6zQAAAAACg/7NAAAAAAND/s0AAAAAA4P+zQAAAAADw/7NAAAAAAAAAtEAAAAAAAAC0QAAAAAAQALRAAAAAABAAtEAAAAAAMAC0QAAAAACQALRAAAAAADABtEAAAAAAcAG0QAAAAABwAbRAAAAAAHABtEAAAAAAIAG0QAAAAADwALRAAAAAAPAAtEAAAAAAAAG0QAAAAAAAAbRAAAAAAAABtEAAAAAAcAC0QAAAAAAwALRAAAAAAID/s0AAAAAAoP6zQAAAAABA/rNAAAAAAED9s0AAAAAAAP2zQAAAAACQ/LNAAAAAAHD8s0AAAAAAcPyzQAAAAABQ/LNAAAAAABD8s0AAAAAA0PuzQAAAAABQ+7NAAAAAAND6s0AAAAAA0PqzQAAAAADQ+rNAAAAAAKD6s0AAAAAAAPqzQAAAAADw+LNAAAAAAND4s0AAAAAAoPizQAAAAACA+LNAAAAAAID4s0AAAAAAAPizQAAAAADg97NAAAAAAOD3s0AAAAAAwPezQAAAAACg97NAAAAAAGD3s0AAAAAAIPezQAAAAAAg97NAAAAAACD3s0AAAAAA0PazQAAAAADQ9rNAAAAAAND2s0AAAAAAgPazQAAAAABg9rNAAAAAADD2s0AAAAAAAPazQAAAAAAA97NAAAAAACD3s0AAAAAAQPezQAAAAADA97NAAAAAAMD3s0AAAAAAwPezQAAAAABA+LNAAAAAACD5s0AAAAAAUPqzQAAAAADg+rNAAAAAAED6s0AAAAAAQPqzQAAAAABA+rNA",
          "dtype": "f8"
         }
        },
        {
         "fill": "tonexty",
         "fillcolor": "rgba(100,100,100,0.2)",
         "line": {
          "color": "rgba(200,0,0,0.5)"
         },
         "mode": "lines",
         "name": "Senkou Span B",
         "type": "scatter",
         "x": [
          "2024-04-24T12:40:00.000000000",
          "2024-04-24T12:41:00.000000000",
          "2024-04-24T12:42:00.000000000",
          "2024-04-24T12:43:00.000000000",
          "2024-04-24T12:44:00.000000000",
          "2024-04-24T12:45:00.000000000",
          "2024-04-24T12:46:00.000000000",
          "2024-04-24T12:47:00.000000000",
          "2024-04-24T12:48:00.000000000",
          "2024-04-24T12:49:00.000000000",
          "2024-04-24T12:50:00.000000000",
          "2024-04-24T12:51:00.000000000",
          "2024-04-24T12:52:00.000000000",
          "2024-04-24T12:53:00.000000000",
          "2024-04-24T12:54:00.000000000",
          "2024-04-24T12:55:00.000000000",
          "2024-04-24T12:56:00.000000000",
          "2024-04-24T12:57:00.000000000",
          "2024-04-24T12:58:00.000000000",
          "2024-04-24T12:59:00.000000000",
          "2024-04-24T13:00:00.000000000",
          "2024-04-24T13:01:00.000000000",
          "2024-04-24T13:02:00.000000000",
          "2024-04-24T13:03:00.000000000",
          "2024-04-24T13:04:00.000000000",
          "2024-04-24T13:05:00.000000000",
          "2024-04-24T13:06:00.000000000",
          "2024-04-24T13:07:00.000000000",
          "2024-04-24T13:08:00.000000000",
          "2024-04-24T13:09:00.000000000",
          "2024-04-24T13:10:00.000000000",
          "2024-04-24T13:11:00.000000000",
          "2024-04-24T13:12:00.000000000",
          "2024-04-24T13:13:00.000000000",
          "2024-04-24T13:14:00.000000000",
          "2024-04-24T13:15:00.000000000",
          "2024-04-24T13:16:00.000000000",
          "2024-04-24T13:17:00.000000000",
          "2024-04-24T13:18:00.000000000",
          "2024-04-24T13:19:00.000000000",
          "2024-04-24T13:20:00.000000000",
          "2024-04-24T13:21:00.000000000",
          "2024-04-24T13:22:00.000000000",
          "2024-04-24T13:23:00.000000000",
          "2024-04-24T13:24:00.000000000",
          "2024-04-24T13:25:00.000000000",
          "2024-04-24T13:26:00.000000000",
          "2024-04-24T13:27:00.000000000",
          "2024-04-24T13:28:00.000000000",
          "2024-04-24T13:29:00.000000000",
          "2024-04-24T13:30:00.000000000",
          "2024-04-24T13:31:00.000000000",
          "2024-04-24T13:32:00.000000000",
          "2024-04-24T13:33:00.000000000",
          "2024-04-24T13:34:00.000000000",
          "2024-04-24T13:35:00.000000000",
          "2024-04-24T13:36:00.000000000",
          "2024-04-24T13:37:00.000000000",
          "2024-04-24T13:38:00.000000000",
          "2024-04-24T13:39:00.000000000",
          "2024-04-24T13:40:00.000000000",
          "2024-04-24T13:41:00.000000000",
          "2024-04-24T13:42:00.000000000",
          "2024-04-24T13:43:00.000000000",
          "2024-04-24T13:44:00.000000000",
          "2024-04-24T13:45:00.000000000",
          "2024-04-24T13:46:00.000000000",
          "2024-04-24T13:47:00.000000000",
          "2024-04-24T13:48:00.000000000",
          "2024-04-24T13:49:00.000000000",
          "2024-04-24T13:50:00.000000000",
          "2024-04-24T13:51:00.000000000",
          "2024-04-24T13:52:00.000000000",
          "2024-04-24T13:53:00.000000000",
          "2024-04-24T13:54:00.000000000",
          "2024-04-24T13:55:00.000000000",
          "2024-04-24T13:56:00.000000000",
          "2024-04-24T13:57:00.000000000",
          "2024-04-24T13:58:00.000000000",
          "2024-04-24T13:59:00.000000000",
          "2024-04-24T14:00:00.000000000"
         ],
         "y": {
          "bdata": "AAAAAOD8s0AAAAAAQP2zQAAAAADg/bNAAAAAAOD9s0AAAAAA4P2zQAAAAADg/bNAAAAAAOD9s0AAAAAA4P2zQAAAAADg/rNAAAAAAOD+s0AAAAAA4P6zQAAAAADg/rNAAAAAAOD+s0AAAAAA4P6zQAAAAADg/rNAAAAAAOD+s0AAAAAAAP+zQAAAAABg/7NAAAAAAAAAtEAAAAAAQAC0QAAAAABAALRAAAAAAEAAtEAAAAAAQAC0QAAAAABAALRAAAAAAEAAtEAAAAAAQAC0QAAAAABAALRAAAAAAGAAtEAAAAAAYAC0QAAAAACAALRAAAAAAIAAtEAAAAAAoP+zQAAAAABA/7NAAAAAAED+s0AAAAAAAP6zQAAAAAAA/rNAAAAAAAD+s0AAAAAAAP6zQAAAAAAA/rNAAAAAAAD+s0AAAAAAAP6zQAAAAADA/bNAAAAAAED9s0AAAAAAQP2zQAAAAABA/bNAAAAAAED9s0AAAAAAwPyzQAAAAACg/LNAAAAAAKD8s0AAAAAAoPyzQAAAAACg/LNAAAAAAKD8s0AAAAAAoPyzQAAAAACg/LNAAAAAAKD8s0AAAAAAoPyzQAAAAACg/LNAAAAAAKD8s0AAAAAAoPyzQAAAAACg/LNAAAAAAKD8s0AAAAAAoPyzQAAAAACg/LNAAAAAAKD8s0AAAAAAoPyzQAAAAACg/LNAAAAAAKD8s0AAAAAAoPyzQAAAAACg/LNAAAAAAKD8s0AAAAAAoPyzQAAAAABA/LNAAAAAAAD8s0AAAAAAoPqzQAAAAACg+rNAAAAAAKD6s0AAAAAAoPqzQAAAAACg+rNAAAAAAOD5s0AAAAAA4PmzQAAAAADg+bNA",
          "dtype": "f8"
         }
        }
       ],
       "layout": {
        "template": {
         "data": {
          "bar": [
           {
            "error_x": {
             "color": "#2a3f5f"
            },
            "error_y": {
             "color": "#2a3f5f"
            },
            "marker": {
             "line": {
              "color": "white",
              "width": 0.5
             },
             "pattern": {
              "fillmode": "overlay",
              "size": 10,
              "solidity": 0.2
             }
            },
            "type": "bar"
           }
          ],
          "barpolar": [
           {
            "marker": {
             "line": {
              "color": "white",
              "width": 0.5
             },
             "pattern": {
              "fillmode": "overlay",
              "size": 10,
              "solidity": 0.2
             }
            },
            "type": "barpolar"
           }
          ],
          "carpet": [
           {
            "aaxis": {
             "endlinecolor": "#2a3f5f",
             "gridcolor": "#C8D4E3",
             "linecolor": "#C8D4E3",
             "minorgridcolor": "#C8D4E3",
             "startlinecolor": "#2a3f5f"
            },
            "baxis": {
             "endlinecolor": "#2a3f5f",
             "gridcolor": "#C8D4E3",
             "linecolor": "#C8D4E3",
             "minorgridcolor": "#C8D4E3",
             "startlinecolor": "#2a3f5f"
            },
            "type": "carpet"
           }
          ],
          "choropleth": [
           {
            "colorbar": {
             "outlinewidth": 0,
             "ticks": ""
            },
            "type": "choropleth"
           }
          ],
          "contour": [
           {
            "colorbar": {
             "outlinewidth": 0,
             "ticks": ""
            },
            "colorscale": [
             [
              0,
              "#0d0887"
             ],
             [
              0.1111111111111111,
              "#46039f"
             ],
             [
              0.2222222222222222,
              "#7201a8"
             ],
             [
              0.3333333333333333,
              "#9c179e"
             ],
             [
              0.4444444444444444,
              "#bd3786"
             ],
             [
              0.5555555555555556,
              "#d8576b"
             ],
             [
              0.6666666666666666,
              "#ed7953"
             ],
             [
              0.7777777777777778,
              "#fb9f3a"
             ],
             [
              0.8888888888888888,
              "#fdca26"
             ],
             [
              1,
              "#f0f921"
             ]
            ],
            "type": "contour"
           }
          ],
          "contourcarpet": [
           {
            "colorbar": {
             "outlinewidth": 0,
             "ticks": ""
            },
            "type": "contourcarpet"
           }
          ],
          "heatmap": [
           {
            "colorbar": {
             "outlinewidth": 0,
             "ticks": ""
            },
            "colorscale": [
             [
              0,
              "#0d0887"
             ],
             [
              0.1111111111111111,
              "#46039f"
             ],
             [
              0.2222222222222222,
              "#7201a8"
             ],
             [
              0.3333333333333333,
              "#9c179e"
             ],
             [
              0.4444444444444444,
              "#bd3786"
             ],
             [
              0.5555555555555556,
              "#d8576b"
             ],
             [
              0.6666666666666666,
              "#ed7953"
             ],
             [
              0.7777777777777778,
              "#fb9f3a"
             ],
             [
              0.8888888888888888,
              "#fdca26"
             ],
             [
              1,
              "#f0f921"
             ]
            ],
            "type": "heatmap"
           }
          ],
          "histogram": [
           {
            "marker": {
             "pattern": {
              "fillmode": "overlay",
              "size": 10,
              "solidity": 0.2
             }
            },
            "type": "histogram"
           }
          ],
          "histogram2d": [
           {
            "colorbar": {
             "outlinewidth": 0,
             "ticks": ""
            },
            "colorscale": [
             [
              0,
              "#0d0887"
             ],
             [
              0.1111111111111111,
              "#46039f"
             ],
             [
              0.2222222222222222,
              "#7201a8"
             ],
             [
              0.3333333333333333,
              "#9c179e"
             ],
             [
              0.4444444444444444,
              "#bd3786"
             ],
             [
              0.5555555555555556,
              "#d8576b"
             ],
             [
              0.6666666666666666,
              "#ed7953"
             ],
             [
              0.7777777777777778,
              "#fb9f3a"
             ],
             [
              0.8888888888888888,
              "#fdca26"
             ],
             [
              1,
              "#f0f921"
             ]
            ],
            "type": "histogram2d"
           }
          ],
          "histogram2dcontour": [
           {
            "colorbar": {
             "outlinewidth": 0,
             "ticks": ""
            },
            "colorscale": [
             [
              0,
              "#0d0887"
             ],
             [
              0.1111111111111111,
              "#46039f"
             ],
             [
              0.2222222222222222,
              "#7201a8"
             ],
             [
              0.3333333333333333,
              "#9c179e"
             ],
             [
              0.4444444444444444,
              "#bd3786"
             ],
             [
              0.5555555555555556,
              "#d8576b"
             ],
             [
              0.6666666666666666,
              "#ed7953"
             ],
             [
              0.7777777777777778,
              "#fb9f3a"
             ],
             [
              0.8888888888888888,
              "#fdca26"
             ],
             [
              1,
              "#f0f921"
             ]
            ],
            "type": "histogram2dcontour"
           }
          ],
          "mesh3d": [
           {
            "colorbar": {
             "outlinewidth": 0,
             "ticks": ""
            },
            "type": "mesh3d"
           }
          ],
          "parcoords": [
           {
            "line": {
             "colorbar": {
              "outlinewidth": 0,
              "ticks": ""
             }
            },
            "type": "parcoords"
           }
          ],
          "pie": [
           {
            "automargin": true,
            "type": "pie"
           }
          ],
          "scatter": [
           {
            "fillpattern": {
             "fillmode": "overlay",
             "size": 10,
             "solidity": 0.2
            },
            "type": "scatter"
           }
          ],
          "scatter3d": [
           {
            "line": {
             "colorbar": {
              "outlinewidth": 0,
              "ticks": ""
             }
            },
            "marker": {
             "colorbar": {
              "outlinewidth": 0,
              "ticks": ""
             }
            },
            "type": "scatter3d"
           }
          ],
          "scattercarpet": [
           {
            "marker": {
             "colorbar": {
              "outlinewidth": 0,
              "ticks": ""
             }
            },
            "type": "scattercarpet"
           }
          ],
          "scattergeo": [
           {
            "marker": {
             "colorbar": {
              "outlinewidth": 0,
              "ticks": ""
             }
            },
            "type": "scattergeo"
           }
          ],
          "scattergl": [
           {
            "marker": {
             "colorbar": {
              "outlinewidth": 0,
              "ticks": ""
             }
            },
            "type": "scattergl"
           }
          ],
          "scattermap": [
           {
            "marker": {
             "colorbar": {
              "outlinewidth": 0,
              "ticks": ""
             }
            },
            "type": "scattermap"
           }
          ],
          "scattermapbox": [
           {
            "marker": {
             "colorbar": {
              "outlinewidth": 0,
              "ticks": ""
             }
            },
            "type": "scattermapbox"
           }
          ],
          "scatterpolar": [
           {
            "marker": {
             "colorbar": {
              "outlinewidth": 0,
              "ticks": ""
             }
            },
            "type": "scatterpolar"
           }
          ],
          "scatterpolargl": [
           {
            "marker": {
             "colorbar": {
              "outlinewidth": 0,
              "ticks": ""
             }
            },
            "type": "scatterpolargl"
           }
          ],
          "scatterternary": [
           {
            "marker": {
             "colorbar": {
              "outlinewidth": 0,
              "ticks": ""
             }
            },
            "type": "scatterternary"
           }
          ],
          "surface": [
           {
            "colorbar": {
             "outlinewidth": 0,
             "ticks": ""
            },
            "colorscale": [
             [
              0,
              "#0d0887"
             ],
             [
              0.1111111111111111,
              "#46039f"
             ],
             [
              0.2222222222222222,
              "#7201a8"
             ],
             [
              0.3333333333333333,
              "#9c179e"
             ],
             [
              0.4444444444444444,
              "#bd3786"
             ],
             [
              0.5555555555555556,
              "#d8576b"
             ],
             [
              0.6666666666666666,
              "#ed7953"
             ],
             [
              0.7777777777777778,
              "#fb9f3a"
             ],
             [
              0.8888888888888888,
              "#fdca26"
             ],
             [
              1,
              "#f0f921"
             ]
            ],
            "type": "surface"
           }
          ],
          "table": [
           {
            "cells": {
             "fill": {
              "color": "#EBF0F8"
             },
             "line": {
              "color": "white"
             }
            },
            "header": {
             "fill": {
              "color": "#C8D4E3"
             },
             "line": {
              "color": "white"
             }
            },
            "type": "table"
           }
          ]
         },
         "layout": {
          "annotationdefaults": {
           "arrowcolor": "#2a3f5f",
           "arrowhead": 0,
           "arrowwidth": 1
          },
          "autotypenumbers": "strict",
          "coloraxis": {
           "colorbar": {
            "outlinewidth": 0,
            "ticks": ""
           }
          },
          "colorscale": {
           "diverging": [
            [
             0,
             "#8e0152"
            ],
            [
             0.1,
             "#c51b7d"
            ],
            [
             0.2,
             "#de77ae"
            ],
            [
             0.3,
             "#f1b6da"
            ],
            [
             0.4,
             "#fde0ef"
            ],
            [
             0.5,
             "#f7f7f7"
            ],
            [
             0.6,
             "#e6f5d0"
            ],
            [
             0.7,
             "#b8e186"
            ],
            [
             0.8,
             "#7fbc41"
            ],
            [
             0.9,
             "#4d9221"
            ],
            [
             1,
             "#276419"
            ]
           ],
           "sequential": [
            [
             0,
             "#0d0887"
            ],
            [
             0.1111111111111111,
             "#46039f"
            ],
            [
             0.2222222222222222,
             "#7201a8"
            ],
            [
             0.3333333333333333,
             "#9c179e"
            ],
            [
             0.4444444444444444,
             "#bd3786"
            ],
            [
             0.5555555555555556,
             "#d8576b"
            ],
            [
             0.6666666666666666,
             "#ed7953"
            ],
            [
             0.7777777777777778,
             "#fb9f3a"
            ],
            [
             0.8888888888888888,
             "#fdca26"
            ],
            [
             1,
             "#f0f921"
            ]
           ],
           "sequentialminus": [
            [
             0,
             "#0d0887"
            ],
            [
             0.1111111111111111,
             "#46039f"
            ],
            [
             0.2222222222222222,
             "#7201a8"
            ],
            [
             0.3333333333333333,
             "#9c179e"
            ],
            [
             0.4444444444444444,
             "#bd3786"
            ],
            [
             0.5555555555555556,
             "#d8576b"
            ],
            [
             0.6666666666666666,
             "#ed7953"
            ],
            [
             0.7777777777777778,
             "#fb9f3a"
            ],
            [
             0.8888888888888888,
             "#fdca26"
            ],
            [
             1,
             "#f0f921"
            ]
           ]
          },
          "colorway": [
           "#636efa",
           "#EF553B",
           "#00cc96",
           "#ab63fa",
           "#FFA15A",
           "#19d3f3",
           "#FF6692",
           "#B6E880",
           "#FF97FF",
           "#FECB52"
          ],
          "font": {
           "color": "#2a3f5f"
          },
          "geo": {
           "bgcolor": "white",
           "lakecolor": "white",
           "landcolor": "white",
           "showlakes": true,
           "showland": true,
           "subunitcolor": "#C8D4E3"
          },
          "hoverlabel": {
           "align": "left"
          },
          "hovermode": "closest",
          "mapbox": {
           "style": "light"
          },
          "paper_bgcolor": "white",
          "plot_bgcolor": "white",
          "polar": {
           "angularaxis": {
            "gridcolor": "#EBF0F8",
            "linecolor": "#EBF0F8",
            "ticks": ""
           },
           "bgcolor": "white",
           "radialaxis": {
            "gridcolor": "#EBF0F8",
            "linecolor": "#EBF0F8",
            "ticks": ""
           }
          },
          "scene": {
           "xaxis": {
            "backgroundcolor": "white",
            "gridcolor": "#DFE8F3",
            "gridwidth": 2,
            "linecolor": "#EBF0F8",
            "showbackground": true,
            "ticks": "",
            "zerolinecolor": "#EBF0F8"
           },
           "yaxis": {
            "backgroundcolor": "white",
            "gridcolor": "#DFE8F3",
            "gridwidth": 2,
            "linecolor": "#EBF0F8",
            "showbackground": true,
            "ticks": "",
            "zerolinecolor": "#EBF0F8"
           },
           "zaxis": {
            "backgroundcolor": "white",
            "gridcolor": "#DFE8F3",
            "gridwidth": 2,
            "linecolor": "#EBF0F8",
            "showbackground": true,
            "ticks": "",
            "zerolinecolor": "#EBF0F8"
           }
          },
          "shapedefaults": {
           "line": {
            "color": "#2a3f5f"
           }
          },
          "ternary": {
           "aaxis": {
            "gridcolor": "#DFE8F3",
            "linecolor": "#A2B1C6",
            "ticks": ""
           },
           "baxis": {
            "gridcolor": "#DFE8F3",
            "linecolor": "#A2B1C6",
            "ticks": ""
           },
           "bgcolor": "white",
           "caxis": {
            "gridcolor": "#DFE8F3",
            "linecolor": "#A2B1C6",
            "ticks": ""
           }
          },
          "title": {
           "x": 0.05
          },
          "xaxis": {
           "automargin": true,
           "gridcolor": "#EBF0F8",
           "linecolor": "#EBF0F8",
           "ticks": "",
           "title": {
            "standoff": 15
           },
           "zerolinecolor": "#EBF0F8",
           "zerolinewidth": 2
          },
          "yaxis": {
           "automargin": true,
           "gridcolor": "#EBF0F8",
           "linecolor": "#EBF0F8",
           "ticks": "",
           "title": {
            "standoff": 15
           },
           "zerolinecolor": "#EBF0F8",
           "zerolinewidth": 2
          }
         }
        },
        "title": {
         "text": "Prix de 2024-04-24 12:40:00 à 2024-04-24 14:00:00"
        },
        "xaxis": {
         "rangeslider": {
          "visible": false
         },
         "title": {
          "text": "Date"
         }
        },
        "yaxis": {
         "title": {
          "text": "Prix"
         }
        }
       }
      }
     },
     "metadata": {},
     "output_type": "display_data"
    }
   ],
   "source": [
    "print_olhc_price_from_df(df_plot=processed_df, start_date=\"2024-04-24 12:40:00\", end_date=\"2024-04-24 14:00:00\")"
   ]
  },
  {
   "cell_type": "markdown",
   "metadata": {},
   "source": [
    "# PROCESSING DES DATAS 5 MIN"
   ]
  },
  {
   "cell_type": "code",
   "execution_count": 24,
   "metadata": {},
   "outputs": [
    {
     "data": {
      "text/html": [
       "<div>\n",
       "<style scoped>\n",
       "    .dataframe tbody tr th:only-of-type {\n",
       "        vertical-align: middle;\n",
       "    }\n",
       "\n",
       "    .dataframe tbody tr th {\n",
       "        vertical-align: top;\n",
       "    }\n",
       "\n",
       "    .dataframe thead th {\n",
       "        text-align: right;\n",
       "    }\n",
       "</style>\n",
       "<table border=\"1\" class=\"dataframe\">\n",
       "  <thead>\n",
       "    <tr style=\"text-align: right;\">\n",
       "      <th></th>\n",
       "      <th>close</th>\n",
       "      <th>high</th>\n",
       "      <th>low</th>\n",
       "      <th>open</th>\n",
       "      <th>datetime</th>\n",
       "      <th>volume</th>\n",
       "    </tr>\n",
       "  </thead>\n",
       "  <tbody>\n",
       "    <tr>\n",
       "      <th>0</th>\n",
       "      <td>3327.50</td>\n",
       "      <td>3327.75</td>\n",
       "      <td>3319.50</td>\n",
       "      <td>3322.25</td>\n",
       "      <td>2020-02-09 23:00:00</td>\n",
       "      <td>8730</td>\n",
       "    </tr>\n",
       "    <tr>\n",
       "      <th>1</th>\n",
       "      <td>3327.25</td>\n",
       "      <td>3329.25</td>\n",
       "      <td>3326.25</td>\n",
       "      <td>3327.75</td>\n",
       "      <td>2020-02-09 23:05:00</td>\n",
       "      <td>2746</td>\n",
       "    </tr>\n",
       "    <tr>\n",
       "      <th>2</th>\n",
       "      <td>3325.00</td>\n",
       "      <td>3328.00</td>\n",
       "      <td>3324.50</td>\n",
       "      <td>3327.00</td>\n",
       "      <td>2020-02-09 23:10:00</td>\n",
       "      <td>2526</td>\n",
       "    </tr>\n",
       "    <tr>\n",
       "      <th>3</th>\n",
       "      <td>3323.50</td>\n",
       "      <td>3326.00</td>\n",
       "      <td>3323.50</td>\n",
       "      <td>3325.00</td>\n",
       "      <td>2020-02-09 23:15:00</td>\n",
       "      <td>2268</td>\n",
       "    </tr>\n",
       "    <tr>\n",
       "      <th>4</th>\n",
       "      <td>3322.25</td>\n",
       "      <td>3325.00</td>\n",
       "      <td>3322.25</td>\n",
       "      <td>3323.50</td>\n",
       "      <td>2020-02-09 23:20:00</td>\n",
       "      <td>2084</td>\n",
       "    </tr>\n",
       "    <tr>\n",
       "      <th>...</th>\n",
       "      <td>...</td>\n",
       "      <td>...</td>\n",
       "      <td>...</td>\n",
       "      <td>...</td>\n",
       "      <td>...</td>\n",
       "      <td>...</td>\n",
       "    </tr>\n",
       "    <tr>\n",
       "      <th>358967</th>\n",
       "      <td>5740.00</td>\n",
       "      <td>5740.50</td>\n",
       "      <td>5735.75</td>\n",
       "      <td>5735.75</td>\n",
       "      <td>2025-03-09 22:35:00</td>\n",
       "      <td>1164</td>\n",
       "    </tr>\n",
       "    <tr>\n",
       "      <th>358968</th>\n",
       "      <td>5738.00</td>\n",
       "      <td>5741.25</td>\n",
       "      <td>5737.00</td>\n",
       "      <td>5740.00</td>\n",
       "      <td>2025-03-09 22:40:00</td>\n",
       "      <td>884</td>\n",
       "    </tr>\n",
       "    <tr>\n",
       "      <th>358969</th>\n",
       "      <td>5736.75</td>\n",
       "      <td>5741.50</td>\n",
       "      <td>5736.00</td>\n",
       "      <td>5738.25</td>\n",
       "      <td>2025-03-09 22:45:00</td>\n",
       "      <td>1039</td>\n",
       "    </tr>\n",
       "    <tr>\n",
       "      <th>358970</th>\n",
       "      <td>5737.25</td>\n",
       "      <td>5739.00</td>\n",
       "      <td>5735.50</td>\n",
       "      <td>5737.00</td>\n",
       "      <td>2025-03-09 22:50:00</td>\n",
       "      <td>926</td>\n",
       "    </tr>\n",
       "    <tr>\n",
       "      <th>358971</th>\n",
       "      <td>5728.00</td>\n",
       "      <td>5737.75</td>\n",
       "      <td>5727.50</td>\n",
       "      <td>5737.50</td>\n",
       "      <td>2025-03-09 22:55:00</td>\n",
       "      <td>1566</td>\n",
       "    </tr>\n",
       "  </tbody>\n",
       "</table>\n",
       "<p>358972 rows × 6 columns</p>\n",
       "</div>"
      ],
      "text/plain": [
       "          close     high      low     open            datetime  volume\n",
       "0       3327.50  3327.75  3319.50  3322.25 2020-02-09 23:00:00    8730\n",
       "1       3327.25  3329.25  3326.25  3327.75 2020-02-09 23:05:00    2746\n",
       "2       3325.00  3328.00  3324.50  3327.00 2020-02-09 23:10:00    2526\n",
       "3       3323.50  3326.00  3323.50  3325.00 2020-02-09 23:15:00    2268\n",
       "4       3322.25  3325.00  3322.25  3323.50 2020-02-09 23:20:00    2084\n",
       "...         ...      ...      ...      ...                 ...     ...\n",
       "358967  5740.00  5740.50  5735.75  5735.75 2025-03-09 22:35:00    1164\n",
       "358968  5738.00  5741.25  5737.00  5740.00 2025-03-09 22:40:00     884\n",
       "358969  5736.75  5741.50  5736.00  5738.25 2025-03-09 22:45:00    1039\n",
       "358970  5737.25  5739.00  5735.50  5737.00 2025-03-09 22:50:00     926\n",
       "358971  5728.00  5737.75  5727.50  5737.50 2025-03-09 22:55:00    1566\n",
       "\n",
       "[358972 rows x 6 columns]"
      ]
     },
     "execution_count": 24,
     "metadata": {},
     "output_type": "execute_result"
    }
   ],
   "source": [
    "df_5m = create_df_from_csv(timeFrameUsed=\"5m\", let_original_rangeTime=True)\n",
    "df_5m"
   ]
  },
  {
   "cell_type": "code",
   "execution_count": 25,
   "metadata": {},
   "outputs": [
    {
     "data": {
      "text/plain": [
       "datetime        0\n",
       "open        15416\n",
       "high        15416\n",
       "low         15416\n",
       "close       15416\n",
       "dtype: int64"
      ]
     },
     "execution_count": 25,
     "metadata": {},
     "output_type": "execute_result"
    }
   ],
   "source": [
    "df_5m_resampled = resample_data(df_5m, \"5min\")\n",
    "df_5m_resampled.isnull().sum()"
   ]
  },
  {
   "cell_type": "code",
   "execution_count": 22,
   "metadata": {},
   "outputs": [
    {
     "name": "stdout",
     "output_type": "stream",
     "text": [
      "⏱️ Timestamps avec NaN qui n'étaient PAS dans les données d'origine :\n",
      "                  datetime  open  high  low  close\n",
      "267    2020-02-10 21:15:00   NaN   NaN  NaN    NaN\n",
      "268    2020-02-10 21:20:00   NaN   NaN  NaN    NaN\n",
      "269    2020-02-10 21:25:00   NaN   NaN  NaN    NaN\n",
      "276    2020-02-10 22:00:00   NaN   NaN  NaN    NaN\n",
      "277    2020-02-10 22:05:00   NaN   NaN  NaN    NaN\n",
      "...                    ...   ...   ...  ...    ...\n",
      "374095 2025-03-06 22:35:00   NaN   NaN  NaN    NaN\n",
      "374096 2025-03-06 22:40:00   NaN   NaN  NaN    NaN\n",
      "374097 2025-03-06 22:45:00   NaN   NaN  NaN    NaN\n",
      "374098 2025-03-06 22:50:00   NaN   NaN  NaN    NaN\n",
      "374099 2025-03-06 22:55:00   NaN   NaN  NaN    NaN\n",
      "\n",
      "[15416 rows x 5 columns]\n"
     ]
    }
   ],
   "source": [
    "check_resample_null_values(df_original=df_5m, df_resampled=df_5m_resampled)"
   ]
  },
  {
   "cell_type": "code",
   "execution_count": null,
   "metadata": {},
   "outputs": [
    {
     "data": {
      "text/html": [
       "<div>\n",
       "<style scoped>\n",
       "    .dataframe tbody tr th:only-of-type {\n",
       "        vertical-align: middle;\n",
       "    }\n",
       "\n",
       "    .dataframe tbody tr th {\n",
       "        vertical-align: top;\n",
       "    }\n",
       "\n",
       "    .dataframe thead th {\n",
       "        text-align: right;\n",
       "    }\n",
       "</style>\n",
       "<table border=\"1\" class=\"dataframe\">\n",
       "  <thead>\n",
       "    <tr style=\"text-align: right;\">\n",
       "      <th></th>\n",
       "      <th>datetime</th>\n",
       "      <th>open</th>\n",
       "      <th>high</th>\n",
       "      <th>low</th>\n",
       "      <th>close</th>\n",
       "    </tr>\n",
       "  </thead>\n",
       "  <tbody>\n",
       "    <tr>\n",
       "      <th>0</th>\n",
       "      <td>2020-02-09 23:00:00</td>\n",
       "      <td>3322.25</td>\n",
       "      <td>3327.75</td>\n",
       "      <td>3319.50</td>\n",
       "      <td>3327.50</td>\n",
       "    </tr>\n",
       "    <tr>\n",
       "      <th>1</th>\n",
       "      <td>2020-02-09 23:05:00</td>\n",
       "      <td>3327.75</td>\n",
       "      <td>3329.25</td>\n",
       "      <td>3326.25</td>\n",
       "      <td>3327.25</td>\n",
       "    </tr>\n",
       "    <tr>\n",
       "      <th>2</th>\n",
       "      <td>2020-02-09 23:10:00</td>\n",
       "      <td>3327.00</td>\n",
       "      <td>3328.00</td>\n",
       "      <td>3324.50</td>\n",
       "      <td>3325.00</td>\n",
       "    </tr>\n",
       "    <tr>\n",
       "      <th>3</th>\n",
       "      <td>2020-02-09 23:15:00</td>\n",
       "      <td>3325.00</td>\n",
       "      <td>3326.00</td>\n",
       "      <td>3323.50</td>\n",
       "      <td>3323.50</td>\n",
       "    </tr>\n",
       "    <tr>\n",
       "      <th>4</th>\n",
       "      <td>2020-02-09 23:20:00</td>\n",
       "      <td>3323.50</td>\n",
       "      <td>3325.00</td>\n",
       "      <td>3322.25</td>\n",
       "      <td>3322.25</td>\n",
       "    </tr>\n",
       "    <tr>\n",
       "      <th>...</th>\n",
       "      <td>...</td>\n",
       "      <td>...</td>\n",
       "      <td>...</td>\n",
       "      <td>...</td>\n",
       "      <td>...</td>\n",
       "    </tr>\n",
       "    <tr>\n",
       "      <th>374383</th>\n",
       "      <td>2025-03-09 22:35:00</td>\n",
       "      <td>5735.75</td>\n",
       "      <td>5740.50</td>\n",
       "      <td>5735.75</td>\n",
       "      <td>5740.00</td>\n",
       "    </tr>\n",
       "    <tr>\n",
       "      <th>374384</th>\n",
       "      <td>2025-03-09 22:40:00</td>\n",
       "      <td>5740.00</td>\n",
       "      <td>5741.25</td>\n",
       "      <td>5737.00</td>\n",
       "      <td>5738.00</td>\n",
       "    </tr>\n",
       "    <tr>\n",
       "      <th>374385</th>\n",
       "      <td>2025-03-09 22:45:00</td>\n",
       "      <td>5738.25</td>\n",
       "      <td>5741.50</td>\n",
       "      <td>5736.00</td>\n",
       "      <td>5736.75</td>\n",
       "    </tr>\n",
       "    <tr>\n",
       "      <th>374386</th>\n",
       "      <td>2025-03-09 22:50:00</td>\n",
       "      <td>5737.00</td>\n",
       "      <td>5739.00</td>\n",
       "      <td>5735.50</td>\n",
       "      <td>5737.25</td>\n",
       "    </tr>\n",
       "    <tr>\n",
       "      <th>374387</th>\n",
       "      <td>2025-03-09 22:55:00</td>\n",
       "      <td>5737.50</td>\n",
       "      <td>5737.75</td>\n",
       "      <td>5727.50</td>\n",
       "      <td>5728.00</td>\n",
       "    </tr>\n",
       "  </tbody>\n",
       "</table>\n",
       "<p>358972 rows × 5 columns</p>\n",
       "</div>"
      ],
      "text/plain": [
       "                  datetime     open     high      low    close\n",
       "0      2020-02-09 23:00:00  3322.25  3327.75  3319.50  3327.50\n",
       "1      2020-02-09 23:05:00  3327.75  3329.25  3326.25  3327.25\n",
       "2      2020-02-09 23:10:00  3327.00  3328.00  3324.50  3325.00\n",
       "3      2020-02-09 23:15:00  3325.00  3326.00  3323.50  3323.50\n",
       "4      2020-02-09 23:20:00  3323.50  3325.00  3322.25  3322.25\n",
       "...                    ...      ...      ...      ...      ...\n",
       "374383 2025-03-09 22:35:00  5735.75  5740.50  5735.75  5740.00\n",
       "374384 2025-03-09 22:40:00  5740.00  5741.25  5737.00  5738.00\n",
       "374385 2025-03-09 22:45:00  5738.25  5741.50  5736.00  5736.75\n",
       "374386 2025-03-09 22:50:00  5737.00  5739.00  5735.50  5737.25\n",
       "374387 2025-03-09 22:55:00  5737.50  5737.75  5727.50  5728.00\n",
       "\n",
       "[358972 rows x 5 columns]"
      ]
     },
     "execution_count": 26,
     "metadata": {},
     "output_type": "execute_result"
    }
   ],
   "source": [
    "df_5m_resampled.dropna(inplace=True)\n",
    "df_5m_resampled # le nombre de donnée des data 5min était déjà correct, pas besoin de resample à la base"
   ]
  },
  {
   "cell_type": "markdown",
   "metadata": {},
   "source": [
    "# PROCESSING DES DATAS 15 MIN"
   ]
  },
  {
   "cell_type": "code",
   "execution_count": 27,
   "metadata": {},
   "outputs": [
    {
     "data": {
      "text/html": [
       "<div>\n",
       "<style scoped>\n",
       "    .dataframe tbody tr th:only-of-type {\n",
       "        vertical-align: middle;\n",
       "    }\n",
       "\n",
       "    .dataframe tbody tr th {\n",
       "        vertical-align: top;\n",
       "    }\n",
       "\n",
       "    .dataframe thead th {\n",
       "        text-align: right;\n",
       "    }\n",
       "</style>\n",
       "<table border=\"1\" class=\"dataframe\">\n",
       "  <thead>\n",
       "    <tr style=\"text-align: right;\">\n",
       "      <th></th>\n",
       "      <th>close</th>\n",
       "      <th>high</th>\n",
       "      <th>low</th>\n",
       "      <th>open</th>\n",
       "      <th>datetime</th>\n",
       "      <th>volume</th>\n",
       "    </tr>\n",
       "  </thead>\n",
       "  <tbody>\n",
       "    <tr>\n",
       "      <th>0</th>\n",
       "      <td>3327.00</td>\n",
       "      <td>3327.75</td>\n",
       "      <td>3325.75</td>\n",
       "      <td>3326.75</td>\n",
       "      <td>2020-02-10 11:00:00</td>\n",
       "      <td>4593</td>\n",
       "    </tr>\n",
       "    <tr>\n",
       "      <th>1</th>\n",
       "      <td>3328.00</td>\n",
       "      <td>3328.25</td>\n",
       "      <td>3326.00</td>\n",
       "      <td>3327.25</td>\n",
       "      <td>2020-02-10 11:15:00</td>\n",
       "      <td>3200</td>\n",
       "    </tr>\n",
       "    <tr>\n",
       "      <th>2</th>\n",
       "      <td>3328.25</td>\n",
       "      <td>3328.50</td>\n",
       "      <td>3326.00</td>\n",
       "      <td>3328.00</td>\n",
       "      <td>2020-02-10 11:30:00</td>\n",
       "      <td>2968</td>\n",
       "    </tr>\n",
       "    <tr>\n",
       "      <th>3</th>\n",
       "      <td>3327.00</td>\n",
       "      <td>3328.25</td>\n",
       "      <td>3326.25</td>\n",
       "      <td>3328.25</td>\n",
       "      <td>2020-02-10 11:45:00</td>\n",
       "      <td>2182</td>\n",
       "    </tr>\n",
       "    <tr>\n",
       "      <th>4</th>\n",
       "      <td>3325.00</td>\n",
       "      <td>3328.75</td>\n",
       "      <td>3323.00</td>\n",
       "      <td>3327.00</td>\n",
       "      <td>2020-02-10 12:00:00</td>\n",
       "      <td>7900</td>\n",
       "    </tr>\n",
       "    <tr>\n",
       "      <th>...</th>\n",
       "      <td>...</td>\n",
       "      <td>...</td>\n",
       "      <td>...</td>\n",
       "      <td>...</td>\n",
       "      <td>...</td>\n",
       "      <td>...</td>\n",
       "    </tr>\n",
       "    <tr>\n",
       "      <th>117851</th>\n",
       "      <td>6071.00</td>\n",
       "      <td>6071.25</td>\n",
       "      <td>6067.50</td>\n",
       "      <td>6070.50</td>\n",
       "      <td>2025-02-10 09:45:00</td>\n",
       "      <td>1735</td>\n",
       "    </tr>\n",
       "    <tr>\n",
       "      <th>117852</th>\n",
       "      <td>6071.50</td>\n",
       "      <td>6073.50</td>\n",
       "      <td>6071.00</td>\n",
       "      <td>6071.25</td>\n",
       "      <td>2025-02-10 10:00:00</td>\n",
       "      <td>1732</td>\n",
       "    </tr>\n",
       "    <tr>\n",
       "      <th>117853</th>\n",
       "      <td>6073.00</td>\n",
       "      <td>6074.50</td>\n",
       "      <td>6071.00</td>\n",
       "      <td>6071.50</td>\n",
       "      <td>2025-02-10 10:15:00</td>\n",
       "      <td>2330</td>\n",
       "    </tr>\n",
       "    <tr>\n",
       "      <th>117854</th>\n",
       "      <td>6075.25</td>\n",
       "      <td>6077.00</td>\n",
       "      <td>6072.50</td>\n",
       "      <td>6073.25</td>\n",
       "      <td>2025-02-10 10:30:00</td>\n",
       "      <td>3078</td>\n",
       "    </tr>\n",
       "    <tr>\n",
       "      <th>117855</th>\n",
       "      <td>6074.75</td>\n",
       "      <td>6075.50</td>\n",
       "      <td>6074.25</td>\n",
       "      <td>6075.25</td>\n",
       "      <td>2025-02-10 10:45:00</td>\n",
       "      <td>1005</td>\n",
       "    </tr>\n",
       "  </tbody>\n",
       "</table>\n",
       "<p>117856 rows × 6 columns</p>\n",
       "</div>"
      ],
      "text/plain": [
       "          close     high      low     open            datetime  volume\n",
       "0       3327.00  3327.75  3325.75  3326.75 2020-02-10 11:00:00    4593\n",
       "1       3328.00  3328.25  3326.00  3327.25 2020-02-10 11:15:00    3200\n",
       "2       3328.25  3328.50  3326.00  3328.00 2020-02-10 11:30:00    2968\n",
       "3       3327.00  3328.25  3326.25  3328.25 2020-02-10 11:45:00    2182\n",
       "4       3325.00  3328.75  3323.00  3327.00 2020-02-10 12:00:00    7900\n",
       "...         ...      ...      ...      ...                 ...     ...\n",
       "117851  6071.00  6071.25  6067.50  6070.50 2025-02-10 09:45:00    1735\n",
       "117852  6071.50  6073.50  6071.00  6071.25 2025-02-10 10:00:00    1732\n",
       "117853  6073.00  6074.50  6071.00  6071.50 2025-02-10 10:15:00    2330\n",
       "117854  6075.25  6077.00  6072.50  6073.25 2025-02-10 10:30:00    3078\n",
       "117855  6074.75  6075.50  6074.25  6075.25 2025-02-10 10:45:00    1005\n",
       "\n",
       "[117856 rows x 6 columns]"
      ]
     },
     "execution_count": 27,
     "metadata": {},
     "output_type": "execute_result"
    }
   ],
   "source": [
    "df_15m = create_df_from_csv(timeFrameUsed=\"15m\", let_original_rangeTime=True)\n",
    "df_15m"
   ]
  },
  {
   "cell_type": "code",
   "execution_count": 28,
   "metadata": {},
   "outputs": [
    {
     "data": {
      "text/plain": [
       "datetime       0\n",
       "open        5033\n",
       "high        5033\n",
       "low         5033\n",
       "close       5033\n",
       "dtype: int64"
      ]
     },
     "execution_count": 28,
     "metadata": {},
     "output_type": "execute_result"
    }
   ],
   "source": [
    "df_15m_resampled = resample_data(df_15m, \"15min\")\n",
    "df_15m_resampled.isnull().sum()"
   ]
  },
  {
   "cell_type": "code",
   "execution_count": 29,
   "metadata": {},
   "outputs": [
    {
     "name": "stdout",
     "output_type": "stream",
     "text": [
      "⏱️ Timestamps avec NaN qui n'étaient PAS dans les données d'origine :\n",
      "                  datetime  open  high  low  close\n",
      "41     2020-02-10 21:15:00   NaN   NaN  NaN    NaN\n",
      "44     2020-02-10 22:00:00   NaN   NaN  NaN    NaN\n",
      "45     2020-02-10 22:15:00   NaN   NaN  NaN    NaN\n",
      "46     2020-02-10 22:30:00   NaN   NaN  NaN    NaN\n",
      "47     2020-02-10 22:45:00   NaN   NaN  NaN    NaN\n",
      "...                    ...   ...   ...  ...    ...\n",
      "122652 2025-02-05 22:45:00   NaN   NaN  NaN    NaN\n",
      "122745 2025-02-06 22:00:00   NaN   NaN  NaN    NaN\n",
      "122746 2025-02-06 22:15:00   NaN   NaN  NaN    NaN\n",
      "122747 2025-02-06 22:30:00   NaN   NaN  NaN    NaN\n",
      "122748 2025-02-06 22:45:00   NaN   NaN  NaN    NaN\n",
      "\n",
      "[5033 rows x 5 columns]\n"
     ]
    }
   ],
   "source": [
    "check_resample_null_values(df_original=df_15m, df_resampled=df_15m_resampled)"
   ]
  },
  {
   "cell_type": "code",
   "execution_count": 30,
   "metadata": {},
   "outputs": [
    {
     "data": {
      "text/html": [
       "<div>\n",
       "<style scoped>\n",
       "    .dataframe tbody tr th:only-of-type {\n",
       "        vertical-align: middle;\n",
       "    }\n",
       "\n",
       "    .dataframe tbody tr th {\n",
       "        vertical-align: top;\n",
       "    }\n",
       "\n",
       "    .dataframe thead th {\n",
       "        text-align: right;\n",
       "    }\n",
       "</style>\n",
       "<table border=\"1\" class=\"dataframe\">\n",
       "  <thead>\n",
       "    <tr style=\"text-align: right;\">\n",
       "      <th></th>\n",
       "      <th>datetime</th>\n",
       "      <th>open</th>\n",
       "      <th>high</th>\n",
       "      <th>low</th>\n",
       "      <th>close</th>\n",
       "    </tr>\n",
       "  </thead>\n",
       "  <tbody>\n",
       "    <tr>\n",
       "      <th>0</th>\n",
       "      <td>2020-02-10 11:00:00</td>\n",
       "      <td>3326.75</td>\n",
       "      <td>3327.75</td>\n",
       "      <td>3325.75</td>\n",
       "      <td>3327.00</td>\n",
       "    </tr>\n",
       "    <tr>\n",
       "      <th>1</th>\n",
       "      <td>2020-02-10 11:15:00</td>\n",
       "      <td>3327.25</td>\n",
       "      <td>3328.25</td>\n",
       "      <td>3326.00</td>\n",
       "      <td>3328.00</td>\n",
       "    </tr>\n",
       "    <tr>\n",
       "      <th>2</th>\n",
       "      <td>2020-02-10 11:30:00</td>\n",
       "      <td>3328.00</td>\n",
       "      <td>3328.50</td>\n",
       "      <td>3326.00</td>\n",
       "      <td>3328.25</td>\n",
       "    </tr>\n",
       "    <tr>\n",
       "      <th>3</th>\n",
       "      <td>2020-02-10 11:45:00</td>\n",
       "      <td>3328.25</td>\n",
       "      <td>3328.25</td>\n",
       "      <td>3326.25</td>\n",
       "      <td>3327.00</td>\n",
       "    </tr>\n",
       "    <tr>\n",
       "      <th>4</th>\n",
       "      <td>2020-02-10 12:00:00</td>\n",
       "      <td>3327.00</td>\n",
       "      <td>3328.75</td>\n",
       "      <td>3323.00</td>\n",
       "      <td>3325.00</td>\n",
       "    </tr>\n",
       "    <tr>\n",
       "      <th>...</th>\n",
       "      <td>...</td>\n",
       "      <td>...</td>\n",
       "      <td>...</td>\n",
       "      <td>...</td>\n",
       "      <td>...</td>\n",
       "    </tr>\n",
       "    <tr>\n",
       "      <th>122884</th>\n",
       "      <td>2025-02-10 09:45:00</td>\n",
       "      <td>6070.50</td>\n",
       "      <td>6071.25</td>\n",
       "      <td>6067.50</td>\n",
       "      <td>6071.00</td>\n",
       "    </tr>\n",
       "    <tr>\n",
       "      <th>122885</th>\n",
       "      <td>2025-02-10 10:00:00</td>\n",
       "      <td>6071.25</td>\n",
       "      <td>6073.50</td>\n",
       "      <td>6071.00</td>\n",
       "      <td>6071.50</td>\n",
       "    </tr>\n",
       "    <tr>\n",
       "      <th>122886</th>\n",
       "      <td>2025-02-10 10:15:00</td>\n",
       "      <td>6071.50</td>\n",
       "      <td>6074.50</td>\n",
       "      <td>6071.00</td>\n",
       "      <td>6073.00</td>\n",
       "    </tr>\n",
       "    <tr>\n",
       "      <th>122887</th>\n",
       "      <td>2025-02-10 10:30:00</td>\n",
       "      <td>6073.25</td>\n",
       "      <td>6077.00</td>\n",
       "      <td>6072.50</td>\n",
       "      <td>6075.25</td>\n",
       "    </tr>\n",
       "    <tr>\n",
       "      <th>122888</th>\n",
       "      <td>2025-02-10 10:45:00</td>\n",
       "      <td>6075.25</td>\n",
       "      <td>6075.50</td>\n",
       "      <td>6074.25</td>\n",
       "      <td>6074.75</td>\n",
       "    </tr>\n",
       "  </tbody>\n",
       "</table>\n",
       "<p>117856 rows × 5 columns</p>\n",
       "</div>"
      ],
      "text/plain": [
       "                  datetime     open     high      low    close\n",
       "0      2020-02-10 11:00:00  3326.75  3327.75  3325.75  3327.00\n",
       "1      2020-02-10 11:15:00  3327.25  3328.25  3326.00  3328.00\n",
       "2      2020-02-10 11:30:00  3328.00  3328.50  3326.00  3328.25\n",
       "3      2020-02-10 11:45:00  3328.25  3328.25  3326.25  3327.00\n",
       "4      2020-02-10 12:00:00  3327.00  3328.75  3323.00  3325.00\n",
       "...                    ...      ...      ...      ...      ...\n",
       "122884 2025-02-10 09:45:00  6070.50  6071.25  6067.50  6071.00\n",
       "122885 2025-02-10 10:00:00  6071.25  6073.50  6071.00  6071.50\n",
       "122886 2025-02-10 10:15:00  6071.50  6074.50  6071.00  6073.00\n",
       "122887 2025-02-10 10:30:00  6073.25  6077.00  6072.50  6075.25\n",
       "122888 2025-02-10 10:45:00  6075.25  6075.50  6074.25  6074.75\n",
       "\n",
       "[117856 rows x 5 columns]"
      ]
     },
     "execution_count": 30,
     "metadata": {},
     "output_type": "execute_result"
    }
   ],
   "source": [
    "df_15m_resampled.dropna(inplace=True)\n",
    "df_15m_resampled # le nombre de donnée des data 15min était déjà correct, pas besoin de resample à la base"
   ]
  },
  {
   "cell_type": "code",
   "execution_count": 32,
   "metadata": {},
   "outputs": [],
   "source": [
    "import matplotlib.pyplot as plt \n",
    "\n",
    "def plot_graph_of_df(df):\n",
    "    plt.figure(figsize=(16,12))\n",
    "    plt.plot(df['datetime'], df['close'], label='Prix de clôture', color='b')\n",
    "    plt.title('Courbe de Clôture du S&P 500', fontsize=14)\n",
    "    plt.xlabel('Date/Heure', fontsize=12)\n",
    "    plt.ylabel('Prix de Clôture', fontsize=12)\n",
    "    plt.xticks(rotation=45)\n",
    "    plt.grid(True)\n",
    "    plt.legend()\n",
    "    plt.tight_layout()"
   ]
  },
  {
   "cell_type": "code",
   "execution_count": 33,
   "metadata": {},
   "outputs": [
    {
     "data": {
      "image/png": "[encoded data removed]",
      "text/plain": [
       "<Figure size 1600x1200 with 1 Axes>"
      ]
     },
     "metadata": {},
     "output_type": "display_data"
    }
   ],
   "source": [
    "plot_graph_of_df(df_1m_resampled_and_processed)"
   ]
  }
 ],
 "metadata": {
  "kernelspec": {
   "display_name": "Python 3",
   "language": "python",
   "name": "python3"
  },
  "language_info": {
   "codemirror_mode": {
    "name": "ipython",
    "version": 3
   },
   "file_extension": ".py",
   "mimetype": "text/x-python",
   "name": "python",
   "nbconvert_exporter": "python",
   "pygments_lexer": "ipython3",
   "version": "3.13.0"
  }
 },
 "nbformat": 4,
 "nbformat_minor": 2
}
